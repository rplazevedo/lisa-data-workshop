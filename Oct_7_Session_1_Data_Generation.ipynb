{
 "cells": [
  {
   "cell_type": "markdown",
   "metadata": {
    "id": "Qrlh-O_Z34fu"
   },
   "source": [
    "# Data Generation and Analysis Workshop\n",
    "\n",
    "## Monday October 7, 2024 - Getting Started (1/2) - Data Generation\n",
    "\n",
    "**Objectives**: Learn how to use the time-domain simulation tools to generate a simple LDC-like dataset containing realistic instrumental noise and one MBHB signal.\n",
    "\n",
    "In the course of this session we will:\n",
    "\n",
    "1. Install the instrument simulator `LISA Instrument`, run a first simulation with default configuration and plot beatnote measurements.\n",
    "3. Install the TDI package `PyTDI`, compute $X,Y,Z$ from beatnote measurements and plot $X,Y,Z$ in the time and frequency domains.\n",
    "5. Compute the PSD using the Welch method, and discuss spectral estimation subtelties such as windowing, filtering, leakage.\n",
    "6. Install the orbit simulator `LISA Orbits`, generate analytical equal-arm orbits, and plot the light travel times (LTTs).\n",
    "7. Go back to `LISA Instrument`, set up a simulation with only laser, TM and OMS noise, and equal armelength orbits.\n",
    "8. Install the `LDC` package and generate MBHB time-domain strain.\n",
    "9. Install `LISA GW Response`, compute the link response.\n",
    "10. Pass the resulting GW file to `LISA Instrument` to run a noise and signal instrument simulation, then evaluate TDI combinations via `PyTDI`.\n",
    "10. Check the data against the noise model.\n",
    "\n",
    "*Authors: E. Castelli, M. Le Jeune, J.B. Bayle*"
   ]
  },
  {
   "cell_type": "markdown",
   "metadata": {
    "id": "FrGgHc4S5FdA"
   },
   "source": [
    "### 0. Requirements\n",
    "Import the required packages"
   ]
  },
  {
   "cell_type": "code",
   "execution_count": null,
   "metadata": {
    "id": "ggk5jhprzuWP"
   },
   "outputs": [],
   "source": [
    "# import system libraries\n",
    "import logging\n",
    "import sys\n",
    "# import scientific libraries\n",
    "import numpy as np\n",
    "import matplotlib.pyplot as plt\n",
    "import scipy.signal\n",
    "import h5py"
   ]
  },
  {
   "cell_type": "markdown",
   "metadata": {
    "id": "Ltr_5BBtjVrI"
   },
   "source": [
    "Most simulation packages have a logging system. We recommend to enable it to get important warnings or progress information."
   ]
  },
  {
   "cell_type": "code",
   "execution_count": 2,
   "metadata": {
    "id": "0Pr5JYAY3kan"
   },
   "outputs": [],
   "source": [
    "# set logging level to INFO (more verbose and informative)\n",
    "logging.basicConfig(stream=sys.stdout, level=logging.INFO)"
   ]
  },
  {
   "cell_type": "markdown",
   "metadata": {
    "id": "iH5JEM_S5Yp1"
   },
   "source": [
    "### 1. First basic simulation\n",
    "Install `LISA Instrument`, the instrument simulator of the LISA Simulation Suite, and run a first simulation with default configuration.\n",
    "\n",
    "#### 1.1 Install `LISA Instrument`\n",
    "Start by installing `lisainstrument` via `pip`. Every LISA Simulation Suite package can be `pip` installed like this:"
   ]
  },
  {
   "cell_type": "code",
   "execution_count": 3,
   "metadata": {
    "colab": {
     "base_uri": "https://localhost:8080/"
    },
    "id": "X8A4MpWQ6KjX",
    "outputId": "7e7aff4f-0814-4224-fa80-180633a4b3a3"
   },
   "outputs": [
    {
     "name": "stdout",
     "output_type": "stream",
     "text": [
      "Collecting lisainstrument\n",
      "  Downloading lisainstrument-1.7.3-py3-none-any.whl.metadata (5.2 kB)\n",
      "Requirement already satisfied: h5py in /usr/local/lib/python3.10/dist-packages (from lisainstrument) (3.12.1)\n",
      "Requirement already satisfied: numpy in /usr/local/lib/python3.10/dist-packages (from lisainstrument) (1.26.4)\n",
      "Requirement already satisfied: scipy in /usr/local/lib/python3.10/dist-packages (from lisainstrument) (1.13.1)\n",
      "Requirement already satisfied: matplotlib in /usr/local/lib/python3.10/dist-packages (from lisainstrument) (3.8.0)\n",
      "Collecting lisaconstants (from lisainstrument)\n",
      "  Downloading lisaconstants-1.3.6-py3-none-any.whl.metadata (3.8 kB)\n",
      "Requirement already satisfied: packaging in /usr/local/lib/python3.10/dist-packages (from lisainstrument) (24.2)\n",
      "Requirement already satisfied: importlib-metadata in /usr/local/lib/python3.10/dist-packages (from lisainstrument) (8.5.0)\n",
      "Requirement already satisfied: zipp>=3.20 in /usr/local/lib/python3.10/dist-packages (from importlib-metadata->lisainstrument) (3.20.2)\n",
      "Requirement already satisfied: contourpy>=1.0.1 in /usr/local/lib/python3.10/dist-packages (from matplotlib->lisainstrument) (1.3.0)\n",
      "Requirement already satisfied: cycler>=0.10 in /usr/local/lib/python3.10/dist-packages (from matplotlib->lisainstrument) (0.12.1)\n",
      "Requirement already satisfied: fonttools>=4.22.0 in /usr/local/lib/python3.10/dist-packages (from matplotlib->lisainstrument) (4.54.1)\n",
      "Requirement already satisfied: kiwisolver>=1.0.1 in /usr/local/lib/python3.10/dist-packages (from matplotlib->lisainstrument) (1.4.7)\n",
      "Requirement already satisfied: pillow>=6.2.0 in /usr/local/lib/python3.10/dist-packages (from matplotlib->lisainstrument) (11.0.0)\n",
      "Requirement already satisfied: pyparsing>=2.3.1 in /usr/local/lib/python3.10/dist-packages (from matplotlib->lisainstrument) (3.2.0)\n",
      "Requirement already satisfied: python-dateutil>=2.7 in /usr/local/lib/python3.10/dist-packages (from matplotlib->lisainstrument) (2.8.2)\n",
      "Requirement already satisfied: six>=1.5 in /usr/local/lib/python3.10/dist-packages (from python-dateutil>=2.7->matplotlib->lisainstrument) (1.16.0)\n",
      "Downloading lisainstrument-1.7.3-py3-none-any.whl (38 kB)\n",
      "Downloading lisaconstants-1.3.6-py3-none-any.whl (17 kB)\n",
      "Installing collected packages: lisaconstants, lisainstrument\n",
      "Successfully installed lisaconstants-1.3.6 lisainstrument-1.7.3\n"
     ]
    }
   ],
   "source": [
    "!pip install lisainstrument"
   ]
  },
  {
   "cell_type": "markdown",
   "metadata": {
    "id": "PQC35MHI3wfT"
   },
   "source": [
    "Import the `Instrument` class from the `lisainstrument` package.\n",
    "\n",
    "An instance of this class represent a specific instrumental setup (noise parameters, instrumental assumptions such as orbits, injections, etc.), as well as simulation parameters (such as the sampling rate or the duration of the simulation)."
   ]
  },
  {
   "cell_type": "code",
   "execution_count": 4,
   "metadata": {
    "id": "ZoPRUBWd32oJ"
   },
   "outputs": [],
   "source": [
    "from lisainstrument import Instrument"
   ]
  },
  {
   "cell_type": "markdown",
   "metadata": {
    "id": "tUzO8PMc4XZt"
   },
   "source": [
    "#### 1.2 Run first simulation with default configuration\n",
    "\n",
    "By default, the simulation is performed with the following settings:\n",
    "\n",
    "*   All instrumental noises are enabled with default values based on the perfomance model (warning: some noises are not up to date, or have simplified models)\n",
    "* No GWs and no glitches\n",
    "* No orbit file is used, armlengths are set to constant values based on a fit to Keplerian orbits\n",
    "* Frequency offsets are set to constant values as well\n",
    "\n",
    "✅ Instantiate an `Instrument` object with a `size` of  `simlen = 100000` samples. Let's call this instance of the `Instrument` class something easy to remember, like `instr`.\n",
    "\n",
    "✅ Pass to the `instr` instance the keyword argument `lock = 'six'`, in order to set up the laser locking configuration to 6 lasers. We will talk more about laser locking in \"Simulation in depth\"; what you have to know is that by default, laser noises are correlated between different spacecraft and for a simple simulation, we don't want that (we want six uncorrelated laser noisetime series).\n",
    "\n",
    "✅ Run a simulation with default parameters by running the `instr.simulate()` method of the `Instrument` class with no arguments.\n",
    "\n",
    "✅ Write it to file with the `instr.write(path)` method."
   ]
  },
  {
   "cell_type": "code",
   "execution_count": null,
   "metadata": {
    "id": "wWQ4ZBAG354X"
   },
   "outputs": [],
   "source": [
    "# it's useful to set up the simulation length as a variable\n",
    "# we'll access it throughout the entire notebook\n",
    "# simlen = 100000\n",
    "\n",
    "# use this cell to comlpete your tasks\n"
   ]
  },
  {
   "cell_type": "markdown",
   "metadata": {
    "id": "A-5ETO9TOyFR"
   },
   "source": [
    "Simulation files are written to the [HDF5](https://docs.hdfgroup.org/hdf5/v1_14/_intro_h_d_f5.html) (Hierarchical Data Format) file format, designed to store and organize large amounts of data. Think of HDF5 data as a filesystem: datasets are organized in groups and subgroups, and metadata is stored in the form of user-defined, named attributes attached to groups and datasets.\n",
    "\n",
    "Note also that the results of the simulation are also stored in memory. They can be accessed from the `instr` object (in addition to being readable from the HDF5 file).\n",
    "\n",
    "Simulation parameters and metadata are also stored."
   ]
  },
  {
   "cell_type": "markdown",
   "metadata": {
    "id": "XbzflpCf4QAx"
   },
   "source": [
    "✅ Take a look at the simulation sampling rate and duration by accessing the `instr.fs`, `instr.duration` and `instr.central_freq` attributes. You can access all the simulation attributes in a similar way."
   ]
  },
  {
   "cell_type": "code",
   "execution_count": null,
   "metadata": {
    "id": "iVMsy10Femhu"
   },
   "outputs": [],
   "source": [
    "# print('Sampling rate:', instr.fs, 'Hz')\n",
    "\n",
    "# print(...)"
   ]
  },
  {
   "cell_type": "markdown",
   "metadata": {
    "id": "FHe-559Q4m3W"
   },
   "source": [
    "#### 1.3 Plot beatnotes\n",
    "\n",
    "The main simulation results are the carrier interferometric beatnotes. One `Instrument` object provides three datasets for each beatnote:\n",
    "\n",
    "* `fluctuations`, which are small in-band frequency fluctuations (~100 Hz),\n",
    "* `offsets`, which are large, out-of-band frequency offsets (~10 MHz),\n",
    "* `totals`, that is the sum of fluctuations and offsets (no subscript), which represents the instantaneous frequency of the beatnote.\n",
    "\n",
    "Note that the division in fluctuations and offsets is entirely artificial. It allows simplified studies with higher numerical precision to, for example, study small noise residuals after TDI. In reality, we will only have access to the total frequency (or total phase) of the beatnotes.\n",
    "\n",
    "LISA Instrument provides a number of convenient methods for plotting the different beatnote components: `instr.plot_fluctuations()`, `instr.plot_offsets()` and `instr.plot_totals()`.\n",
    "\n",
    "✅ Use all three plotting methods for plotting and compare the results (pay attention to the amplitude of each plot).\n",
    "\n",
    "⚠️ Remember to skip a few hundred samples at the beginning of the simulation by passing the keyword argument `skip = nsamples` to each function. This is because the simulation uses a number of digital filters, which need some warmup time (to reach the steady state). The first samples of a simulation are always invalid."
   ]
  },
  {
   "cell_type": "code",
   "execution_count": null,
   "metadata": {
    "id": "q6XJKsk84AaW"
   },
   "outputs": [],
   "source": [
    "# Plot the different beatnote components\n",
    "# Skip some samples to account for warm-up times of filters etc.\n",
    "\n"
   ]
  },
  {
   "cell_type": "markdown",
   "metadata": {
    "id": "-PutxwL440aM"
   },
   "source": [
    "### 2. Evaluate time-delay interferometry (TDI)\n",
    "\n",
    "Install `PyTDI` and compute 2nd generation TDI combinations $X$,$Y$,$Z$ from beatnote measurements.\n",
    "\n",
    "TDI is necessary to remove the overwhelming laser noise."
   ]
  },
  {
   "cell_type": "markdown",
   "metadata": {
    "id": "Z9M81eBM7j-m"
   },
   "source": [
    "#### 2.1 Install `pytdi` via `pip`"
   ]
  },
  {
   "cell_type": "code",
   "execution_count": null,
   "metadata": {
    "id": "doQeDgI34DkJ"
   },
   "outputs": [],
   "source": [
    "!pip install pytdi"
   ]
  },
  {
   "cell_type": "markdown",
   "metadata": {
    "id": "9vwO2pn67nPb"
   },
   "source": [
    "#### 2.2 Import relevant `pytdi` classes\n",
    "\n",
    "📚 [`PyTDI` documentation is available here](https://lisa.pages.in2p3.fr/LDPG/wg6_inrep/pytdi/master/).\n",
    "\n",
    "From `pytdi` we import the `Data` class, needed to load the simulation data, and the TDI second generation Michelson combinations, X, Y and Z: they're named `X2`, `Y2`, `Z2` to distinguish them from the first generation Michelson combinations `X1`, `Y1`, `Z1`."
   ]
  },
  {
   "cell_type": "code",
   "execution_count": null,
   "metadata": {
    "id": "5Nw2opR_46fw"
   },
   "outputs": [],
   "source": [
    "from pytdi import Data\n",
    "from pytdi.michelson import X2, Y2, Z2"
   ]
  },
  {
   "cell_type": "markdown",
   "metadata": {
    "id": "yOa05rUt7WJS"
   },
   "source": [
    "#### 2.3 Compute X, Y, Z in the time domain\n",
    "\n",
    "✅  Load the simulation data. This can be achieved by passing to the `Data.from_instrument()` method either a `lisainstrument.Instrument` object like the `instr` instance we created before, or a measurement HDF5 file produced with LISA Instrument and saved to disk, like the `basic-simulation.h5` file we just created.\n",
    "\n",
    "```python\n",
    "from pytdi import Data\n",
    "from lisainstrument import Instrument\n",
    "\n",
    "instru = Instrument(...)\n",
    "instru.simulate()\n",
    "data = Data.from_instrument(instru)\n",
    "```\n",
    "or\n",
    "```python\n",
    "from pytdi import Data\n",
    "from lisainstrument import Instrument\n",
    "\n",
    "instru = Instrument(...)\n",
    "instru.simulate()\n",
    "instr.write('measurements.h5', skipped=200)\n",
    "\n",
    "data = Data.from_instrument('measurements.h5')\n",
    "```\n",
    "\n",
    "📚 [`Data.from_instrument()` documentation](https://lisa.pages.in2p3.fr/LDPG/wg6_inrep/pytdi/master/quickstart.html#data-from-lisa-instrument)"
   ]
  },
  {
   "cell_type": "code",
   "execution_count": null,
   "metadata": {
    "id": "Fz-L51xG5Cvr"
   },
   "outputs": [],
   "source": [
    "# data = Data.from_instrument(...)\n",
    "\n"
   ]
  },
  {
   "cell_type": "markdown",
   "metadata": {
    "id": "rUZRnzii6OVE"
   },
   "source": [
    "After loading the simulation data, we need to build  and evaluate the TDI combination.\n",
    "\n",
    "\n",
    "📚 [Building and evaluating a TDI combination](https://lisa.pages.in2p3.fr/LDPG/wg6_inrep/pytdi/master/quickstart.html#using-standard-combinations)\n",
    "\n",
    "✅ Build each combination via the `X2.build()` method using `**data.args` as an argument, generating a callable object. The `build()` method works analogously for `Y2`, `Z2` and all the other TDI combinations.\n"
   ]
  },
  {
   "cell_type": "code",
   "execution_count": null,
   "metadata": {
    "id": "tgYNsXgv7Gfw"
   },
   "outputs": [],
   "source": [
    "# build the TDI combinations for X, Y and Z\n",
    "\n",
    "# X_built = X2.build(**data.args)\n",
    "# Y_built =\n",
    "# Z_built ="
   ]
  },
  {
   "cell_type": "markdown",
   "metadata": {
    "id": "-8PfdQ4e-L0d"
   },
   "source": [
    "✅ Evaluate the built combination on the dictionary of simulation measurement beatnotes contained in the `data` object: `data.measurements`.\n",
    "\n",
    "✅ Remember to divide the final TDI combination by the LISA laser central frequency $f_\\text{central} = 2.816 \\times 10^{14}$ Hz to recover the adimensional (strain) TDI amplitude from the frequency-unit beatnotes. You can access this central frequency through your instrument instance `instr`."
   ]
  },
  {
   "cell_type": "code",
   "execution_count": null,
   "metadata": {
    "id": "FK0LXWh_5KMs"
   },
   "outputs": [],
   "source": [
    "# evaluate the TDI combination you just built on the measurement data\n",
    "\n",
    "# X = X_built()\n",
    "# Y =\n",
    "# Z ="
   ]
  },
  {
   "cell_type": "markdown",
   "metadata": {
    "id": "NkavH_S--SgP"
   },
   "source": [
    "✅ Plot the TDI combinations time-series. Remember to skip the same initial couple hundred samples, to avoid edge effects."
   ]
  },
  {
   "cell_type": "code",
   "execution_count": null,
   "metadata": {
    "id": "jt3dBEFv5ZRq"
   },
   "outputs": [],
   "source": [
    "# plot here"
   ]
  },
  {
   "cell_type": "markdown",
   "metadata": {
    "id": "a54QspO57uxu"
   },
   "source": [
    "#### 2.5 Compute X, Y, Z in the frequency domain"
   ]
  },
  {
   "cell_type": "markdown",
   "metadata": {
    "id": "uWF1jpEcao_B"
   },
   "source": [
    "Compute the Power Spectral Density (PSD), discuss spectral estimation, windowing, filtering, spectral leakage.\n"
   ]
  },
  {
   "cell_type": "markdown",
   "metadata": {
    "id": "JaTpseuJiI8h"
   },
   "source": [
    "The Power Spectral Density (PSD) is the Fourier Transform of the autocorrelation of your signal, and it is numerically estimated via Discrete Fourier Transform methods.\n",
    "\n",
    "We will be estimating the PSD via Welch periodogram method, implemented in `scipy.signal.welch`. The basic principle of the Welch method is to split your timeseries data into overlapping segments of length `nperseg`, apply a spectral window to each each segment, evaluate the periodogram of each segment and then average the result.\n",
    "\n",
    "![estimation.png](data:image/png;base64,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)"
   ]
  },
  {
   "cell_type": "markdown",
   "metadata": {
    "id": "9N3lULrpA9f3"
   },
   "source": [
    "\n",
    "✅ Compute the PSD using `scipy.signal.welch` for all three TDI combinations.\n",
    "\n",
    "📚 [`scipy.signal.welch` documentation](https://docs.scipy.org/doc/scipy/reference/generated/scipy.signal.welch.html)\n",
    "\n",
    "\n",
    "*   ✅ Use the instrumental simulation sampling frequency `instr.fs`, and set the length of each averaging segment `nperseg` to the length of the TDI combination to use.\n",
    "\n",
    "* ✅ Remember to skip the first few hundred samples of your data to avoid edge effects.\n",
    "\n",
    "⚠️ Again, TDI combinations are computed from digital filters, which need to be initialized. Always trim initial TDI samples.\n",
    "\n",
    "\n"
   ]
  },
  {
   "cell_type": "code",
   "execution_count": null,
   "metadata": {
    "id": "W9n4B7uH50rC"
   },
   "outputs": [],
   "source": [
    "# f, psd_X2 = scipy.signal.welch( ... ,\n",
    "#                                fs= ... ,\n",
    "#                                nperseg= ...\n",
    "#                                )\n",
    "\n",
    "# f, psd_Y2 =\n",
    "\n",
    "\n",
    "\n",
    "# f, psd_Z2 ="
   ]
  },
  {
   "cell_type": "markdown",
   "metadata": {
    "id": "8aKAOeaIi6MJ"
   },
   "source": [
    "Usually we prefer to deal with the square root of the PSD, the Amplitude Spectral Density (ASD).\n",
    "\n",
    "✅ Plot the ASDs of TDI combinations $X, Y, Z$ using the `plt.loglog()` method."
   ]
  },
  {
   "cell_type": "code",
   "execution_count": null,
   "metadata": {
    "id": "tEzD3EN9iCd_"
   },
   "outputs": [],
   "source": [
    "# plot here"
   ]
  },
  {
   "cell_type": "markdown",
   "metadata": {
    "id": "bnwA73mpjKlK"
   },
   "source": [
    "The default spectral window used by the `scipy.signal.welch()` method is `window='hann'`. Spectral leakage can be suppressed via adequate spectral windows, depending on your needs.\n",
    "\n",
    "✅ Plot the PSD of X, Y and Z again by providing different `window` options to `scipy.signal.welch()`:\n",
    "\n",
    "*   First try the `'boxcar'` window. What do you see?\n",
    "*   Then try the `'blackman'` window. How is it different from the previous cases?\n",
    "\n"
   ]
  },
  {
   "cell_type": "code",
   "execution_count": null,
   "metadata": {
    "id": "ODrozfGn6MvW"
   },
   "outputs": [],
   "source": [
    "# evaluate and plot here"
   ]
  },
  {
   "cell_type": "code",
   "execution_count": null,
   "metadata": {
    "id": "RzF9pAaIkSiC"
   },
   "outputs": [],
   "source": [
    "# evaluate and plot here"
   ]
  },
  {
   "cell_type": "markdown",
   "metadata": {
    "id": "29cPQoxk774H"
   },
   "source": [
    "### 3. Add the LISA orbits\n",
    "Install `LISA Orbits`, generate equal-arm orbits, plot light travel times (LTTs)\n"
   ]
  },
  {
   "cell_type": "markdown",
   "metadata": {
    "id": "2d_YbQAPBH41"
   },
   "source": [
    "#### 3.1 Install `lisaorbits` via `pip`"
   ]
  },
  {
   "cell_type": "code",
   "execution_count": null,
   "metadata": {
    "id": "ZG4uBL9V8Bb_"
   },
   "outputs": [],
   "source": [
    "!pip install lisaorbits"
   ]
  },
  {
   "cell_type": "markdown",
   "metadata": {
    "id": "T1Q0lCLtqCRO"
   },
   "source": [
    "By default, LISA Instrument uses a very simple model with static PPRs. More realistic orbits are provided as orbit files computed by LISA Orbits.\n",
    "\n",
    "📚 Go to https://gitlab.in2p3.fr/lisa-simulation/orbits/-/releases to access automatically generated orbit files from the latest released version of LISA Orbits (v1.0.2).\n",
    "\n",
    "In this version, three sets of files are available:\n",
    "\n",
    "* Equal armlength orbits\n",
    "* Keplerian orbits\n",
    "* ESA orbits\n",
    "\n",
    "📚 [LISA Orbits documentation](https://lisa-simulation.pages.in2p3.fr/orbits/htlm/latest/index.html).\n",
    "\n",
    "We will use the `EqualArmlengthOrbits`, which are computed assuming that LISA has equal laser armlengths.\n",
    "\n"
   ]
  },
  {
   "cell_type": "code",
   "execution_count": null,
   "metadata": {
    "id": "TarAKkPxmhCB"
   },
   "outputs": [],
   "source": [
    "from lisaorbits import EqualArmlengthOrbits"
   ]
  },
  {
   "cell_type": "markdown",
   "metadata": {
    "id": "u-zlBN74Bkwm"
   },
   "source": [
    "#### 3.2 Generate Equal Arm orbits\n",
    "\n",
    "✅ Create an instance of `EqualArmlengthOrbits()` and call it something easy to remember, like `orbits`\n",
    "\n",
    "✅ Write it to file using the `orbits.write(path)` method.\n",
    "\n"
   ]
  },
  {
   "cell_type": "code",
   "execution_count": null,
   "metadata": {
    "id": "m-X1hOKJqj7P"
   },
   "outputs": [],
   "source": [
    "# orbits here"
   ]
  },
  {
   "cell_type": "markdown",
   "metadata": {
    "id": "ow_Gq8_qB13a"
   },
   "source": [
    "#### 3.3 Plot the orbits light travel times (LTTs)\n",
    "\n",
    "✅ Plot the orbits instance using the `orbits.plot_links(t)` method. Remember to choose an appropriate time vector `t`: you can access the instrumental simulation time vector via `instr.t`"
   ]
  },
  {
   "cell_type": "code",
   "execution_count": null,
   "metadata": {
    "id": "vU2qtUVtB2Qr"
   },
   "outputs": [],
   "source": [
    "# plot orbits here"
   ]
  },
  {
   "cell_type": "markdown",
   "metadata": {
    "id": "9QgLaKtS8B2_"
   },
   "source": [
    "### 4. Run slightly more complex simulation\n",
    "\n",
    "Go back to `LISA Instrument`, set up a simulation with only laser, TM and OMS noise, fixed"
   ]
  },
  {
   "cell_type": "markdown",
   "metadata": {
    "id": "z9nUEOWPo0Ly"
   },
   "source": [
    "#### 4.1 Tuning parameters of the simulation\n",
    "\n",
    "Most simulation parameters, such as noise levels, path to external files, etc., can be set as optional arguments when instantiating the `Instrument`object.\n",
    "\n",
    "⚠️ To use the orbit file, just pass the path to your orbit file as the `orbits` argument to an `Instrument` object. By default, LISA Instrument then loads the proper pseudo ranges and their derivatives (`ppr` and `d_ppr` datasets), which are the appropriate delays and delay derivatives to relate the different spacecraft proper times.\n",
    "\n",
    "✅ Instantiate a new `Instrument` object and pass it the orbit file `orbits = 'orbits.h5'`.\n",
    "* ✅ pass to the `instr` instance the keyword argument `lock = 'six'`, in order to set up the laser locking configuration to 6 lasers."
   ]
  },
  {
   "cell_type": "code",
   "execution_count": null,
   "metadata": {
    "id": "sg84sb8hmgUQ"
   },
   "outputs": [],
   "source": [
    "# instantiate instrument object here"
   ]
  },
  {
   "cell_type": "markdown",
   "metadata": {
    "id": "LHJ09O4fClWb"
   },
   "source": [
    "\n",
    "In addition, LISA Instrument contains a number of convenience function to disable all noise sources of a common group after the Instrument has been instantiated:\n",
    "\n",
    "* `instru.disable_clock_noises()` disables all instrumental clock imperfections\n",
    "* `instru.disable_pathlength_noises()` disables all OMS, TM and backlink noises\n",
    "* `instru.disable_ranging_noises()` disables ranging noise in the mprs (note: clock_noise will still appear in the mprs unless explicitly disabled as well).\n",
    "* `instru.disable_jitters()` disables all spacecraft angular jitters\n",
    "\n",
    "Note that not all noises fall in these four groups, such that calling these four functions will not disable all noises. This can be achieved with a dedicated function `instru.disable_all_noises()`, which has an optional argument to keep only a single group of noises enabled.\n",
    "\n",
    "⚠️ **Syntax change from previous versions**\n",
    "* For example, `instru.disable_all_noises(excluding='laser')` disables all noises except laser frequency noise.  All of these functions are defined in the file `instrument.py`. When in doubt, take a look inside to check which noises are turned off by each of them!\n",
    "\n",
    "Note that LISA Instrument is written in such a way that disabling noises completely bypasses their generation, drastically improving execution speed. This can be very convenient for quick, simple studies."
   ]
  },
  {
   "cell_type": "markdown",
   "metadata": {
    "id": "MLF30MQZDQCg"
   },
   "source": [
    "**Lets run another simulation, just as we did in section 1.2**\n",
    "\n",
    "✅ Disable all noises apart for `'laser'`, `'test-mass'` and `'oms'` noise\n",
    "\n",
    "✅ Run the simulation\n",
    "\n",
    "✅ Write it to file"
   ]
  },
  {
   "cell_type": "code",
   "execution_count": null,
   "metadata": {
    "id": "Kvkqj_kFCoQp"
   },
   "outputs": [],
   "source": []
  },
  {
   "cell_type": "markdown",
   "metadata": {
    "id": "2qbI_OhvG0ip"
   },
   "source": [
    "✅ Plot the beatnote fluctuations"
   ]
  },
  {
   "cell_type": "code",
   "execution_count": null,
   "metadata": {
    "id": "m9dCpzM78Efl"
   },
   "outputs": [],
   "source": []
  },
  {
   "cell_type": "markdown",
   "metadata": {
    "id": "CwEgZfb7Ujd1"
   },
   "source": [
    "#### 4.2 Load the LISA noise model and compare it to the simulation\n",
    "\n",
    "Install the LISA Data Challenge `LDC` package and load the LISA noise model"
   ]
  },
  {
   "cell_type": "code",
   "execution_count": null,
   "metadata": {
    "id": "IrhVZAdtU_6d"
   },
   "outputs": [],
   "source": [
    "# requirements for the lisa-data-challenge package\n",
    "!apt-get install libgsl-dev\n",
    "!apt-get install libfftw3-dev\n",
    "# LDC package\n",
    "!pip install lisa-data-challenge"
   ]
  },
  {
   "cell_type": "markdown",
   "metadata": {
    "id": "XeDPTm7ZU_6e"
   },
   "source": [
    "Documentation:\n",
    "\n",
    "* 📚 LDC software documentation can be found [here](https://lisa.pages.in2p3.fr/LDC/).\n",
    "* 📚 LDC convention and data documentation can be found [here](https://lisa-ldc.lal.in2p3.fr/)\n",
    "\n",
    "Let's import the `ldc` module to get the LISA noise model."
   ]
  },
  {
   "cell_type": "code",
   "execution_count": null,
   "metadata": {
    "id": "2WRnYQDY8Qvh"
   },
   "outputs": [],
   "source": [
    "# import noise model from the LDC?\n",
    "from ldc.lisa.noise import get_noise_model"
   ]
  },
  {
   "cell_type": "markdown",
   "metadata": {
    "id": "EWx5l3GZLEuF"
   },
   "source": [
    "✅ Generate the TDI LISA noise model from the LDC method `get_noise_model(model (str), freqs (array))` with `model` set to `'sangria'` and the same frequency vector obtained from the `scipy.signal.welch` evaluation of the TDI noise spectra.\n",
    "\n",
    "📚 [Documentation for `get_noise_model()`](https://lisa.pages.in2p3.fr/LDC/lisa.html#ldc.lisa.noise.noise.get_noise_model)"
   ]
  },
  {
   "cell_type": "code",
   "execution_count": null,
   "metadata": {
    "id": "BZmbvkG7J91o"
   },
   "outputs": [],
   "source": [
    "LISAnoisemodel = get_noise_model('sangria', f)"
   ]
  },
  {
   "cell_type": "markdown",
   "metadata": {
    "id": "8iomJTQ-KElq"
   },
   "source": [
    "✅ Evaluate the noise model PSD. The output of `get_noise_model()` is an `AnalyticNoise` object. To evaluate the PSD, you can call the `.psd()` method with the following args and kwargs:\n",
    "```\n",
    "AnalyticNoise.psd(f, option=\"X\", tdi2=True, equal_arms=True)\n",
    "```\n",
    "* `option=\"X\"` holds for TDI combinations $X$, $Y$ and $Z$\n",
    "* `tdi2=True` needs to be specified because the default ooption is `False`\n",
    "* `equal_arms=True` is the default option, and it holds in our case because we are using `EqualArmlengthOrbits`"
   ]
  },
  {
   "cell_type": "code",
   "execution_count": null,
   "metadata": {
    "id": "O9PxHbISCtM1"
   },
   "outputs": [],
   "source": [
    "# LISAnoisepsd = LISAnoisemodel.psd(\n",
    "#\n",
    "#                                   )"
   ]
  },
  {
   "cell_type": "markdown",
   "metadata": {
    "id": "Ye-PwUaP8kfG"
   },
   "source": [
    "✅ Load the data using the `pytdi` method `Data.from_Instrument(path)`.\n",
    "\n",
    "✅ Build and evaluate the TDI response to the noise simulation. Label the $X, Y, Z$ combinations evaluated here with `_noise` or an analogous label (we'll need these later!)"
   ]
  },
  {
   "cell_type": "code",
   "execution_count": null,
   "metadata": {
    "id": "vcPHCS7fJ84O"
   },
   "outputs": [],
   "source": [
    "# give noise file to pytdi\n"
   ]
  },
  {
   "cell_type": "code",
   "execution_count": null,
   "metadata": {
    "id": "ygFxpqKRJ86q"
   },
   "outputs": [],
   "source": [
    "# plot"
   ]
  },
  {
   "cell_type": "code",
   "execution_count": null,
   "metadata": {
    "id": "qSQNyy3zJ93z"
   },
   "outputs": [],
   "source": [
    "# evaluate PSD with welch"
   ]
  },
  {
   "cell_type": "code",
   "execution_count": null,
   "metadata": {
    "id": "JTE4nR9NJ96F"
   },
   "outputs": [],
   "source": [
    "# plot"
   ]
  },
  {
   "cell_type": "markdown",
   "metadata": {
    "id": "6lMEMuLu8E-X"
   },
   "source": [
    "### 5. Add Gravitational Waves\n",
    "\n",
    "\n",
    "#### 5.1 Generate the GW strain\n",
    "Use the `LDC` package to generate MBHB time-domain strain: import the `ldc` module to generate the gravitational wave waveform ($h_+,h_\\times$) `HpHc`."
   ]
  },
  {
   "cell_type": "code",
   "execution_count": null,
   "metadata": {
    "id": "YST0XOqbu5JP"
   },
   "outputs": [],
   "source": [
    "from ldc.waveform.waveform import HpHc"
   ]
  },
  {
   "cell_type": "markdown",
   "metadata": {
    "id": "okTE95fLHBXX"
   },
   "source": [
    "Let's define a dictionary of the Massive Black Hole Binary parameters we'll use to generate the GW strain. These parameters come from a MBHB source injected in the LDC *Sangria* dataset."
   ]
  },
  {
   "cell_type": "code",
   "execution_count": null,
   "metadata": {
    "id": "ktJaQjBju9IL"
   },
   "outputs": [],
   "source": [
    "pMBHB = {'EclipticLatitude': -0.30300442294174235,\n",
    " 'EclipticLongitude': 1.2925183861048521,\n",
    " 'PolarAngleOfSpin1': 1.2031361791056812,\n",
    " 'PolarAngleOfSpin2': 2.097303543065685,\n",
    " 'Spin1': 0.747377,\n",
    " 'Spin2': 0.8388,\n",
    " 'Mass1': 1323277.47932,\n",
    " 'Mass2': 612485.5060299999,\n",
    " 'CoalescenceTime': 11526944.921879262,\n",
    " 'PhaseAtCoalescence': 1.2201968860015653,\n",
    " 'InitialPolarAngleL': 2.6919824500032945,\n",
    " 'InitialAzimuthalAngleL': 1.808398497592109,\n",
    " 'Redshift': 1.73941,\n",
    " 'Distance': 13449.011,\n",
    " 'ObservationDuration': 31558149.763545603,\n",
    " 'Cadence': 3.0}"
   ]
  },
  {
   "cell_type": "markdown",
   "metadata": {
    "id": "SfQcEt4iu8n9"
   },
   "source": [
    "Look at the below code snippet example from the `HpHc` documentation linked here:\n",
    "\n",
    "📚 [Documentation for `HpHc`](https://lisa.pages.in2p3.fr/LDC/waveform.html#module-ldc.waveform.waveform.hphc)\n",
    "\n",
    "```python\n",
    ">>> HpHc = HpHc.type(\"demo\", \"GB\", \"None\"):\n",
    ">>> HpHc.set_param(pGB)\n",
    ">>> HpHc.display()\n",
    "\n",
    "Source parameters:\n",
    "Amplitude : 1.07345e-22  [ 1 ]\n",
    "EclipticLatitude : 0.312414  [ rad ]\n",
    "EclipticLongitude : -2.75291  [ rad ]\n",
    "Frequency : 0.00135962  [ Hz ]\n",
    "FrequencyDerivative : 8.94581279e-19  [ Hz2 ]\n",
    "Inclination : 0.523599  [ rad ]\n",
    "InitialPhase : 3.0581565  [ rad ]\n",
    "Polarization : 3.5621656  [ rad ]\n",
    "Internal parameters:\n",
    "- cos(inc)  = 0.8660252915835662 rad\n",
    "```\n",
    "\n",
    "The `hphc` instance can be declared with the `HpHc.type(source_name, source_type, approximant)` method:\n",
    "* `source_name (str)` is the name you give to the source\n",
    "* `source_type (str)` is the type of source you want to declare: it can be `MBHB`, `SBHB`, `GB`, `SOBHB` or `EMRI`\n",
    "* `approximant (str)` is the waveform approximant used here: it can be `IMRPhenomD` for the BHB classes and it can be `AK` or `FSEF` for EMRIs.\n",
    "\n",
    "Compute the waveform ($h_+,h_\\times$) with the LDC package:\n",
    "\n",
    "✅ Create an instance of `HpHc` using `HpHc.type()`, with an MBHB source with the IMRPhenomD approximant\n",
    "\n",
    "✅ Use the `HpHc.set_param()` method to set the MBHB parameters `pMBHB`\n",
    "\n",
    "✅ Create a time vector array `t` of appropriate length (hint: set it from `0` to some time after the MBHB `CoalescenceTime`)\n",
    "\n",
    "✅ Compute the time-domain ($h_+,h_\\times$) using method `_, _ = hphc.compute_hphc_td(t)` to get two separate `hp`, `hc` objects\n",
    "\n"
   ]
  },
  {
   "cell_type": "code",
   "execution_count": null,
   "metadata": {
    "id": "2uwWuyd0vH2A"
   },
   "outputs": [],
   "source": [
    "# hphc = HpHc.type(..., ..., ...)\n",
    "\n",
    "# hphc.set_param(pMBHB)\n",
    "\n",
    "# dt = 0.25\n",
    "# t = np.arange(... , ..., dt)\n",
    "\n",
    "# hp, hc = hphc.compute_hphc_td(t)"
   ]
  },
  {
   "cell_type": "markdown",
   "metadata": {
    "id": "bjI-2wttvHQN"
   },
   "source": [
    "✅ Plot the $h_+, h_\\times$ strain timeseries `hp`, `hc`. Limit th plot to the last 100000 samples of the array (we're only interested in the final part of the merger)"
   ]
  },
  {
   "cell_type": "code",
   "execution_count": null,
   "metadata": {
    "id": "EFYo1wZsvJ0X"
   },
   "outputs": [],
   "source": []
  },
  {
   "cell_type": "markdown",
   "metadata": {
    "id": "m_Xan3Pg8IhN"
   },
   "source": [
    "#### 5.2 Evaluate the GW response\n",
    "Install `LISA GW Response`, compute link response, pass it to `Instrument`, then `PyTDI`"
   ]
  },
  {
   "cell_type": "code",
   "execution_count": null,
   "metadata": {
    "id": "BJlD8-NKvM5m"
   },
   "outputs": [],
   "source": [
    "!pip install lisagwresponse"
   ]
  },
  {
   "cell_type": "markdown",
   "metadata": {
    "id": "tWzzvAM-qg5q"
   },
   "source": [
    "##### ⚠️ **!! Important note about data generation and data size when evaluating the LISA GW response**\n",
    "\n",
    "When generating the LISA response to a GW strain, we have to take into account orbits and GW strain *longer* than the stretch of time we're interested in.\n",
    "\n",
    "To evaluate the response between time $t_0$ and $t_{max}$ we need to have\n",
    "- orbit information at $t_0 - T$ (with $T = 8.3$ s light travel time between two spacecraft)\n",
    "- strain information up to $t_0 - T - \\frac{1 \\mathrm{AU}}{c}$ in the past, depending on the projection $\\vec{k} \\cdot \\vec{x}$ between the source wave vector $\\vec{k}$ and the spacecraft position $\\vec{x}$\n",
    "- strain information up to $t_\\text{max} + \\frac{1 \\mathrm{AU}}{c}$ in the future, again depending on the projection $\\vec{k} \\cdot \\vec{x}$ between the source wave vector $\\vec{k}$ and the spacecraft position $\\vec{x}$\n",
    "\n",
    "Because of this, we will evaluate the GW response on a shorter timescale than the $h_+, h_\\times$ strain computed above. We will focus on the final stretch of the $h_+, h_\\times$ strain timeseries to make sure we include the MBHB merger in the response."
   ]
  },
  {
   "cell_type": "code",
   "execution_count": null,
   "metadata": {
    "id": "z9x4iwhbvVZo"
   },
   "outputs": [],
   "source": [
    "from lisagwresponse import ReadStrain"
   ]
  },
  {
   "cell_type": "markdown",
   "metadata": {
    "id": "ya6bZNdAugqO"
   },
   "source": [
    "Import the `ReadStrain` class to read the strain timeseries we created with the LDC package.\n",
    "\n",
    "📚 [Documentation for `ReadStrain()`](https://lisa-simulation.pages.in2p3.fr/gw-response/latest/read.html#readstrain)"
   ]
  },
  {
   "cell_type": "markdown",
   "metadata": {
    "id": "DMAIzw9TtipB"
   },
   "source": [
    "✅ Create a new time vector `t_sim` that slices the last `simlen = 100000` samples of the time vector `t` used to compute `hphc`\n",
    "\n"
   ]
  },
  {
   "cell_type": "code",
   "execution_count": null,
   "metadata": {
    "id": "W0e8By0-tjV1"
   },
   "outputs": [],
   "source": [
    "# t_sim = t[-simlen:]"
   ]
  },
  {
   "cell_type": "markdown",
   "metadata": {
    "id": "CdnanhXCvVgT"
   },
   "source": [
    "✅ Create an instance of the `ReadStrain` class with a name easy to remember (like `strain`) by passing it the following arguments\n",
    "* the time vector `t_sim`\n",
    "* the $h_+, h_\\times$ timeseries `hp`, `hc` (remember to slice them appropriately to the last `simlen` samples t0 match the time vector!)\n",
    "* the sky localization parameters `gw_beta` and `gw_lambda` from the MBHB parameter dictionary `pMBHB`\n",
    "* the orbit file `orbits`"
   ]
  },
  {
   "cell_type": "code",
   "execution_count": null,
   "metadata": {
    "id": "Qf4UBAZ-8L7-"
   },
   "outputs": [],
   "source": [
    "# strain = ReadStrain(\n",
    "#                     )"
   ]
  },
  {
   "cell_type": "markdown",
   "metadata": {
    "id": "z1RZP6A8INiv"
   },
   "source": [
    "✅ Plot the gravitational wave response strain using the `strain.plot(t)` method with the time vector `t_sim`"
   ]
  },
  {
   "cell_type": "code",
   "execution_count": null,
   "metadata": {
    "id": "-XbPOSK80JYO"
   },
   "outputs": [],
   "source": []
  },
  {
   "cell_type": "markdown",
   "metadata": {
    "id": "hWgQyc3OuOcE"
   },
   "source": [
    "✅ Write the GW response to the strain to file using the `strain.write(path, **kwargs)` method, passing the following arguments and keyword arguments to the function:\n",
    "\n",
    "\n",
    "*   the path of the `.h5` file you want to write the response to\n",
    "*   time information extracted from the `t_sim` array: `t0`, `dt`, `size`. Hint: use the first element of `t_sim` as `t0` and the length of `t_sim` as `size`.\n",
    "\n"
   ]
  },
  {
   "cell_type": "code",
   "execution_count": null,
   "metadata": {
    "id": "tf4pqy8O8N9F"
   },
   "outputs": [],
   "source": []
  },
  {
   "cell_type": "markdown",
   "metadata": {
    "id": "WAcCLNOgz7o7"
   },
   "source": [
    "#### 5.3 Add the GW to the simulation\n",
    "To add the GW response to the simulation we have a few different paths in front of us:\n",
    "1. we can pass the GW response file we just generated to the `Instrument` instance as an external file, and run the instrumental simulation again\n",
    "\n",
    "or\n",
    "\n",
    "2. we can evaluate the TDI response to the GW response file alone and add it to the noise TDI response we evaluated previously in section 4.2\n",
    "\n",
    "Let's do both!"
   ]
  },
  {
   "cell_type": "markdown",
   "metadata": {
    "id": "WveWF_eiYTaq"
   },
   "source": [
    "\n",
    "##### 5.3.1 Pass the GW file to `Instrument`\n",
    "\n",
    "✅ Pass the GW response `.h5` file to the `Instrument` instance as a keyword argument `gws` in addition to the `orbits` keyword argument.\n",
    "* ✅ Now we also need to pass to the `Instrument` instance the right `t0` for the simulation: use the same `t0` we set for the GW response!\n",
    "\n",
    "✅ As we did before, disable all noises using `instr.disable_all_noises()` with the `excluding` keyword argument, and exclude `'laser'`, `'test-mass'`, `'oms'`\n",
    "\n",
    "✅ Run the instrumental simulation again\n",
    "\n",
    "✅ Write it to file"
   ]
  },
  {
   "cell_type": "code",
   "execution_count": null,
   "metadata": {
    "id": "lzq07U-X0r66"
   },
   "outputs": [],
   "source": []
  },
  {
   "cell_type": "markdown",
   "metadata": {
    "id": "B4rC1lzsIo6R"
   },
   "source": [
    "✅ Load the simulation data using the `pytdi` method `Data.from_instrument()` we used above\n",
    "\n",
    "✅ Build and evaluate the TDI combinations using the `.build` methods we used above\n",
    "\n",
    "✅ Plot the TDI $X, Y, Z$ time-series"
   ]
  },
  {
   "cell_type": "code",
   "execution_count": null,
   "metadata": {
    "id": "GEYch5s50_UO"
   },
   "outputs": [],
   "source": []
  },
  {
   "cell_type": "markdown",
   "metadata": {
    "id": "dvfwtfgn1Ibf"
   },
   "source": [
    "##### 5.3.2 Evaluate TDI response and add it to the instrument TDI response\n",
    "\n",
    "✅ Load the GW response file using the `pytdi` method `Data.from_gws()`: to run this method you have to pass it the GW response file AND the orbit file as arguments.\n",
    "\n",
    "📚 [Documentation for `from_gws()`](https://lisa.pages.in2p3.fr/LDPG/wg6_inrep/pytdi/master/interface.html#pytdi.Data.from_gws)\n",
    "\n",
    "✅ Build and evaluate the TDI response for $X, Y, Z$ to the GW response file. Label the $X, Y, Z$ combinations evaluated here with `_gw` or an analogous label (we'll need to sum them to the `_noise` TDI combinations we generated earlier)\n",
    "\n",
    "🚨 When importing data with the `Data.from_gws()` method you *don't* need to divide the TDI combinations by the central frequency of the laser"
   ]
  },
  {
   "cell_type": "code",
   "execution_count": null,
   "metadata": {
    "id": "FpR-FexczeUN"
   },
   "outputs": [],
   "source": []
  },
  {
   "cell_type": "code",
   "execution_count": null,
   "metadata": {
    "id": "drjDL8l2J82L"
   },
   "outputs": [],
   "source": []
  },
  {
   "cell_type": "markdown",
   "metadata": {
    "id": "DMUF6Yyh8mm6"
   },
   "source": [
    "✅ Sum the TDI combinations for the GW response `_gw` to the TDI combinations for the noise simulation `_noise`\n",
    "\n",
    "✅ Plot the results for one exemplifying TDI combination (either $X, Y$ or $Z$)\n"
   ]
  },
  {
   "cell_type": "code",
   "execution_count": null,
   "metadata": {
    "id": "xQUDg5K8J888"
   },
   "outputs": [],
   "source": []
  },
  {
   "cell_type": "code",
   "execution_count": null,
   "metadata": {
    "id": "XjFjmBmh8rz4"
   },
   "outputs": [],
   "source": []
  },
  {
   "cell_type": "markdown",
   "metadata": {
    "id": "2TutiHsb8OrF"
   },
   "source": [
    "### 6. Check noise models against data"
   ]
  },
  {
   "cell_type": "markdown",
   "metadata": {
    "id": "enmA2dWTKHoH"
   },
   "source": [
    "✅ Plot the PSD of the TDI data against the LISA instrumental noise model for the simulated data above (instrumental simulation, GW simulation, instrumental + gw simulation)"
   ]
  },
  {
   "cell_type": "code",
   "execution_count": null,
   "metadata": {
    "id": "k1eQKEIBALCd"
   },
   "outputs": [],
   "source": []
  },
  {
   "cell_type": "code",
   "execution_count": null,
   "metadata": {
    "id": "OGApji3nAYvz"
   },
   "outputs": [],
   "source": []
  },
  {
   "cell_type": "markdown",
   "metadata": {
    "id": "I6GqBGjoSeq2"
   },
   "source": [
    "#### 7. Write the TDI combinations to disk\n",
    "\n",
    "✅ Use `h5py.File(path, 'w')` to write the TDI combinations $X, Y, Z$ for the complete simulation (including noise and GW response) to disk.\n",
    "- Use method `.create_dataset(dataset_name, data)` to create one dataset for each TDI combination and write the TDI data to that dataset.\n",
    "\n",
    "📚 [Documentation for `h5py.File()`](https://docs.h5py.org/en/stable/high/file.html)"
   ]
  },
  {
   "cell_type": "code",
   "execution_count": null,
   "metadata": {
    "id": "lhR6DkfbRYat"
   },
   "outputs": [],
   "source": [
    "# Saving TDI 2.0 data\n",
    "# path = 'simulation-noise-gws-tdi2.h5'\n",
    "\n",
    "# hdf5 = h5py.File(path, 'w')\n",
    "\n",
    "# hdf5.create_dataset('X', data=X)\n",
    "# same for Y\n",
    "# same for Z\n",
    "# # Closing file\n",
    "# hdf5.close()"
   ]
  },
  {
   "cell_type": "code",
   "execution_count": null,
   "metadata": {
    "id": "PQDLTbmjT3sA"
   },
   "outputs": [],
   "source": [
    "# Saving TDI 2.0 data\n",
    "# path = 'simulation-gws-tdi2.h5'\n"
   ]
  }
 ],
 "metadata": {
  "colab": {
   "provenance": []
  },
  "kernelspec": {
   "display_name": "Python 3",
   "name": "python3"
  },
  "language_info": {
   "name": "python"
  }
 },
 "nbformat": 4,
 "nbformat_minor": 0
}
