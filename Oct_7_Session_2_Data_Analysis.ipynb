{
  "nbformat": 4,
  "nbformat_minor": 0,
  "metadata": {
    "colab": {
      "provenance": []
    },
    "kernelspec": {
      "name": "python3",
      "display_name": "Python 3"
    },
    "language_info": {
      "name": "python"
    }
  },
  "cells": [
    {
      "cell_type": "markdown",
      "source": [
        "# Data Generation and Analysis workshop\n",
        "## Monday October 7, 2024: Data Analysis\n",
        "\n",
        "Learn how to quickly setup and run an MCMC on this dataset to estimate the source parameters.\n",
        "\n",
        "In the course of this session we will:\n",
        "- Install all necessary packages\n",
        "- Define the basics of Markoc Chain Monte Carlo\n",
        "- Apply to simple problems\n",
        "- Use the single MBHB injection from this morning to do noiseless parameter estimation.\n",
        "\n",
        "N Karnesis, M Katz, S Marsat"
      ],
      "metadata": {
        "id": "ylsh3NqQ6VjZ"
      }
    },
    {
      "cell_type": "markdown",
      "source": [
        "### 0. Requirements\n",
        "Mount Google Drive to load simulation data"
      ],
      "metadata": {
        "id": "sgLbDLU46n_W"
      }
    },
    {
      "cell_type": "markdown",
      "source": [
        "Install and import the required packages"
      ],
      "metadata": {
        "id": "Nhi4JzA4R0ne"
      }
    },
    {
      "cell_type": "code",
      "source": [
        "# requirements for the lisa-data-challenge package\n",
        "!apt-get install libgsl-dev\n",
        "!apt-get install libfftw3-dev\n",
        "!apt install cm-super dvipng texlive-latex-extra texlive-latex-recommended\n",
        "# installations\n",
        "!pip install lisa-data-challenge lisabeta chainconsumer eryn latex"
      ],
      "metadata": {
        "colab": {
          "base_uri": "https://localhost:8080/"
        },
        "id": "ihxenwh4F4Jh",
        "outputId": "5bd28397-82dc-44ff-a920-18ab19c5e410"
      },
      "execution_count": null,
      "outputs": [
        {
          "output_type": "stream",
          "name": "stdout",
          "text": [
            "Reading package lists... Done\n",
            "Building dependency tree... Done\n",
            "Reading state information... Done\n",
            "The following additional packages will be installed:\n",
            "  libgsl27 libgslcblas0\n",
            "Suggested packages:\n",
            "  gsl-ref-psdoc | gsl-doc-pdf | gsl-doc-info | gsl-ref-html\n",
            "The following NEW packages will be installed:\n",
            "  libgsl-dev libgsl27 libgslcblas0\n",
            "0 upgraded, 3 newly installed, 0 to remove and 49 not upgraded.\n",
            "Need to get 2,351 kB of archives.\n",
            "After this operation, 10.8 MB of additional disk space will be used.\n",
            "Get:1 http://archive.ubuntu.com/ubuntu jammy/universe amd64 libgslcblas0 amd64 2.7.1+dfsg-3 [94.4 kB]\n",
            "Get:2 http://archive.ubuntu.com/ubuntu jammy/universe amd64 libgsl27 amd64 2.7.1+dfsg-3 [1,000 kB]\n",
            "Get:3 http://archive.ubuntu.com/ubuntu jammy/universe amd64 libgsl-dev amd64 2.7.1+dfsg-3 [1,257 kB]\n",
            "Fetched 2,351 kB in 0s (9,629 kB/s)\n",
            "Selecting previously unselected package libgslcblas0:amd64.\n",
            "(Reading database ... 123620 files and directories currently installed.)\n",
            "Preparing to unpack .../libgslcblas0_2.7.1+dfsg-3_amd64.deb ...\n",
            "Unpacking libgslcblas0:amd64 (2.7.1+dfsg-3) ...\n",
            "Selecting previously unselected package libgsl27:amd64.\n",
            "Preparing to unpack .../libgsl27_2.7.1+dfsg-3_amd64.deb ...\n",
            "Unpacking libgsl27:amd64 (2.7.1+dfsg-3) ...\n",
            "Selecting previously unselected package libgsl-dev.\n",
            "Preparing to unpack .../libgsl-dev_2.7.1+dfsg-3_amd64.deb ...\n",
            "Unpacking libgsl-dev (2.7.1+dfsg-3) ...\n",
            "Setting up libgslcblas0:amd64 (2.7.1+dfsg-3) ...\n",
            "Setting up libgsl27:amd64 (2.7.1+dfsg-3) ...\n",
            "Setting up libgsl-dev (2.7.1+dfsg-3) ...\n",
            "Processing triggers for man-db (2.10.2-1) ...\n",
            "Processing triggers for libc-bin (2.35-0ubuntu3.4) ...\n",
            "/sbin/ldconfig.real: /usr/local/lib/libtbbbind_2_5.so.3 is not a symbolic link\n",
            "\n",
            "/sbin/ldconfig.real: /usr/local/lib/libtbbbind_2_0.so.3 is not a symbolic link\n",
            "\n",
            "/sbin/ldconfig.real: /usr/local/lib/libtbbmalloc.so.2 is not a symbolic link\n",
            "\n",
            "/sbin/ldconfig.real: /usr/local/lib/libur_adapter_level_zero.so.0 is not a symbolic link\n",
            "\n",
            "/sbin/ldconfig.real: /usr/local/lib/libtbbmalloc_proxy.so.2 is not a symbolic link\n",
            "\n",
            "/sbin/ldconfig.real: /usr/local/lib/libtbb.so.12 is not a symbolic link\n",
            "\n",
            "/sbin/ldconfig.real: /usr/local/lib/libur_adapter_opencl.so.0 is not a symbolic link\n",
            "\n",
            "/sbin/ldconfig.real: /usr/local/lib/libur_loader.so.0 is not a symbolic link\n",
            "\n",
            "/sbin/ldconfig.real: /usr/local/lib/libtbbbind.so.3 is not a symbolic link\n",
            "\n",
            "Reading package lists... Done\n",
            "Building dependency tree... Done\n",
            "Reading state information... Done\n",
            "The following additional packages will be installed:\n",
            "  libfftw3-bin libfftw3-double3 libfftw3-long3 libfftw3-quad3 libfftw3-single3\n",
            "Suggested packages:\n",
            "  libfftw3-doc\n",
            "The following NEW packages will be installed:\n",
            "  libfftw3-bin libfftw3-dev libfftw3-double3 libfftw3-long3 libfftw3-quad3 libfftw3-single3\n",
            "0 upgraded, 6 newly installed, 0 to remove and 49 not upgraded.\n",
            "Need to get 4,654 kB of archives.\n",
            "After this operation, 24.7 MB of additional disk space will be used.\n",
            "Get:1 http://archive.ubuntu.com/ubuntu jammy/main amd64 libfftw3-double3 amd64 3.3.8-2ubuntu8 [770 kB]\n",
            "Get:2 http://archive.ubuntu.com/ubuntu jammy/main amd64 libfftw3-long3 amd64 3.3.8-2ubuntu8 [335 kB]\n",
            "Get:3 http://archive.ubuntu.com/ubuntu jammy/main amd64 libfftw3-quad3 amd64 3.3.8-2ubuntu8 [614 kB]\n",
            "Get:4 http://archive.ubuntu.com/ubuntu jammy/main amd64 libfftw3-single3 amd64 3.3.8-2ubuntu8 [800 kB]\n",
            "Get:5 http://archive.ubuntu.com/ubuntu jammy/main amd64 libfftw3-bin amd64 3.3.8-2ubuntu8 [35.5 kB]\n",
            "Get:6 http://archive.ubuntu.com/ubuntu jammy/main amd64 libfftw3-dev amd64 3.3.8-2ubuntu8 [2,101 kB]\n",
            "Fetched 4,654 kB in 0s (24.3 MB/s)\n",
            "Selecting previously unselected package libfftw3-double3:amd64.\n",
            "(Reading database ... 123913 files and directories currently installed.)\n",
            "Preparing to unpack .../0-libfftw3-double3_3.3.8-2ubuntu8_amd64.deb ...\n",
            "Unpacking libfftw3-double3:amd64 (3.3.8-2ubuntu8) ...\n",
            "Selecting previously unselected package libfftw3-long3:amd64.\n",
            "Preparing to unpack .../1-libfftw3-long3_3.3.8-2ubuntu8_amd64.deb ...\n",
            "Unpacking libfftw3-long3:amd64 (3.3.8-2ubuntu8) ...\n",
            "Selecting previously unselected package libfftw3-quad3:amd64.\n",
            "Preparing to unpack .../2-libfftw3-quad3_3.3.8-2ubuntu8_amd64.deb ...\n",
            "Unpacking libfftw3-quad3:amd64 (3.3.8-2ubuntu8) ...\n",
            "Selecting previously unselected package libfftw3-single3:amd64.\n",
            "Preparing to unpack .../3-libfftw3-single3_3.3.8-2ubuntu8_amd64.deb ...\n",
            "Unpacking libfftw3-single3:amd64 (3.3.8-2ubuntu8) ...\n",
            "Selecting previously unselected package libfftw3-bin.\n",
            "Preparing to unpack .../4-libfftw3-bin_3.3.8-2ubuntu8_amd64.deb ...\n",
            "Unpacking libfftw3-bin (3.3.8-2ubuntu8) ...\n",
            "Selecting previously unselected package libfftw3-dev:amd64.\n",
            "Preparing to unpack .../5-libfftw3-dev_3.3.8-2ubuntu8_amd64.deb ...\n",
            "Unpacking libfftw3-dev:amd64 (3.3.8-2ubuntu8) ...\n",
            "Setting up libfftw3-single3:amd64 (3.3.8-2ubuntu8) ...\n",
            "Setting up libfftw3-long3:amd64 (3.3.8-2ubuntu8) ...\n",
            "Setting up libfftw3-quad3:amd64 (3.3.8-2ubuntu8) ...\n",
            "Setting up libfftw3-double3:amd64 (3.3.8-2ubuntu8) ...\n",
            "Setting up libfftw3-bin (3.3.8-2ubuntu8) ...\n",
            "Setting up libfftw3-dev:amd64 (3.3.8-2ubuntu8) ...\n",
            "Processing triggers for man-db (2.10.2-1) ...\n",
            "Processing triggers for libc-bin (2.35-0ubuntu3.4) ...\n",
            "/sbin/ldconfig.real: /usr/local/lib/libtbbbind_2_5.so.3 is not a symbolic link\n",
            "\n",
            "/sbin/ldconfig.real: /usr/local/lib/libtbbbind_2_0.so.3 is not a symbolic link\n",
            "\n",
            "/sbin/ldconfig.real: /usr/local/lib/libtbbmalloc.so.2 is not a symbolic link\n",
            "\n",
            "/sbin/ldconfig.real: /usr/local/lib/libur_adapter_level_zero.so.0 is not a symbolic link\n",
            "\n",
            "/sbin/ldconfig.real: /usr/local/lib/libtbbmalloc_proxy.so.2 is not a symbolic link\n",
            "\n",
            "/sbin/ldconfig.real: /usr/local/lib/libtbb.so.12 is not a symbolic link\n",
            "\n",
            "/sbin/ldconfig.real: /usr/local/lib/libur_adapter_opencl.so.0 is not a symbolic link\n",
            "\n",
            "/sbin/ldconfig.real: /usr/local/lib/libur_loader.so.0 is not a symbolic link\n",
            "\n",
            "/sbin/ldconfig.real: /usr/local/lib/libtbbbind.so.3 is not a symbolic link\n",
            "\n",
            "Reading package lists... Done\n",
            "Building dependency tree... Done\n",
            "Reading state information... Done\n",
            "The following additional packages will be installed:\n",
            "  cm-super-minimal dvisvgm fonts-droid-fallback fonts-lato fonts-lmodern fonts-noto-mono\n",
            "  fonts-texgyre fonts-urw-base35 ghostscript libapache-pom-java libcommons-logging-java\n",
            "  libcommons-parent-java libfontbox-java libfontenc1 libgs9 libgs9-common libidn12 libijs-0.35\n",
            "  libjbig2dec0 libkpathsea6 libpdfbox-java libptexenc1 libruby3.0 libsynctex2 libteckit0\n",
            "  libtexlua53 libtexluajit2 libwoff1 libzzip-0-13 lmodern pfb2t1c2pfb poppler-data\n",
            "  preview-latex-style rake ruby ruby-net-telnet ruby-rubygems ruby-webrick ruby-xmlrpc ruby3.0\n",
            "  rubygems-integration t1utils tex-common tex-gyre texlive-base texlive-binaries\n",
            "  texlive-fonts-recommended texlive-latex-base texlive-pictures texlive-plain-generic tipa\n",
            "  xfonts-encodings xfonts-utils\n",
            "Suggested packages:\n",
            "  fonts-noto fonts-freefont-otf | fonts-freefont-ttf ghostscript-x libavalon-framework-java\n",
            "  libcommons-logging-java-doc libexcalibur-logkit-java liblog4j1.2-java poppler-utils\n",
            "  fonts-japanese-mincho | fonts-ipafont-mincho fonts-japanese-gothic | fonts-ipafont-gothic\n",
            "  fonts-arphic-ukai fonts-arphic-uming fonts-nanum ri ruby-dev bundler debhelper perl-tk xpdf\n",
            "  | pdf-viewer xzdec texlive-fonts-recommended-doc texlive-latex-base-doc python3-pygments\n",
            "  icc-profiles libfile-which-perl libspreadsheet-parseexcel-perl texlive-latex-extra-doc\n",
            "  texlive-latex-recommended-doc texlive-luatex texlive-pstricks dot2tex prerex texlive-pictures-doc\n",
            "  vprerex default-jre-headless tipa-doc\n",
            "The following NEW packages will be installed:\n",
            "  cm-super cm-super-minimal dvipng dvisvgm fonts-droid-fallback fonts-lato fonts-lmodern\n",
            "  fonts-noto-mono fonts-texgyre fonts-urw-base35 ghostscript libapache-pom-java\n",
            "  libcommons-logging-java libcommons-parent-java libfontbox-java libfontenc1 libgs9 libgs9-common\n",
            "  libidn12 libijs-0.35 libjbig2dec0 libkpathsea6 libpdfbox-java libptexenc1 libruby3.0 libsynctex2\n",
            "  libteckit0 libtexlua53 libtexluajit2 libwoff1 libzzip-0-13 lmodern pfb2t1c2pfb poppler-data\n",
            "  preview-latex-style rake ruby ruby-net-telnet ruby-rubygems ruby-webrick ruby-xmlrpc ruby3.0\n",
            "  rubygems-integration t1utils tex-common tex-gyre texlive-base texlive-binaries\n",
            "  texlive-fonts-recommended texlive-latex-base texlive-latex-extra texlive-latex-recommended\n",
            "  texlive-pictures texlive-plain-generic tipa xfonts-encodings xfonts-utils\n",
            "0 upgraded, 57 newly installed, 0 to remove and 49 not upgraded.\n",
            "Need to get 195 MB of archives.\n",
            "After this operation, 613 MB of additional disk space will be used.\n",
            "Get:1 http://archive.ubuntu.com/ubuntu jammy/main amd64 fonts-droid-fallback all 1:6.0.1r16-1.1build1 [1,805 kB]\n",
            "Get:2 http://archive.ubuntu.com/ubuntu jammy/main amd64 fonts-lato all 2.0-2.1 [2,696 kB]\n",
            "Get:3 http://archive.ubuntu.com/ubuntu jammy/main amd64 poppler-data all 0.4.11-1 [2,171 kB]\n",
            "Get:4 http://archive.ubuntu.com/ubuntu jammy/universe amd64 tex-common all 6.17 [33.7 kB]\n",
            "Get:5 http://archive.ubuntu.com/ubuntu jammy-updates/main amd64 libkpathsea6 amd64 2021.20210626.59705-1ubuntu0.2 [60.4 kB]\n",
            "Get:6 http://archive.ubuntu.com/ubuntu jammy-updates/main amd64 libptexenc1 amd64 2021.20210626.59705-1ubuntu0.2 [39.1 kB]\n",
            "Get:7 http://archive.ubuntu.com/ubuntu jammy-updates/main amd64 libsynctex2 amd64 2021.20210626.59705-1ubuntu0.2 [55.6 kB]\n",
            "Get:8 http://archive.ubuntu.com/ubuntu jammy-updates/main amd64 libtexlua53 amd64 2021.20210626.59705-1ubuntu0.2 [120 kB]\n",
            "Get:9 http://archive.ubuntu.com/ubuntu jammy-updates/main amd64 libtexluajit2 amd64 2021.20210626.59705-1ubuntu0.2 [267 kB]\n",
            "Get:10 http://archive.ubuntu.com/ubuntu jammy/main amd64 t1utils amd64 1.41-4build2 [61.3 kB]\n",
            "Get:11 http://archive.ubuntu.com/ubuntu jammy/universe amd64 libteckit0 amd64 2.5.11+ds1-1 [421 kB]\n",
            "Get:12 http://archive.ubuntu.com/ubuntu jammy/universe amd64 libzzip-0-13 amd64 0.13.72+dfsg.1-1.1 [27.0 kB]\n",
            "Get:13 http://archive.ubuntu.com/ubuntu jammy-updates/universe amd64 texlive-binaries amd64 2021.20210626.59705-1ubuntu0.2 [9,860 kB]\n",
            "Get:14 http://archive.ubuntu.com/ubuntu jammy/universe amd64 texlive-base all 2021.20220204-1 [21.0 MB]\n",
            "Get:15 http://archive.ubuntu.com/ubuntu jammy/universe amd64 fonts-lmodern all 2.004.5-6.1 [4,532 kB]\n",
            "Get:16 http://archive.ubuntu.com/ubuntu jammy/universe amd64 texlive-latex-base all 2021.20220204-1 [1,128 kB]\n",
            "Get:17 http://archive.ubuntu.com/ubuntu jammy/universe amd64 texlive-latex-recommended all 2021.20220204-1 [14.4 MB]\n",
            "Get:18 http://archive.ubuntu.com/ubuntu jammy/universe amd64 cm-super-minimal all 0.3.4-17 [5,777 kB]\n",
            "Get:19 http://archive.ubuntu.com/ubuntu jammy/universe amd64 pfb2t1c2pfb amd64 0.3-11 [9,342 B]\n",
            "Get:20 http://archive.ubuntu.com/ubuntu jammy/universe amd64 cm-super all 0.3.4-17 [20.2 MB]\n",
            "Get:21 http://archive.ubuntu.com/ubuntu jammy/main amd64 fonts-urw-base35 all 20200910-1 [6,367 kB]\n",
            "Get:22 http://archive.ubuntu.com/ubuntu jammy-updates/main amd64 libgs9-common all 9.55.0~dfsg1-0ubuntu5.9 [752 kB]\n",
            "Get:23 http://archive.ubuntu.com/ubuntu jammy-updates/main amd64 libidn12 amd64 1.38-4ubuntu1 [60.0 kB]\n",
            "Get:24 http://archive.ubuntu.com/ubuntu jammy/main amd64 libijs-0.35 amd64 0.35-15build2 [16.5 kB]\n",
            "Get:25 http://archive.ubuntu.com/ubuntu jammy/main amd64 libjbig2dec0 amd64 0.19-3build2 [64.7 kB]\n",
            "Get:26 http://archive.ubuntu.com/ubuntu jammy-updates/main amd64 libgs9 amd64 9.55.0~dfsg1-0ubuntu5.9 [5,033 kB]\n",
            "Get:27 http://archive.ubuntu.com/ubuntu jammy-updates/main amd64 ghostscript amd64 9.55.0~dfsg1-0ubuntu5.9 [49.5 kB]\n",
            "Get:28 http://archive.ubuntu.com/ubuntu jammy/universe amd64 dvipng amd64 1.15-1.1 [78.9 kB]\n",
            "Get:29 http://archive.ubuntu.com/ubuntu jammy/main amd64 libwoff1 amd64 1.0.2-1build4 [45.2 kB]\n",
            "Get:30 http://archive.ubuntu.com/ubuntu jammy/universe amd64 dvisvgm amd64 2.13.1-1 [1,221 kB]\n",
            "Get:31 http://archive.ubuntu.com/ubuntu jammy/main amd64 fonts-noto-mono all 20201225-1build1 [397 kB]\n",
            "Get:32 http://archive.ubuntu.com/ubuntu jammy/universe amd64 fonts-texgyre all 20180621-3.1 [10.2 MB]\n",
            "Get:33 http://archive.ubuntu.com/ubuntu jammy/universe amd64 libapache-pom-java all 18-1 [4,720 B]\n",
            "Get:34 http://archive.ubuntu.com/ubuntu jammy/universe amd64 libcommons-parent-java all 43-1 [10.8 kB]\n",
            "Get:35 http://archive.ubuntu.com/ubuntu jammy/universe amd64 libcommons-logging-java all 1.2-2 [60.3 kB]\n",
            "Get:36 http://archive.ubuntu.com/ubuntu jammy/main amd64 libfontenc1 amd64 1:1.1.4-1build3 [14.7 kB]\n",
            "Get:37 http://archive.ubuntu.com/ubuntu jammy/main amd64 rubygems-integration all 1.18 [5,336 B]\n",
            "Get:38 http://archive.ubuntu.com/ubuntu jammy-updates/main amd64 ruby3.0 amd64 3.0.2-7ubuntu2.7 [50.1 kB]\n",
            "Get:39 http://archive.ubuntu.com/ubuntu jammy/main amd64 ruby-rubygems all 3.3.5-2 [228 kB]\n",
            "Get:40 http://archive.ubuntu.com/ubuntu jammy/main amd64 ruby amd64 1:3.0~exp1 [5,100 B]\n",
            "Get:41 http://archive.ubuntu.com/ubuntu jammy/main amd64 rake all 13.0.6-2 [61.7 kB]\n",
            "Get:42 http://archive.ubuntu.com/ubuntu jammy/main amd64 ruby-net-telnet all 0.1.1-2 [12.6 kB]\n",
            "Get:43 http://archive.ubuntu.com/ubuntu jammy/universe amd64 ruby-webrick all 1.7.0-3 [51.8 kB]\n",
            "Get:44 http://archive.ubuntu.com/ubuntu jammy-updates/main amd64 ruby-xmlrpc all 0.3.2-1ubuntu0.1 [24.9 kB]\n",
            "Get:45 http://archive.ubuntu.com/ubuntu jammy-updates/main amd64 libruby3.0 amd64 3.0.2-7ubuntu2.7 [5,113 kB]\n",
            "Get:46 http://archive.ubuntu.com/ubuntu jammy/main amd64 xfonts-encodings all 1:1.0.5-0ubuntu2 [578 kB]\n",
            "Get:47 http://archive.ubuntu.com/ubuntu jammy/main amd64 xfonts-utils amd64 1:7.7+6build2 [94.6 kB]\n",
            "Get:48 http://archive.ubuntu.com/ubuntu jammy/universe amd64 lmodern all 2.004.5-6.1 [9,471 kB]\n",
            "Get:49 http://archive.ubuntu.com/ubuntu jammy/universe amd64 preview-latex-style all 12.2-1ubuntu1 [185 kB]\n",
            "Get:50 http://archive.ubuntu.com/ubuntu jammy/universe amd64 tex-gyre all 20180621-3.1 [6,209 kB]\n",
            "Get:51 http://archive.ubuntu.com/ubuntu jammy/universe amd64 texlive-fonts-recommended all 2021.20220204-1 [4,972 kB]\n",
            "Get:52 http://archive.ubuntu.com/ubuntu jammy/universe amd64 libfontbox-java all 1:1.8.16-2 [207 kB]\n",
            "Get:53 http://archive.ubuntu.com/ubuntu jammy/universe amd64 libpdfbox-java all 1:1.8.16-2 [5,199 kB]\n",
            "Get:54 http://archive.ubuntu.com/ubuntu jammy/universe amd64 texlive-pictures all 2021.20220204-1 [8,720 kB]\n",
            "Get:55 http://archive.ubuntu.com/ubuntu jammy/universe amd64 texlive-latex-extra all 2021.20220204-1 [13.9 MB]\n",
            "Get:56 http://archive.ubuntu.com/ubuntu jammy/universe amd64 texlive-plain-generic all 2021.20220204-1 [27.5 MB]\n",
            "Get:57 http://archive.ubuntu.com/ubuntu jammy/universe amd64 tipa all 2:1.3-21 [2,967 kB]\n",
            "Fetched 195 MB in 4s (54.2 MB/s)\n",
            "Extracting templates from packages: 100%\n",
            "Preconfiguring packages ...\n",
            "Selecting previously unselected package fonts-droid-fallback.\n",
            "(Reading database ... 124016 files and directories currently installed.)\n",
            "Preparing to unpack .../00-fonts-droid-fallback_1%3a6.0.1r16-1.1build1_all.deb ...\n",
            "Unpacking fonts-droid-fallback (1:6.0.1r16-1.1build1) ...\n",
            "Selecting previously unselected package fonts-lato.\n",
            "Preparing to unpack .../01-fonts-lato_2.0-2.1_all.deb ...\n",
            "Unpacking fonts-lato (2.0-2.1) ...\n",
            "Selecting previously unselected package poppler-data.\n",
            "Preparing to unpack .../02-poppler-data_0.4.11-1_all.deb ...\n",
            "Unpacking poppler-data (0.4.11-1) ...\n",
            "Selecting previously unselected package tex-common.\n",
            "Preparing to unpack .../03-tex-common_6.17_all.deb ...\n",
            "Unpacking tex-common (6.17) ...\n",
            "Selecting previously unselected package libkpathsea6:amd64.\n",
            "Preparing to unpack .../04-libkpathsea6_2021.20210626.59705-1ubuntu0.2_amd64.deb ...\n",
            "Unpacking libkpathsea6:amd64 (2021.20210626.59705-1ubuntu0.2) ...\n",
            "Selecting previously unselected package libptexenc1:amd64.\n",
            "Preparing to unpack .../05-libptexenc1_2021.20210626.59705-1ubuntu0.2_amd64.deb ...\n",
            "Unpacking libptexenc1:amd64 (2021.20210626.59705-1ubuntu0.2) ...\n",
            "Selecting previously unselected package libsynctex2:amd64.\n",
            "Preparing to unpack .../06-libsynctex2_2021.20210626.59705-1ubuntu0.2_amd64.deb ...\n",
            "Unpacking libsynctex2:amd64 (2021.20210626.59705-1ubuntu0.2) ...\n",
            "Selecting previously unselected package libtexlua53:amd64.\n",
            "Preparing to unpack .../07-libtexlua53_2021.20210626.59705-1ubuntu0.2_amd64.deb ...\n",
            "Unpacking libtexlua53:amd64 (2021.20210626.59705-1ubuntu0.2) ...\n",
            "Selecting previously unselected package libtexluajit2:amd64.\n",
            "Preparing to unpack .../08-libtexluajit2_2021.20210626.59705-1ubuntu0.2_amd64.deb ...\n",
            "Unpacking libtexluajit2:amd64 (2021.20210626.59705-1ubuntu0.2) ...\n",
            "Selecting previously unselected package t1utils.\n",
            "Preparing to unpack .../09-t1utils_1.41-4build2_amd64.deb ...\n",
            "Unpacking t1utils (1.41-4build2) ...\n",
            "Selecting previously unselected package libteckit0:amd64.\n",
            "Preparing to unpack .../10-libteckit0_2.5.11+ds1-1_amd64.deb ...\n",
            "Unpacking libteckit0:amd64 (2.5.11+ds1-1) ...\n",
            "Selecting previously unselected package libzzip-0-13:amd64.\n",
            "Preparing to unpack .../11-libzzip-0-13_0.13.72+dfsg.1-1.1_amd64.deb ...\n",
            "Unpacking libzzip-0-13:amd64 (0.13.72+dfsg.1-1.1) ...\n",
            "Selecting previously unselected package texlive-binaries.\n",
            "Preparing to unpack .../12-texlive-binaries_2021.20210626.59705-1ubuntu0.2_amd64.deb ...\n",
            "Unpacking texlive-binaries (2021.20210626.59705-1ubuntu0.2) ...\n",
            "Selecting previously unselected package texlive-base.\n",
            "Preparing to unpack .../13-texlive-base_2021.20220204-1_all.deb ...\n",
            "Unpacking texlive-base (2021.20220204-1) ...\n",
            "Selecting previously unselected package fonts-lmodern.\n",
            "Preparing to unpack .../14-fonts-lmodern_2.004.5-6.1_all.deb ...\n",
            "Unpacking fonts-lmodern (2.004.5-6.1) ...\n",
            "Selecting previously unselected package texlive-latex-base.\n",
            "Preparing to unpack .../15-texlive-latex-base_2021.20220204-1_all.deb ...\n",
            "Unpacking texlive-latex-base (2021.20220204-1) ...\n",
            "Selecting previously unselected package texlive-latex-recommended.\n",
            "Preparing to unpack .../16-texlive-latex-recommended_2021.20220204-1_all.deb ...\n",
            "Unpacking texlive-latex-recommended (2021.20220204-1) ...\n",
            "Selecting previously unselected package cm-super-minimal.\n",
            "Preparing to unpack .../17-cm-super-minimal_0.3.4-17_all.deb ...\n",
            "Unpacking cm-super-minimal (0.3.4-17) ...\n",
            "Selecting previously unselected package pfb2t1c2pfb.\n",
            "Preparing to unpack .../18-pfb2t1c2pfb_0.3-11_amd64.deb ...\n",
            "Unpacking pfb2t1c2pfb (0.3-11) ...\n",
            "Selecting previously unselected package cm-super.\n",
            "Preparing to unpack .../19-cm-super_0.3.4-17_all.deb ...\n",
            "Unpacking cm-super (0.3.4-17) ...\n",
            "Selecting previously unselected package fonts-urw-base35.\n",
            "Preparing to unpack .../20-fonts-urw-base35_20200910-1_all.deb ...\n",
            "Unpacking fonts-urw-base35 (20200910-1) ...\n",
            "Selecting previously unselected package libgs9-common.\n",
            "Preparing to unpack .../21-libgs9-common_9.55.0~dfsg1-0ubuntu5.9_all.deb ...\n",
            "Unpacking libgs9-common (9.55.0~dfsg1-0ubuntu5.9) ...\n",
            "Selecting previously unselected package libidn12:amd64.\n",
            "Preparing to unpack .../22-libidn12_1.38-4ubuntu1_amd64.deb ...\n",
            "Unpacking libidn12:amd64 (1.38-4ubuntu1) ...\n",
            "Selecting previously unselected package libijs-0.35:amd64.\n",
            "Preparing to unpack .../23-libijs-0.35_0.35-15build2_amd64.deb ...\n",
            "Unpacking libijs-0.35:amd64 (0.35-15build2) ...\n",
            "Selecting previously unselected package libjbig2dec0:amd64.\n",
            "Preparing to unpack .../24-libjbig2dec0_0.19-3build2_amd64.deb ...\n",
            "Unpacking libjbig2dec0:amd64 (0.19-3build2) ...\n",
            "Selecting previously unselected package libgs9:amd64.\n",
            "Preparing to unpack .../25-libgs9_9.55.0~dfsg1-0ubuntu5.9_amd64.deb ...\n",
            "Unpacking libgs9:amd64 (9.55.0~dfsg1-0ubuntu5.9) ...\n",
            "Selecting previously unselected package ghostscript.\n",
            "Preparing to unpack .../26-ghostscript_9.55.0~dfsg1-0ubuntu5.9_amd64.deb ...\n",
            "Unpacking ghostscript (9.55.0~dfsg1-0ubuntu5.9) ...\n",
            "Selecting previously unselected package dvipng.\n",
            "Preparing to unpack .../27-dvipng_1.15-1.1_amd64.deb ...\n",
            "Unpacking dvipng (1.15-1.1) ...\n",
            "Selecting previously unselected package libwoff1:amd64.\n",
            "Preparing to unpack .../28-libwoff1_1.0.2-1build4_amd64.deb ...\n",
            "Unpacking libwoff1:amd64 (1.0.2-1build4) ...\n",
            "Selecting previously unselected package dvisvgm.\n",
            "Preparing to unpack .../29-dvisvgm_2.13.1-1_amd64.deb ...\n",
            "Unpacking dvisvgm (2.13.1-1) ...\n",
            "Selecting previously unselected package fonts-noto-mono.\n",
            "Preparing to unpack .../30-fonts-noto-mono_20201225-1build1_all.deb ...\n",
            "Unpacking fonts-noto-mono (20201225-1build1) ...\n",
            "Selecting previously unselected package fonts-texgyre.\n",
            "Preparing to unpack .../31-fonts-texgyre_20180621-3.1_all.deb ...\n",
            "Unpacking fonts-texgyre (20180621-3.1) ...\n",
            "Selecting previously unselected package libapache-pom-java.\n",
            "Preparing to unpack .../32-libapache-pom-java_18-1_all.deb ...\n",
            "Unpacking libapache-pom-java (18-1) ...\n",
            "Selecting previously unselected package libcommons-parent-java.\n",
            "Preparing to unpack .../33-libcommons-parent-java_43-1_all.deb ...\n",
            "Unpacking libcommons-parent-java (43-1) ...\n",
            "Selecting previously unselected package libcommons-logging-java.\n",
            "Preparing to unpack .../34-libcommons-logging-java_1.2-2_all.deb ...\n",
            "Unpacking libcommons-logging-java (1.2-2) ...\n",
            "Selecting previously unselected package libfontenc1:amd64.\n",
            "Preparing to unpack .../35-libfontenc1_1%3a1.1.4-1build3_amd64.deb ...\n",
            "Unpacking libfontenc1:amd64 (1:1.1.4-1build3) ...\n",
            "Selecting previously unselected package rubygems-integration.\n",
            "Preparing to unpack .../36-rubygems-integration_1.18_all.deb ...\n",
            "Unpacking rubygems-integration (1.18) ...\n",
            "Selecting previously unselected package ruby3.0.\n",
            "Preparing to unpack .../37-ruby3.0_3.0.2-7ubuntu2.7_amd64.deb ...\n",
            "Unpacking ruby3.0 (3.0.2-7ubuntu2.7) ...\n",
            "Selecting previously unselected package ruby-rubygems.\n",
            "Preparing to unpack .../38-ruby-rubygems_3.3.5-2_all.deb ...\n",
            "Unpacking ruby-rubygems (3.3.5-2) ...\n",
            "Selecting previously unselected package ruby.\n",
            "Preparing to unpack .../39-ruby_1%3a3.0~exp1_amd64.deb ...\n",
            "Unpacking ruby (1:3.0~exp1) ...\n",
            "Selecting previously unselected package rake.\n",
            "Preparing to unpack .../40-rake_13.0.6-2_all.deb ...\n",
            "Unpacking rake (13.0.6-2) ...\n",
            "Selecting previously unselected package ruby-net-telnet.\n",
            "Preparing to unpack .../41-ruby-net-telnet_0.1.1-2_all.deb ...\n",
            "Unpacking ruby-net-telnet (0.1.1-2) ...\n",
            "Selecting previously unselected package ruby-webrick.\n",
            "Preparing to unpack .../42-ruby-webrick_1.7.0-3_all.deb ...\n",
            "Unpacking ruby-webrick (1.7.0-3) ...\n",
            "Selecting previously unselected package ruby-xmlrpc.\n",
            "Preparing to unpack .../43-ruby-xmlrpc_0.3.2-1ubuntu0.1_all.deb ...\n",
            "Unpacking ruby-xmlrpc (0.3.2-1ubuntu0.1) ...\n",
            "Selecting previously unselected package libruby3.0:amd64.\n",
            "Preparing to unpack .../44-libruby3.0_3.0.2-7ubuntu2.7_amd64.deb ...\n",
            "Unpacking libruby3.0:amd64 (3.0.2-7ubuntu2.7) ...\n",
            "Selecting previously unselected package xfonts-encodings.\n",
            "Preparing to unpack .../45-xfonts-encodings_1%3a1.0.5-0ubuntu2_all.deb ...\n",
            "Unpacking xfonts-encodings (1:1.0.5-0ubuntu2) ...\n",
            "Selecting previously unselected package xfonts-utils.\n",
            "Preparing to unpack .../46-xfonts-utils_1%3a7.7+6build2_amd64.deb ...\n",
            "Unpacking xfonts-utils (1:7.7+6build2) ...\n",
            "Selecting previously unselected package lmodern.\n",
            "Preparing to unpack .../47-lmodern_2.004.5-6.1_all.deb ...\n",
            "Unpacking lmodern (2.004.5-6.1) ...\n",
            "Selecting previously unselected package preview-latex-style.\n",
            "Preparing to unpack .../48-preview-latex-style_12.2-1ubuntu1_all.deb ...\n",
            "Unpacking preview-latex-style (12.2-1ubuntu1) ...\n",
            "Selecting previously unselected package tex-gyre.\n",
            "Preparing to unpack .../49-tex-gyre_20180621-3.1_all.deb ...\n",
            "Unpacking tex-gyre (20180621-3.1) ...\n",
            "Selecting previously unselected package texlive-fonts-recommended.\n",
            "Preparing to unpack .../50-texlive-fonts-recommended_2021.20220204-1_all.deb ...\n",
            "Unpacking texlive-fonts-recommended (2021.20220204-1) ...\n",
            "Selecting previously unselected package libfontbox-java.\n",
            "Preparing to unpack .../51-libfontbox-java_1%3a1.8.16-2_all.deb ...\n",
            "Unpacking libfontbox-java (1:1.8.16-2) ...\n",
            "Selecting previously unselected package libpdfbox-java.\n",
            "Preparing to unpack .../52-libpdfbox-java_1%3a1.8.16-2_all.deb ...\n",
            "Unpacking libpdfbox-java (1:1.8.16-2) ...\n",
            "Selecting previously unselected package texlive-pictures.\n",
            "Preparing to unpack .../53-texlive-pictures_2021.20220204-1_all.deb ...\n",
            "Unpacking texlive-pictures (2021.20220204-1) ...\n",
            "Selecting previously unselected package texlive-latex-extra.\n",
            "Preparing to unpack .../54-texlive-latex-extra_2021.20220204-1_all.deb ...\n",
            "Unpacking texlive-latex-extra (2021.20220204-1) ...\n",
            "Selecting previously unselected package texlive-plain-generic.\n",
            "Preparing to unpack .../55-texlive-plain-generic_2021.20220204-1_all.deb ...\n",
            "Unpacking texlive-plain-generic (2021.20220204-1) ...\n",
            "Selecting previously unselected package tipa.\n",
            "Preparing to unpack .../56-tipa_2%3a1.3-21_all.deb ...\n",
            "Unpacking tipa (2:1.3-21) ...\n",
            "Setting up pfb2t1c2pfb (0.3-11) ...\n",
            "Setting up fonts-lato (2.0-2.1) ...\n",
            "Setting up fonts-noto-mono (20201225-1build1) ...\n",
            "Setting up libwoff1:amd64 (1.0.2-1build4) ...\n",
            "Setting up libtexlua53:amd64 (2021.20210626.59705-1ubuntu0.2) ...\n",
            "Setting up libijs-0.35:amd64 (0.35-15build2) ...\n",
            "Setting up libtexluajit2:amd64 (2021.20210626.59705-1ubuntu0.2) ...\n",
            "Setting up libfontbox-java (1:1.8.16-2) ...\n",
            "Setting up rubygems-integration (1.18) ...\n",
            "Setting up libzzip-0-13:amd64 (0.13.72+dfsg.1-1.1) ...\n",
            "Setting up fonts-urw-base35 (20200910-1) ...\n",
            "Setting up poppler-data (0.4.11-1) ...\n",
            "Setting up tex-common (6.17) ...\n",
            "update-language: texlive-base not installed and configured, doing nothing!\n",
            "Setting up libfontenc1:amd64 (1:1.1.4-1build3) ...\n",
            "Setting up libjbig2dec0:amd64 (0.19-3build2) ...\n",
            "Setting up libteckit0:amd64 (2.5.11+ds1-1) ...\n",
            "Setting up libapache-pom-java (18-1) ...\n",
            "Setting up ruby-net-telnet (0.1.1-2) ...\n",
            "Setting up xfonts-encodings (1:1.0.5-0ubuntu2) ...\n",
            "Setting up t1utils (1.41-4build2) ...\n",
            "Setting up libidn12:amd64 (1.38-4ubuntu1) ...\n",
            "Setting up fonts-texgyre (20180621-3.1) ...\n",
            "Setting up libkpathsea6:amd64 (2021.20210626.59705-1ubuntu0.2) ...\n",
            "Setting up ruby-webrick (1.7.0-3) ...\n",
            "Setting up fonts-lmodern (2.004.5-6.1) ...\n",
            "Setting up fonts-droid-fallback (1:6.0.1r16-1.1build1) ...\n",
            "Setting up ruby-xmlrpc (0.3.2-1ubuntu0.1) ...\n",
            "Setting up libsynctex2:amd64 (2021.20210626.59705-1ubuntu0.2) ...\n",
            "Setting up libgs9-common (9.55.0~dfsg1-0ubuntu5.9) ...\n",
            "Setting up libpdfbox-java (1:1.8.16-2) ...\n",
            "Setting up libgs9:amd64 (9.55.0~dfsg1-0ubuntu5.9) ...\n",
            "Setting up preview-latex-style (12.2-1ubuntu1) ...\n",
            "Setting up libcommons-parent-java (43-1) ...\n",
            "Setting up dvisvgm (2.13.1-1) ...\n",
            "Setting up libcommons-logging-java (1.2-2) ...\n",
            "Setting up ghostscript (9.55.0~dfsg1-0ubuntu5.9) ...\n",
            "Setting up xfonts-utils (1:7.7+6build2) ...\n",
            "Setting up libptexenc1:amd64 (2021.20210626.59705-1ubuntu0.2) ...\n",
            "Setting up texlive-binaries (2021.20210626.59705-1ubuntu0.2) ...\n",
            "update-alternatives: using /usr/bin/xdvi-xaw to provide /usr/bin/xdvi.bin (xdvi.bin) in auto mode\n",
            "update-alternatives: using /usr/bin/bibtex.original to provide /usr/bin/bibtex (bibtex) in auto mode\n",
            "Setting up lmodern (2.004.5-6.1) ...\n",
            "Setting up texlive-base (2021.20220204-1) ...\n",
            "/usr/bin/ucfr\n",
            "/usr/bin/ucfr\n",
            "/usr/bin/ucfr\n",
            "/usr/bin/ucfr\n",
            "mktexlsr: Updating /var/lib/texmf/ls-R-TEXLIVEDIST... \n",
            "mktexlsr: Updating /var/lib/texmf/ls-R-TEXMFMAIN... \n",
            "mktexlsr: Updating /var/lib/texmf/ls-R... \n",
            "mktexlsr: Done.\n",
            "tl-paper: setting paper size for dvips to a4: /var/lib/texmf/dvips/config/config-paper.ps\n",
            "tl-paper: setting paper size for dvipdfmx to a4: /var/lib/texmf/dvipdfmx/dvipdfmx-paper.cfg\n",
            "tl-paper: setting paper size for xdvi to a4: /var/lib/texmf/xdvi/XDvi-paper\n",
            "tl-paper: setting paper size for pdftex to a4: /var/lib/texmf/tex/generic/tex-ini-files/pdftexconfig.tex\n",
            "Setting up tex-gyre (20180621-3.1) ...\n",
            "Setting up dvipng (1.15-1.1) ...\n",
            "Setting up texlive-plain-generic (2021.20220204-1) ...\n",
            "Setting up texlive-latex-base (2021.20220204-1) ...\n",
            "Setting up texlive-latex-recommended (2021.20220204-1) ...\n",
            "Setting up texlive-pictures (2021.20220204-1) ...\n",
            "Setting up texlive-fonts-recommended (2021.20220204-1) ...\n",
            "Setting up tipa (2:1.3-21) ...\n",
            "Setting up cm-super-minimal (0.3.4-17) ...\n",
            "Setting up texlive-latex-extra (2021.20220204-1) ...\n",
            "Setting up cm-super (0.3.4-17) ...\n",
            "Creating fonts. This may take some time... done.\n",
            "Setting up rake (13.0.6-2) ...\n",
            "Setting up libruby3.0:amd64 (3.0.2-7ubuntu2.7) ...\n",
            "Setting up ruby3.0 (3.0.2-7ubuntu2.7) ...\n",
            "Setting up ruby (1:3.0~exp1) ...\n",
            "Setting up ruby-rubygems (3.3.5-2) ...\n",
            "Processing triggers for man-db (2.10.2-1) ...\n",
            "Processing triggers for fontconfig (2.13.1-4.2ubuntu5) ...\n",
            "Processing triggers for libc-bin (2.35-0ubuntu3.4) ...\n",
            "/sbin/ldconfig.real: /usr/local/lib/libtbbbind_2_5.so.3 is not a symbolic link\n",
            "\n",
            "/sbin/ldconfig.real: /usr/local/lib/libtbbbind_2_0.so.3 is not a symbolic link\n",
            "\n",
            "/sbin/ldconfig.real: /usr/local/lib/libtbbmalloc.so.2 is not a symbolic link\n",
            "\n",
            "/sbin/ldconfig.real: /usr/local/lib/libur_adapter_level_zero.so.0 is not a symbolic link\n",
            "\n",
            "/sbin/ldconfig.real: /usr/local/lib/libtbbmalloc_proxy.so.2 is not a symbolic link\n",
            "\n",
            "/sbin/ldconfig.real: /usr/local/lib/libtbb.so.12 is not a symbolic link\n",
            "\n",
            "/sbin/ldconfig.real: /usr/local/lib/libur_adapter_opencl.so.0 is not a symbolic link\n",
            "\n",
            "/sbin/ldconfig.real: /usr/local/lib/libur_loader.so.0 is not a symbolic link\n",
            "\n",
            "/sbin/ldconfig.real: /usr/local/lib/libtbbbind.so.3 is not a symbolic link\n",
            "\n",
            "Processing triggers for tex-common (6.17) ...\n",
            "Running updmap-sys. This may take some time... done.\n",
            "Running mktexlsr /var/lib/texmf ... done.\n",
            "Building format(s) --all.\n",
            "\tThis may take some time... done.\n",
            "Collecting lisa-data-challenge\n",
            "  Downloading lisa_data_challenge-1.2.3.tar.gz (41.2 MB)\n",
            "\u001b[2K     \u001b[90m━━━━━━━━━━━━━━━━━━━━━━━━━━━━━━━━━━━━━━━━\u001b[0m \u001b[32m41.2/41.2 MB\u001b[0m \u001b[31m18.9 MB/s\u001b[0m eta \u001b[36m0:00:00\u001b[0m\n",
            "\u001b[?25h  Installing build dependencies ... \u001b[?25l\u001b[?25hdone\n",
            "  Getting requirements to build wheel ... \u001b[?25l\u001b[?25hdone\n",
            "  Preparing metadata (pyproject.toml) ... \u001b[?25l\u001b[?25hdone\n",
            "Collecting lisabeta\n",
            "  Downloading lisabeta-1.0.2.tar.gz (1.4 MB)\n",
            "\u001b[2K     \u001b[90m━━━━━━━━━━━━━━━━━━━━━━━━━━━━━━━━━━━━━━━━\u001b[0m \u001b[32m1.4/1.4 MB\u001b[0m \u001b[31m45.8 MB/s\u001b[0m eta \u001b[36m0:00:00\u001b[0m\n",
            "\u001b[?25h  Installing build dependencies ... \u001b[?25l\u001b[?25hdone\n",
            "  Getting requirements to build wheel ... \u001b[?25l\u001b[?25hdone\n",
            "  Preparing metadata (pyproject.toml) ... \u001b[?25l\u001b[?25hdone\n",
            "Collecting chainconsumer\n",
            "  Downloading chainconsumer-1.1.2-py3-none-any.whl.metadata (15 kB)\n",
            "Collecting eryn\n",
            "  Downloading Eryn-1.1.9-py3-none-any.whl.metadata (4.9 kB)\n",
            "Collecting latex\n",
            "  Downloading latex-0.7.0.tar.gz (6.5 kB)\n",
            "  Preparing metadata (setup.py) ... \u001b[?25l\u001b[?25hdone\n",
            "Requirement already satisfied: numpy in /usr/local/lib/python3.10/dist-packages (from lisa-data-challenge) (1.26.4)\n",
            "Requirement already satisfied: scipy in /usr/local/lib/python3.10/dist-packages (from lisa-data-challenge) (1.13.1)\n",
            "Requirement already satisfied: astropy in /usr/local/lib/python3.10/dist-packages (from lisa-data-challenge) (6.1.4)\n",
            "Requirement already satisfied: xarray in /usr/local/lib/python3.10/dist-packages (from lisa-data-challenge) (2024.9.0)\n",
            "Requirement already satisfied: h5py in /usr/local/lib/python3.10/dist-packages (from lisa-data-challenge) (3.11.0)\n",
            "Requirement already satisfied: matplotlib in /usr/local/lib/python3.10/dist-packages (from lisa-data-challenge) (3.7.1)\n",
            "Collecting lisaconstants (from lisa-data-challenge)\n",
            "  Downloading lisaconstants-1.3.6-py3-none-any.whl.metadata (3.8 kB)\n",
            "Collecting lisaorbits (from lisa-data-challenge)\n",
            "  Downloading lisaorbits-2.4.2-py3-none-any.whl.metadata (4.4 kB)\n",
            "Requirement already satisfied: pandas<3.0.0,>=2.1.1 in /usr/local/lib/python3.10/dist-packages (from chainconsumer) (2.2.2)\n",
            "Requirement already satisfied: pillow<11.0.0,>=10.0.1 in /usr/local/lib/python3.10/dist-packages (from chainconsumer) (10.4.0)\n",
            "Requirement already satisfied: pydantic<3.0.0,>=2.2.0 in /usr/local/lib/python3.10/dist-packages (from chainconsumer) (2.9.2)\n",
            "Requirement already satisfied: statsmodels<1,>=0.14.0 in /usr/local/lib/python3.10/dist-packages (from chainconsumer) (0.14.3)\n",
            "Collecting tempdir (from latex)\n",
            "  Downloading tempdir-0.7.1.tar.gz (5.9 kB)\n",
            "  Preparing metadata (setup.py) ... \u001b[?25l\u001b[?25hdone\n",
            "Collecting data (from latex)\n",
            "  Downloading data-0.4.tar.gz (7.0 kB)\n",
            "  Preparing metadata (setup.py) ... \u001b[?25l\u001b[?25hdone\n",
            "Requirement already satisfied: future in /usr/local/lib/python3.10/dist-packages (from latex) (1.0.0)\n",
            "Collecting shutilwhich (from latex)\n",
            "  Downloading shutilwhich-1.1.0.tar.gz (2.3 kB)\n",
            "  Preparing metadata (setup.py) ... \u001b[?25l\u001b[?25hdone\n",
            "Requirement already satisfied: contourpy>=1.0.1 in /usr/local/lib/python3.10/dist-packages (from matplotlib->lisa-data-challenge) (1.3.0)\n",
            "Requirement already satisfied: cycler>=0.10 in /usr/local/lib/python3.10/dist-packages (from matplotlib->lisa-data-challenge) (0.12.1)\n",
            "Requirement already satisfied: fonttools>=4.22.0 in /usr/local/lib/python3.10/dist-packages (from matplotlib->lisa-data-challenge) (4.54.1)\n",
            "Requirement already satisfied: kiwisolver>=1.0.1 in /usr/local/lib/python3.10/dist-packages (from matplotlib->lisa-data-challenge) (1.4.7)\n",
            "Requirement already satisfied: packaging>=20.0 in /usr/local/lib/python3.10/dist-packages (from matplotlib->lisa-data-challenge) (24.1)\n",
            "Requirement already satisfied: pyparsing>=2.3.1 in /usr/local/lib/python3.10/dist-packages (from matplotlib->lisa-data-challenge) (3.1.4)\n",
            "Requirement already satisfied: python-dateutil>=2.7 in /usr/local/lib/python3.10/dist-packages (from matplotlib->lisa-data-challenge) (2.8.2)\n",
            "Requirement already satisfied: pytz>=2020.1 in /usr/local/lib/python3.10/dist-packages (from pandas<3.0.0,>=2.1.1->chainconsumer) (2024.2)\n",
            "Requirement already satisfied: tzdata>=2022.7 in /usr/local/lib/python3.10/dist-packages (from pandas<3.0.0,>=2.1.1->chainconsumer) (2024.2)\n",
            "Requirement already satisfied: annotated-types>=0.6.0 in /usr/local/lib/python3.10/dist-packages (from pydantic<3.0.0,>=2.2.0->chainconsumer) (0.7.0)\n",
            "Requirement already satisfied: pydantic-core==2.23.4 in /usr/local/lib/python3.10/dist-packages (from pydantic<3.0.0,>=2.2.0->chainconsumer) (2.23.4)\n",
            "Requirement already satisfied: typing-extensions>=4.6.1 in /usr/local/lib/python3.10/dist-packages (from pydantic<3.0.0,>=2.2.0->chainconsumer) (4.12.2)\n",
            "Requirement already satisfied: patsy>=0.5.6 in /usr/local/lib/python3.10/dist-packages (from statsmodels<1,>=0.14.0->chainconsumer) (0.5.6)\n",
            "Requirement already satisfied: pyerfa>=2.0.1.1 in /usr/local/lib/python3.10/dist-packages (from astropy->lisa-data-challenge) (2.0.1.4)\n",
            "Requirement already satisfied: astropy-iers-data>=0.2024.8.27.10.28.29 in /usr/local/lib/python3.10/dist-packages (from astropy->lisa-data-challenge) (0.2024.9.30.0.32.59)\n",
            "Requirement already satisfied: PyYAML>=3.13 in /usr/local/lib/python3.10/dist-packages (from astropy->lisa-data-challenge) (6.0.2)\n",
            "Requirement already satisfied: six in /usr/local/lib/python3.10/dist-packages (from data->latex) (1.16.0)\n",
            "Requirement already satisfied: decorator in /usr/local/lib/python3.10/dist-packages (from data->latex) (4.4.2)\n",
            "Collecting funcsigs (from data->latex)\n",
            "  Downloading funcsigs-1.0.2-py2.py3-none-any.whl.metadata (14 kB)\n",
            "Collecting oem (from lisaorbits->lisa-data-challenge)\n",
            "  Downloading oem-0.4.2.tar.gz (24 kB)\n",
            "  Installing build dependencies ... \u001b[?25l\u001b[?25hdone\n",
            "  Getting requirements to build wheel ... \u001b[?25l\u001b[?25hdone\n",
            "  Preparing metadata (pyproject.toml) ... \u001b[?25l\u001b[?25hdone\n",
            "Requirement already satisfied: lxml in /usr/local/lib/python3.10/dist-packages (from lisaorbits->lisa-data-challenge) (4.9.4)\n",
            "Requirement already satisfied: defusedxml in /usr/local/lib/python3.10/dist-packages (from lisaorbits->lisa-data-challenge) (0.7.1)\n",
            "Requirement already satisfied: importlib-metadata in /usr/local/lib/python3.10/dist-packages (from lisaorbits->lisa-data-challenge) (8.4.0)\n",
            "Requirement already satisfied: pooch in /usr/local/lib/python3.10/dist-packages (from lisaorbits->lisa-data-challenge) (1.8.2)\n",
            "Requirement already satisfied: tqdm in /usr/local/lib/python3.10/dist-packages (from lisaorbits->lisa-data-challenge) (4.66.5)\n",
            "Requirement already satisfied: requests in /usr/local/lib/python3.10/dist-packages (from lisaorbits->lisa-data-challenge) (2.32.3)\n",
            "Requirement already satisfied: zipp>=0.5 in /usr/local/lib/python3.10/dist-packages (from importlib-metadata->lisaorbits->lisa-data-challenge) (3.20.2)\n",
            "Requirement already satisfied: platformdirs>=2.5.0 in /usr/local/lib/python3.10/dist-packages (from pooch->lisaorbits->lisa-data-challenge) (4.3.6)\n",
            "Requirement already satisfied: charset-normalizer<4,>=2 in /usr/local/lib/python3.10/dist-packages (from requests->lisaorbits->lisa-data-challenge) (3.3.2)\n",
            "Requirement already satisfied: idna<4,>=2.5 in /usr/local/lib/python3.10/dist-packages (from requests->lisaorbits->lisa-data-challenge) (3.10)\n",
            "Requirement already satisfied: urllib3<3,>=1.21.1 in /usr/local/lib/python3.10/dist-packages (from requests->lisaorbits->lisa-data-challenge) (2.2.3)\n",
            "Requirement already satisfied: certifi>=2017.4.17 in /usr/local/lib/python3.10/dist-packages (from requests->lisaorbits->lisa-data-challenge) (2024.8.30)\n",
            "Downloading chainconsumer-1.1.2-py3-none-any.whl (47 kB)\n",
            "\u001b[2K   \u001b[90m━━━━━━━━━━━━━━━━━━━━━━━━━━━━━━━━━━━━━━━━\u001b[0m \u001b[32m47.6/47.6 kB\u001b[0m \u001b[31m1.1 MB/s\u001b[0m eta \u001b[36m0:00:00\u001b[0m\n",
            "\u001b[?25hDownloading Eryn-1.1.9-py3-none-any.whl (109 kB)\n",
            "\u001b[2K   \u001b[90m━━━━━━━━━━━━━━━━━━━━━━━━━━━━━━━━━━━━━━━━\u001b[0m \u001b[32m109.3/109.3 kB\u001b[0m \u001b[31m8.7 MB/s\u001b[0m eta \u001b[36m0:00:00\u001b[0m\n",
            "\u001b[?25hDownloading lisaconstants-1.3.6-py3-none-any.whl (17 kB)\n",
            "Downloading lisaorbits-2.4.2-py3-none-any.whl (19 kB)\n",
            "Downloading funcsigs-1.0.2-py2.py3-none-any.whl (17 kB)\n",
            "Building wheels for collected packages: lisa-data-challenge, lisabeta, latex, data, shutilwhich, tempdir, oem\n",
            "  Building wheel for lisa-data-challenge (pyproject.toml) ... \u001b[?25l\u001b[?25hdone\n",
            "  Created wheel for lisa-data-challenge: filename=lisa_data_challenge-1.2.3-cp310-cp310-linux_x86_64.whl size=2039911 sha256=38b2fd2b18fd872f7c92e0f351ca01de0cd351194e284920a9afe5ea9b291a36\n",
            "  Stored in directory: /root/.cache/pip/wheels/68/29/90/4658bfa4594a8eb8a8bf7866950d60333809cd8ac229fbbd87\n",
            "  Building wheel for lisabeta (pyproject.toml) ... \u001b[?25l\u001b[?25hdone\n",
            "  Created wheel for lisabeta: filename=lisabeta-1.0.2-cp310-cp310-linux_x86_64.whl size=6236222 sha256=811f635f62400f19a01377c479c87b00d40260d1a0442f4627704f24dd6c5d5c\n",
            "  Stored in directory: /root/.cache/pip/wheels/db/48/a0/4869b17c4d18b3bb3bd72e163ea13e528454dc4a92af26903b\n",
            "  Building wheel for latex (setup.py) ... \u001b[?25l\u001b[?25hdone\n",
            "  Created wheel for latex: filename=latex-0.7.0-py3-none-any.whl size=7589 sha256=7eea4d390b727f11bab5fd49bf43b034858b0cce584f7b698ace66fe2f8adcde\n",
            "  Stored in directory: /root/.cache/pip/wheels/7e/02/25/c00dfc203e8ba53dfc2e4e97d40e537263d6e03606681f3872\n",
            "  Building wheel for data (setup.py) ... \u001b[?25l\u001b[?25hdone\n",
            "  Created wheel for data: filename=data-0.4-py3-none-any.whl size=7228 sha256=1e7f2847cfad0ffc1e0be800eaebcdca98fc72532d2ba9c223182d11b398ea7a\n",
            "  Stored in directory: /root/.cache/pip/wheels/d0/e8/fa/e253c256048ea58d99a8abb5e751abb6a838af6f12887b5418\n",
            "  Building wheel for shutilwhich (setup.py) ... \u001b[?25l\u001b[?25hdone\n",
            "  Created wheel for shutilwhich: filename=shutilwhich-1.1.0-py3-none-any.whl size=2766 sha256=3bcb98b6d312b98929b120a7dd02fea46d349138d67b3cd57deddd460ab6279a\n",
            "  Stored in directory: /root/.cache/pip/wheels/75/1f/1c/0ecab7ceabad0b8e018891505911e82a6f358a0291e7681bae\n",
            "  Building wheel for tempdir (setup.py) ... \u001b[?25l\u001b[?25hdone\n",
            "  Created wheel for tempdir: filename=tempdir-0.7.1-py3-none-any.whl size=2195 sha256=92f28906be800fe4acb87c94f9d3f26fbf7e223c03bf66df0a9b53d30d0cb1ae\n",
            "  Stored in directory: /root/.cache/pip/wheels/c6/9a/9d/44903aa5aac6c6bc5f0c331ed86214bbedce17e8556d002f1a\n",
            "  Building wheel for oem (pyproject.toml) ... \u001b[?25l\u001b[?25hdone\n",
            "  Created wheel for oem: filename=oem-0.4.2-py3-none-any.whl size=24762 sha256=e4a49f2fd8b07dd3bb9e121e1d2ce71386cc6f0b6eab13ca606b45437ae1494f\n",
            "  Stored in directory: /root/.cache/pip/wheels/5b/6c/b6/7914585d2b7d362622c46b86c9c867ef54098219e1ec98eeda\n",
            "Successfully built lisa-data-challenge lisabeta latex data shutilwhich tempdir oem\n",
            "Installing collected packages: tempdir, shutilwhich, lisabeta, funcsigs, lisaconstants, eryn, data, latex, oem, lisaorbits, chainconsumer, lisa-data-challenge\n",
            "Successfully installed chainconsumer-1.1.2 data-0.4 eryn-1.1.9 funcsigs-1.0.2 latex-0.7.0 lisa-data-challenge-1.2.3 lisabeta-1.0.2 lisaconstants-1.3.6 lisaorbits-2.4.2 oem-0.4.2 shutilwhich-1.1.0 tempdir-0.7.1\n"
          ]
        }
      ]
    },
    {
      "cell_type": "code",
      "execution_count": null,
      "metadata": {
        "id": "ggk5jhprzuWP"
      },
      "outputs": [],
      "source": [
        "# import system libraries\n",
        "import logging\n",
        "import sys, copy\n",
        "# import scientific libraries\n",
        "import numpy as np\n",
        "import matplotlib as mpl\n",
        "import matplotlib.pyplot as plt\n",
        "import scipy.signal\n",
        "from scipy.interpolate import InterpolatedUnivariateSpline as spline\n",
        "import h5py\n",
        "import pandas as pd\n",
        "# import data analysis libraries\n",
        "from ldc.waveform.lisabeta import FastBHB\n",
        "import lisabeta.lisa.lisa as lisa\n",
        "from lisabeta.lisa.lisa import EvaluateTDIFreqseries\n",
        "import lisabeta.tools.pyspline as pyspline\n",
        "import lisabeta.lisa.lisatools as lisatools\n",
        "import lisabeta.tools.pytools as pytools\n",
        "from ldc.common import tools\n",
        "from ldc.lisa.noise import AnalyticNoise, get_noise_model\n",
        "from chainconsumer import Chain, ChainConsumer, make_sample, Truth\n",
        "import lisaconstants\n",
        "# import sampler libraries\n",
        "from eryn.ensemble import EnsembleSampler\n",
        "from eryn.state import State\n",
        "from eryn.prior import uniform_dist, ProbDistContainer\n",
        "\n",
        "# update plot parameters (make it a bit fancier)\n",
        "rcparams = {}\n",
        "rcparams['axes.linewidth'] = 0.5\n",
        "rcparams['font.family'] = 'serif'\n",
        "rcparams['font.size'] = 22\n",
        "rcparams['legend.fontsize'] = 16\n",
        "rcparams['text.usetex'] = True\n",
        "rcparams['mathtext.fontset'] = \"stix\"\n",
        "mpl.rcParams.update(rcparams)\n"
      ]
    },
    {
      "cell_type": "code",
      "source": [
        "# set logging level to INFO (more verbose and informative)\n",
        "logging.basicConfig(stream=sys.stdout, level=logging.INFO)"
      ],
      "metadata": {
        "id": "ueKZu1kwDlA4"
      },
      "execution_count": null,
      "outputs": []
    },
    {
      "cell_type": "markdown",
      "source": [
        "# A. Basics of [Markov Chain Monte Carlo](https://en.wikipedia.org/wiki/Markov_chain_Monte_Carlo)\n",
        "\n",
        "The MCMC algorithms is a class of algorithms based on stochastic search of a given surface. By 'stochastic' we mean that we allow for a degree of stochasticity during this search. The more steps the algorithm takes, the better it converges to the target distribution (theoretiacally at least). An example of this type of algorithm is the [Metropolis-Hastings](https://en.wikipedia.org/wiki/Metropolis%E2%80%93Hastings_algorithm). It basically goes as:\n",
        "\n",
        "1. Start by defining an initial $\\vec{\\theta}_0$\n",
        "2. Draw a new point $\\vec{\\theta}'$ from a proposal distribution $q(\\vec{\\theta}' | \\vec{\\theta}_0)$\n",
        "3. Accept or reject $\\vec{\\theta}'$ based on a probability. We calculate the accpetance ratio, which is\n",
        "$\\alpha = \\mathrm{min} \\left\\{1,\\; \\frac{\\Lambda(\\vec{\\theta}') q(\\vec{\\theta}_0 | \\vec{\\theta}') }{ \\Lambda(\\vec{\\theta}_0) q(\\vec{\\theta}' | \\vec{\\theta}_0)} \\right\\}$\n",
        "4. Go to (2) and repeat, until you build an MCMC chain, which in principle after a few iterations should converge to the target distribution.\n",
        "\n",
        "<img src=http://revolution-computing.typepad.com/.a/6a010534b1db25970b019aff4a7bbc970d-pi width=\"500\">\n",
        "\n",
        "<sup>By https://blog.revolutionanalytics.com/ </sup>\n",
        "\n",
        "Go to [this](https://chi-feng.github.io/mcmc-demo/) website to play with different sampler types!\n",
        "\n",
        "> **More details**: As the name suggests, the idea behind the MCMC method is to mix Monte Carlo methods and Markov Chains. A Markov chain $\\left\\{ \\zeta(t)\\right\\}$ is a sequence of dependent random variables such that the probability distribution of $\\zeta(t)$ given the past variables depends only on $\\zeta(t-1)$. This conditional probability distribution is called a _transition kernel_ or a _Markov kernel_ $K$. Eventually, the aim is to construct Markov chains that follow the desired _target, stationary_ distribution. The existence of a stationary distribution requires  that the kernel $K$  allows for free moves in over all the parameter space (or in other words, there is always a positive probability of reaching any point in the parameter space). The kernel and stationary distribution $f$, must satisfy $\\int_\\mathcal{Z} K(x,y)f(x){\\mathrm d} x = f(y)$. Another prerequisite is the so-called _ergodicity_ of the chains. This means that a kernel $K$ that produces ergodic Markov chains with a stationary distribution $f$, will generate simulations from $f$. Then, if all requirements are met, any average of $g$ can be approximated with the _Ergodic Theorem_\n",
        ">\n",
        "> $\\frac{1}{T} \\sum^T_{t=1} g(\\zeta(t)) \\rightarrow \\left< g(\\zeta) \\right>$ (§).\n",
        ">\n",
        "> Yet, the working principe of a MCMC is to construct a target density $f$, together with a Markov kernel $K$ with $f$ being its stationary distribution, to generate Markov chains, and finally to evaluate the integral using eq.~(§). While there could be frustration in the choice of a suitable Markov kernel, the solution is to choose one that can be arbitrary up to a certain level, like the _MH_ algorithm, to be later generalised by W. K. Hastings. The trick is to link the target distribution $f$ to an arbitrary conditional density $q$ that is easy to simulate in practice.\n",
        "\n",
        "Samplers out there:\n",
        "\n",
        "**MCMC samplers**:\n",
        "1. emcee\n",
        "2. PyMC3\n",
        "3. TensorFlow Probability\n",
        "4. Zeus\n",
        "5. PyStan\n",
        "6. PyJAGS\n",
        "7. [Eryn!](https://github.com/mikekatz04/Eryn)\n",
        "\n",
        "**Nested samplers**:\n",
        "1. Nestle\n",
        "2. CPNest\n",
        "3. dynesty\n",
        "4. UltraNest\n",
        "5. PyMultiNest\n",
        "6. DNest4\n",
        "7. PyPolyChord\n",
        "\n",
        "* _Can we build a basic MCMC setup?_\n"
      ],
      "metadata": {
        "id": "YbvxFogJekRm"
      }
    },
    {
      "cell_type": "code",
      "source": [
        "def log_like_gauss(x):\n",
        "    return -0.5 * x ** 2 - 1/2 * np.log(2 * np.pi * 1.0) # 1.0 is sigma"
      ],
      "metadata": {
        "id": "yxHLgfJweiRM"
      },
      "execution_count": null,
      "outputs": []
    },
    {
      "cell_type": "code",
      "source": [
        "x_vals = np.linspace(-10.0, 10.0, 1000)\n",
        "\n",
        "# notice the `exp` in there because we are working with the log of the likelihood.\n",
        "plt.plot(x_vals, np.exp(log_like_gauss(x_vals)))\n",
        "plt.axvline(0.0, linestyle='--', color='k')\n",
        "plt.xlabel(\"$x$\")"
      ],
      "metadata": {
        "colab": {
          "base_uri": "https://localhost:8080/",
          "height": 492
        },
        "id": "B-QoAzPKe6U1",
        "outputId": "31af5c60-3bc2-4ec0-c7d5-124c9019461b"
      },
      "execution_count": null,
      "outputs": [
        {
          "output_type": "execute_result",
          "data": {
            "text/plain": [
              "Text(0.5, 0, '$x$')"
            ]
          },
          "metadata": {},
          "execution_count": 5
        },
        {
          "output_type": "display_data",
          "data": {
            "text/plain": [
              "<Figure size 640x480 with 1 Axes>"
            ],
            "image/png": "[encoded data removed]"
          },
          "metadata": {}
        }
      ]
    },
    {
      "cell_type": "markdown",
      "source": [
        "In this notebook, we will be using the Eryn software. It's basically a Bayesian sampler on steroids, because it is capable of reversible jump sampling, with parallel tempering methods on top! Check the [documentation](https://mikekatz04.github.io/Eryn/html/index.html) and [examples](https://mikekatz04.github.io/Eryn/html/tutorial/more_tutorials.html) for more details. There is also a paper which can be found [here](https://arxiv.org/abs/2303.02164).\n",
        "\n",
        "Any other sampler would work fine for this particular notebook."
      ],
      "metadata": {
        "id": "zREZTjR9itzE"
      }
    },
    {
      "cell_type": "markdown",
      "source": [
        "First we define the prior limits:"
      ],
      "metadata": {
        "id": "Tj6169XUjkgG"
      }
    },
    {
      "cell_type": "code",
      "source": [
        "prior = ProbDistContainer({\n",
        "    0: uniform_dist(-1000.0, 1000.0)\n",
        "})"
      ],
      "metadata": {
        "id": "E4UrKH92fFX3"
      },
      "execution_count": null,
      "outputs": []
    },
    {
      "cell_type": "markdown",
      "source": [
        "Then we setup the sampler by choosing the number of _walkers_. Here we do not use the parallel tempering yet."
      ],
      "metadata": {
        "id": "v4xM1Vb8jnu-"
      }
    },
    {
      "cell_type": "code",
      "source": [
        "nwalkers = 20\n",
        "ndim = 1\n",
        "sampler = EnsembleSampler(nwalkers, 1, log_like_gauss, prior)"
      ],
      "metadata": {
        "id": "PNrFSBbUPJ_h"
      },
      "execution_count": null,
      "outputs": []
    },
    {
      "cell_type": "markdown",
      "source": [
        "We need to define the starting points on the parameter space, or the initial _state_. We use the `prior.rvs` functionb to draw initial points for each walker. In principle, and function could be used here."
      ],
      "metadata": {
        "id": "nXSA0deYjz_W"
      }
    },
    {
      "cell_type": "code",
      "source": [
        "start_point = prior.rvs(size=(1, nwalkers, 1))\n",
        "start_state = State(start_point)"
      ],
      "metadata": {
        "id": "xWDRWPvWfHrg"
      },
      "execution_count": null,
      "outputs": []
    },
    {
      "cell_type": "markdown",
      "source": [
        "Start the MCMC:"
      ],
      "metadata": {
        "id": "i62ncaE7kRBP"
      }
    },
    {
      "cell_type": "code",
      "source": [
        "end_point = sampler.run_mcmc(start_state, 10000, progress=True)"
      ],
      "metadata": {
        "colab": {
          "base_uri": "https://localhost:8080/"
        },
        "id": "8Qge_W3MfKlL",
        "outputId": "bbf82ac7-9628-4547-df64-339e3a1930ec"
      },
      "execution_count": null,
      "outputs": [
        {
          "output_type": "stream",
          "name": "stderr",
          "text": [
            "100%|██████████| 10000/10000 [00:47<00:00, 209.63it/s]\n"
          ]
        }
      ]
    },
    {
      "cell_type": "markdown",
      "source": [
        "Plot the chains here:"
      ],
      "metadata": {
        "id": "hgMxQd5ZmSYz"
      }
    },
    {
      "cell_type": "code",
      "source": [
        "samples = sampler.get_chain()[\"model_0\"]"
      ],
      "metadata": {
        "id": "0NxyQl3nmUdk"
      },
      "execution_count": null,
      "outputs": []
    },
    {
      "cell_type": "markdown",
      "source": [
        "We now plot the result against the theoretical model. We will use the `chainconsumer` package which is quite fancy. We will need to use `pandas` for the chains."
      ],
      "metadata": {
        "id": "p3qJP9mGkTLO"
      }
    },
    {
      "cell_type": "code",
      "source": [
        "sdf = pd.DataFrame(samples.flatten(), columns=[\"$x$\"])\n",
        "\n",
        "c = ChainConsumer()\n",
        "c.add_chain(Chain(samples=sdf, name=\"A first PE example\"))\n",
        "c.add_truth(Truth(location={\"$x$\": 0}))\n",
        "\n",
        "fig = c.plotter.plot()\n",
        "\n",
        "# Plot the \"true\" likelihood we have defined\n",
        "plt.plot(x_vals, np.exp(log_like_gauss(x_vals)), linestyle='--', color='crimson', lw=2)\n",
        "\n",
        "mpl.rcParams.update(rcparams) # We do this each time because chainconsumer\n",
        "                              # changes our mpl settings."
      ],
      "metadata": {
        "id": "iBRToQH1gA9Y"
      },
      "execution_count": null,
      "outputs": []
    },
    {
      "cell_type": "markdown",
      "source": [
        "> Note: Each time we use the `chainconsumer` package we need to update our plotting parameters with `mpl.rcParams.update(rcparams)`, becasue it resets our settings!"
      ],
      "metadata": {
        "id": "i6u5_wZjhz0V"
      }
    },
    {
      "cell_type": "markdown",
      "source": [
        "We need to discard the first points and keep those that are sampling a stationary distribution (have converged). There are  ways to compute the number of samples to discard, but usually it's done empirically. We can define a `burn` parameter and discard the samples uo to that point."
      ],
      "metadata": {
        "id": "Z90ebrfpf9hp"
      }
    },
    {
      "cell_type": "code",
      "source": [
        "burn = 1000 # BURN!"
      ],
      "metadata": {
        "id": "bGYa-9affMp_"
      },
      "execution_count": null,
      "outputs": []
    },
    {
      "cell_type": "markdown",
      "source": [
        "## Simple toy model\n",
        "\n",
        "We begin with the assumption of a measurement; a vector of data samples, $\\mathbf{d}$, that will consist of the model defined at a set of $M$ values, $\\mathbf{x}$, with additive Gaussian noise of known standard deviation, i.e., data point $i$ will be defined by\n",
        "\n",
        "$$\n",
        "d_i = y(x_i;m,c) + n_i,\n",
        "$$\n",
        "\n",
        "with\n",
        "\n",
        "$$\n",
        "n_i \\sim N(0, \\sigma_i),\n",
        "$$\n",
        "\n",
        "which means the noise is drawn from a [Gaussian (or Normal) distribution](https://en.wikipedia.org/wiki/Normal_distribution) of zero mean and standard deviation of $\\sigma_i$.\n",
        "\n",
        "In principle, we may use whatever underlying physical model we'd like, but let us begin with the ol' reliable and simple linear model. This model has two parameters, $\\vec{\\theta} = \\{m, \\,c\\}$, and is written as:\n",
        "\n",
        "$$\n",
        "y(\\mathbf{x};\\vec{\\theta} = \\{m, \\,c\\}) = m\\mathbf{x} + c,\n",
        "$$\n",
        "\n",
        "where $\\mathbf{x}$ is a vector of values of $x$. This is basically fitting the gradient and $y$-intercept of a straight line, which should be fairly familiar as [linear regression](https://en.wikipedia.org/wiki/Linear_regression), and is obviously a solved problem (*assuming uniform priors!*) using, e.g., [least squares fitting](https://en.wikipedia.org/wiki/Linear_least_squares_%29mathematics%29). This  simple example will be extended to more realistics scenarios."
      ],
      "metadata": {
        "id": "gQj7kyeEGKS0"
      }
    },
    {
      "cell_type": "markdown",
      "source": [
        "### Creating the data\n",
        "\n",
        "So, let's get started creating our data. I'll (arbitrarily) use:\n",
        "\n",
        " * $m = 3.5$,\n",
        " * $c = 1.2$,\n",
        "\n",
        "for the model and\n",
        "\n",
        " * $\\mathbf{x} \\in [0, 10)$ in $M=50$ uniform steps,\n",
        " * $\\sigma_i = \\sigma = 2$ (i.e., each noise point is independent, but has the same standard deviation),\n",
        "\n",
        "for the data."
      ],
      "metadata": {
        "id": "ytihpMqIGQ1B"
      }
    },
    {
      "cell_type": "code",
      "source": [
        "# set the true values of the model parameters for creating the data\n",
        "m = 3.5 # gradient of the line\n",
        "c = 1.2 # y-intercept of the line\n",
        "\n",
        "# set the \"predictor variable\"/abscissa\n",
        "M    = 50\n",
        "xmin = 0.\n",
        "xmax = 10.\n",
        "stepsize = (xmax - xmin) / M\n",
        "x = np.arange(xmin, xmax, stepsize)\n",
        "\n",
        "# define the model function\n",
        "def straight_line(x, m, c):\n",
        "    \"\"\"\n",
        "    A straight line model: y = m*x + c\n",
        "\n",
        "    Args:\n",
        "        x (list): a set of abscissa points at which the model is defined\n",
        "        m (float): the gradient of the line\n",
        "        c (float): the y-intercept of the line\n",
        "    \"\"\"\n",
        "    return m * x + c\n",
        "\n",
        "# seed our random number generator, so we have reproducible data\n",
        "np.random.seed(sum([ord(v) for v in 'samplers']))\n",
        "\n",
        "# create the data - the model plus Gaussian noise\n",
        "sigma = 2.0  # standard deviation of the noise\n",
        "data = straight_line(x, m, c) + np.random.normal(scale=sigma, size=M)\n",
        "\n",
        "# plot the data\n",
        "fig, ax = plt.subplots(figsize=(9,6))\n",
        "ax.plot(x, data, 'bo', alpha=0.5, label='data')\n",
        "ax.plot(x, straight_line(x, m, c), 'r-', lw=2, label='model')\n",
        "ax.legend()\n",
        "ax.set_xlim([xmin, xmax])\n",
        "ax.set_xlabel(r'$x$');"
      ],
      "metadata": {
        "id": "-b33f6bWF8On"
      },
      "execution_count": null,
      "outputs": []
    },
    {
      "cell_type": "markdown",
      "source": [
        "### Doing things the old fashioned way\n",
        "\n",
        "We will now solve this problem by using the method of ordinary least squares.\n",
        "\n",
        "In order to obtain the parameters for the linear regression line for a set of multiple points, we can re-write the problem as matrix equation $\\pmb X \\; \\pmb a = \\pmb y$:\n",
        "\n",
        "$\\Bigg[ \\begin{array}{cc}\n",
        "x_1 & 1  \\\\\n",
        "... & 1 \\\\\n",
        "x_n & 1  \\end{array} \\Bigg] \\bigg[ \\begin{array}{c}\n",
        "m  \\\\\n",
        "c \\end{array} \\bigg] =\\Bigg[ \\begin{array}{c}\n",
        "y_1   \\\\\n",
        "...  \\\\\n",
        "y_n  \\end{array} \\Bigg]$\n",
        "\n",
        "where $\\pmb a = [m\\;c]^T$, and $\\pmb a = (\\pmb X^T \\; \\pmb X)^{-1} \\pmb X^T \\; \\pmb y$ (see for example [here](https://towardsdatascience.com/analytical-solution-of-linear-regression-a0e870b038d5) or [here](https://www.cs.toronto.edu/~rgrosse/courses/csc311_f20/readings/notes_on_linear_regression.pdf) for details)\n",
        "\n",
        "The more classic approach to obtain the slope parameter  a  and y-axis intercept  b  would be:\n",
        "\n",
        "$m = \\frac{S_{x,y}}{\\sigma_{x}^{2}}\\quad$  (slope)\n",
        "\n",
        "$c = \\bar{y} - m\\bar{x}\\quad$  (y-axis intercept)\n",
        "\n",
        "where\n",
        "\n",
        "$S_{x,y}=\\sum^n_{i=1}(x_i−\\bar{x})(y_i−\\bar{y})$  (covariance)\n",
        "\n",
        "$\\sigma{_x}^{2} = \\sum_{i=1}^{n} (x_i - \\bar{x})^2\\quad$  (variance)\n",
        "\n",
        "<img src=https://i.imgur.com/EoWWdBj.png width=\"500\">\n",
        "\n",
        "<sup>By https://blog.stata.com/ </sup>\n",
        "\n"
      ],
      "metadata": {
        "id": "KGqPI6hGGj4F"
      }
    },
    {
      "cell_type": "code",
      "source": [
        "def leastsquares(x, y):\n",
        "    \"\"\" Computes the least-squares solution to a linear matrix equation. \"\"\"\n",
        "    X = np.vstack([x, np.ones(len(x))]).T\n",
        "    return (np.linalg.inv(X.T.dot(X)).dot(X.T)).dot(y)"
      ],
      "metadata": {
        "id": "DSekJSKDGu61"
      },
      "execution_count": null,
      "outputs": []
    },
    {
      "cell_type": "code",
      "source": [
        "result = leastsquares(x, data)\n",
        "\n",
        "# Print coefficients\n",
        "print('\\n\\n * I have found: m = {} (true={}), c = {} (true={})\\n\\n'.format(result[0], m, result[1], c))\n",
        "\n",
        "# plot the results\n",
        "fig, ax = plt.subplots(figsize=(9,6))\n",
        "ax.plot(x, data, 'bo', alpha=0.5, label='data')\n",
        "ax.plot(x, straight_line(x, m, c), 'r-', lw=2, label='model')\n",
        "ax.plot(x, straight_line(x, result[0], result[1]), lw=2, label='Estimated', linestyle='--', color='lightseagreen')\n",
        "ax.legend()\n",
        "ax.set_xlim([xmin, xmax])\n",
        "ax.set_xlabel(r'$x$');"
      ],
      "metadata": {
        "id": "mKgRXrgIG0UT"
      },
      "execution_count": null,
      "outputs": []
    },
    {
      "cell_type": "markdown",
      "source": [
        "### Basics on Bayesian statistics\n",
        "\n",
        "In the framework of Bayesian statistics, we aproach the problem from a different angle. Now, we do not talk about \"trials\" (i.e. coin flips), but we assume the parameters of interest are themselves random variables. At the same time we are able to use our prior beliefs to the problem. A prior encapsulates basically any information that is available before inference.\n",
        "\n",
        "In the context of Bayesian parameter estimation, e.g., we have a model, $y$, defined by a set of parameters, ${\\vec{\\theta}}$, with certain prior probability distributions $p(\\vec{\\theta}|I)$, and we want to efficiently sample from the marginalised posterior probability distributions on those parameters given some data, $\\mathbf{d}$, and a particular [likelihood function](https://en.wikipedia.org/wiki/Likelihood_function), $p(\\mathbf{d}|\\vec{\\theta},I)$, ($I$ is just a substitute for all the implicit assumptions that have gone into defining our model). From Bayes theorem we have the joint posterior on the whole set of parameters,\n",
        "\n",
        "$$\n",
        "p(\\vec{\\theta}|\\mathbf{d},I) = \\frac{p(\\mathbf{d}|\\vec{\\theta},I) p(\\vec{\\theta}|I)}{p(\\mathbf{d}|I)},\n",
        "$$\n",
        "\n",
        "The $p(\\mathbf{d}|I)$ is the [marginal likelihood](https://en.wikipedia.org/wiki/Marginal_likelihood), or *evidence*, for the data given the particular model used, and is given by\n",
        "\n",
        "$$\n",
        "p(\\mathbf{d}|I) = \\int^{\\forall \\theta_i \\in \\vec{\\theta}} p(\\mathbf{d}|\\vec{\\theta},I) p(\\vec{\\theta}|I) {\\rm d}{\\theta_i},\n",
        "$$\n",
        "\n",
        "which is a normalising constant for the posterior.\n",
        "\n",
        "> **Note:** This normalization constant might not be relevant for PE, but it's crucial for Bayesian model selection.\n",
        "\n",
        "Our aim is to describe the posterior probability of the given system. One way to do this is to produce samples drawn from the $p(m, c|\\mathbf{d},I)$, which can be used (by, e.g., histogramming the sample values) to approximate the marginal posteriors $p(m|\\mathbf{d},I)$ and $p(c|\\mathbf{d},I)$.\n",
        "\n",
        "\n",
        "### Getting started: Setting the likelihood\n",
        "\n",
        "A sensible and fairly standard likelihood function (due to the [Central Limit Theorem](https://en.wikipedia.org/wiki/Central_limit_theorem) and [maximum entropy arguments](https://en.wikipedia.org/wiki/Maximum_entropy_probability_distribution#Specified_variance:_the_normal_distribution)) for a single data point given values of $m$ and $c$ and a known noise standard deviation, will be given by a Gaussian distribution of the form\n",
        "\n",
        "$$\n",
        "p(n_i|m,c,I) = \\left(2\\pi\\sigma_i^2\\right)^{-1/2} \\exp{\\left(-\\frac{\\left[n_i\\right]^2}{2\\sigma_i^2} \\right)},\n",
        "$$\n",
        "\n",
        "$$\n",
        "p(d_i|m,c,I) = \\left(2\\pi\\sigma_i^2\\right)^{-1/2} \\exp{\\left(-\\frac{\\left[(d_i - y(x_i;m,c)\\right]^2}{2\\sigma_i^2} \\right)},\n",
        "$$\n",
        "\n",
        "and the joint likelihood for the whole dataset of $n$ points (assuming independent noise \\[!\\] ) will be the product of the individual likelihoods\n",
        "\n",
        "$$\n",
        "p(\\mathbf{d}|m,c,I) = \\prod_{i=1}^n p(d_i|m,c,I) = \\left(2\\pi\\right)^{-n/2}\\left(\\prod_{i=1}^n \\sigma_i^{-1} \\right) \\exp{\\left(-\\sum_{i=1}^n\\frac{\\left[(d_i - y(x_i;m,c)\\right]^2}{2\\sigma_i^2} \\right)}.\n",
        "$$\n",
        "\n",
        "When computing likelihoods, numerical considerations mean that one almost always works with the natural logarithm of the likelihood, so we have\n",
        "\n",
        "$$\n",
        "\\ln{p(\\mathbf{d}|m,c,I)} \\equiv \\log{L} = -\\frac{n}{2}\\ln{(2\\pi)} - \\ln\\left(\\prod_{i=1}^n \\sigma_i\\right) - \\sum_{i=1}^n\\frac{\\left[(d_i - y(x_i;m,c)\\right]^2}{2\\sigma_i^2}.\n",
        "$$\n",
        "\n",
        "For many cases we can ignore the terms that do not include our required parameters when sampling from their marginalised likelihoods (as they will just be constants), so often the log-likelihood can be set to be\n",
        "\n",
        "$$\n",
        "\\log{L} = - \\sum_{i=1}^n\\frac{\\left[(d_i - y(x_i;m,c)\\right]^2}{2\\sigma_i^2}.\n",
        "$$\n",
        "\n",
        "> **Note**: If wanting to evaluate the marginal likelihood for the data (e.g. using nested sampling)\n",
        "> to use it for [model comparison](https://en.wikipedia.org/wiki/Bayes%5ffactor), the constants\n",
        "> may be required."
      ],
      "metadata": {
        "id": "yOlY9yduHFP2"
      }
    },
    {
      "cell_type": "code",
      "source": [
        "def loglikelihood(theta):\n",
        "    \"\"\"\n",
        "    The natural logarithm of the joint Gaussian likelihood.\n",
        "\n",
        "    Args:\n",
        "        theta (tuple): a sample containing individual parameter values\n",
        "        data (list): the set of data/observations\n",
        "        sigma (float): the standard deviation of the data points\n",
        "        x (list): the abscissa values at which the data/model is defined\n",
        "\n",
        "    Note:\n",
        "        We do not include the normalisation constants (as discussed above).\n",
        "    \"\"\"\n",
        "\n",
        "    llh = 0.0\n",
        "\n",
        "    # return the log likelihood\n",
        "    return llh"
      ],
      "metadata": {
        "id": "Zefl7_J5H5sN"
      },
      "execution_count": null,
      "outputs": []
    },
    {
      "cell_type": "markdown",
      "source": [
        "### Setting the prior\n",
        "\n",
        "In addition to the likelihood, we need to define [prior](https://en.wikipedia.org/wiki/Prior_probability) distributions on the parameters. We will use a uniform probability distribution for both parameters, for example:\n",
        "\n",
        "$$\n",
        "p(c|c_{\\rm min}, c_{\\rm max}) = \\Bigg\\{\\begin{array}{cl}\n",
        "\\frac{1}{c_{\\rm max}-c_{\\rm min}} & \\text{if}~c_{\\rm min} < c < c_{\\rm max}, \\\\\n",
        "0 & \\text{otherwise}.\n",
        "\\end{array}\n",
        "$$\n",
        "\n",
        "In our example we can set:\n",
        "\n",
        " * $\\mu_{\\rm min} = -20$ and $\\mu_{\\rm max} = 20$,\n",
        " * $c_{\\rm min} = -10$ and $c_{\\rm max} = 10$.\n"
      ],
      "metadata": {
        "id": "n3i-4nGCH8aX"
      }
    },
    {
      "cell_type": "markdown",
      "source": [
        "If we use the Eryn infrastructure, then we need to use the `ProbDistContainer`. For more details see [here](https://mikekatz04.github.io/Eryn/html/user/prior.html)."
      ],
      "metadata": {
        "id": "rkV7ie38iL61"
      }
    },
    {
      "cell_type": "code",
      "source": [
        "prior = ProbDistContainer({\n",
        "    0: uniform_dist(-20.0, 20.0),\n",
        "    1: uniform_dist(-10.0, 10.0)\n",
        "})"
      ],
      "metadata": {
        "id": "fdvz5zNwKSIR"
      },
      "execution_count": null,
      "outputs": []
    },
    {
      "cell_type": "markdown",
      "source": [
        "As already mentioned, one can use other tools as well. For example, to make it work with `emcee`, we would need to define prior and posterior functions as well, like below:\n",
        "```\n",
        "def logprior(theta):\n",
        "    \"\"\"\n",
        "    The natural logarithm of the prior probability.\n",
        "    \"\"\"\n",
        "    lp = 0.\n",
        "    # uniform prior on theta\n",
        "    cmin, cmax = -10., 10 # Range of prior\n",
        "    # set prior to 1 (log prior to 0) if in the range and zero (-inf) outside the range\n",
        "    # (we don't care about it being properly normalised, but you can if you want)\n",
        "    lp = 0. if cmin < theta < cmax else -np.inf\n",
        "    return lp\n",
        "```\n",
        "And for the pooterior:\n",
        "```\n",
        "def logposterior(theta, data, sigma, x):\n",
        "    \"\"\"\n",
        "    The natural logarithm of the joint posterior.\n",
        "    \"\"\"\n",
        "    lp = logprior(theta) # get the prior\n",
        "    # if the prior is not finite return a probability of zero (log probability of -inf)\n",
        "    if not np.isfinite(lp):\n",
        "        return -np.inf\n",
        "    return lp + loglikelihood(theta, data, sigma, x)\n",
        "```\n",
        "Then we can run the `emcee` as\n",
        "```\n",
        "argslist = (data, sigma, x)\n",
        "sampler = emcee.EnsembleSampler(Nwalkers, ndims, logposterior, args=argslist)\n",
        "sampler.run_mcmc(x0, Nsamples);\n",
        "```\n",
        "\n",
        "\n",
        "Let us continue with `Eryn`, which is essentially a version of `emcee` with extra features:"
      ],
      "metadata": {
        "id": "gvIUq2gtiDx-"
      }
    },
    {
      "cell_type": "code",
      "source": [
        "# set up the sampler\n",
        "sampler_line = EnsembleSampler(nwalkers, 2, loglikelihood, prior, )"
      ],
      "metadata": {
        "id": "D4r7uq0oIXlF"
      },
      "execution_count": null,
      "outputs": []
    },
    {
      "cell_type": "code",
      "source": [
        "start_point = prior.rvs(size=(1, nwalkers, 1))\n",
        "start_state = State(start_point)"
      ],
      "metadata": {
        "id": "fPyiIJH0Pv5k"
      },
      "execution_count": null,
      "outputs": []
    },
    {
      "cell_type": "code",
      "source": [
        "end_point = sampler_line.run_mcmc(start_state, 10000, progress=True)"
      ],
      "metadata": {
        "colab": {
          "base_uri": "https://localhost:8080/"
        },
        "id": "ZBOdG0WSLDb7",
        "outputId": "ff682bfb-c357-4d14-e622-41e5530a528c"
      },
      "execution_count": null,
      "outputs": [
        {
          "output_type": "stream",
          "name": "stderr",
          "text": [
            "100%|██████████| 10000/10000 [00:29<00:00, 333.44it/s]\n"
          ]
        }
      ]
    },
    {
      "cell_type": "code",
      "source": [
        "samples = sampler_line.get_chain()[\"model_0\"][:, 0].reshape(-1, 2)"
      ],
      "metadata": {
        "id": "2qd04tKcQe3r"
      },
      "execution_count": null,
      "outputs": []
    },
    {
      "cell_type": "markdown",
      "source": [
        "Plot the MCMC chains:"
      ],
      "metadata": {
        "id": "W42HdwUVhihL"
      }
    },
    {
      "cell_type": "code",
      "source": [
        "fig, axs = plt.subplots(2, 1, figsize=(12,6), sharex=True)\n",
        "axs[0].plot(samples[:,0], )\n",
        "axs[0].set_ylabel('$m$')\n",
        "\n",
        "axs[1].plot(samples[:,1], )\n",
        "axs[1].set_ylabel('$c$')\n",
        "axs[1].set_xlabel('Samples')\n",
        "axs[1].set_xlim(0, samples.shape[0])\n",
        "\n",
        "plt.show()"
      ],
      "metadata": {
        "id": "9R-37v7dIiab"
      },
      "execution_count": null,
      "outputs": []
    },
    {
      "cell_type": "markdown",
      "source": [
        "Plot the posteriors with `chainconsumer` as before. Do nto forget to `burn`!"
      ],
      "metadata": {
        "id": "p30YgOCshnmJ"
      }
    },
    {
      "cell_type": "code",
      "source": [],
      "metadata": {
        "id": "9aqJowFHI53-"
      },
      "execution_count": null,
      "outputs": []
    },
    {
      "cell_type": "markdown",
      "source": [
        "# B. MCMC & Gravitational Waves from MBHBs\n",
        "\n",
        "In this section we will apply MCMC algorithms on the case of MBHB signals as measured by LISA. We will use the same binary as in the previous section, but we will focus on a noiseless analysis.\n",
        "\n",
        "We will be using the `lisabeta` software developed by S. Marsat _et al_ ([2003.00357](https://arxiv.org/abs/2003.00357)), which is available with the `ldc` software. Besides `lisabeta` we could also use [`BBHx`](https://github.com/mikekatz04/BBHx) developed by M. Katz, or any other suitable package.\n",
        "\n",
        "The parameters of the binary are given below:"
      ],
      "metadata": {
        "id": "SYDtSTuysVFp"
      }
    },
    {
      "cell_type": "code",
      "source": [
        "pMBHB_ldc = {\n",
        "            'EclipticLatitude': -0.30300442294174235,\n",
        "            'EclipticLongitude': 1.2925183861048521,\n",
        "            'PolarAngleOfSpin1': 1.2031361791056812,\n",
        "            'PolarAngleOfSpin2': 2.097303543065685,\n",
        "            'Spin1': 0.747377,\n",
        "            'Spin2': 0.8388,\n",
        "            'Mass1': 1323277.47932,\n",
        "            'Mass2': 612485.5060299999,\n",
        "            'CoalescenceTime': 11526944.921879262,\n",
        "            'PhaseAtCoalescence': 1.2201968860015653,\n",
        "            'InitialPolarAngleL': 2.6919824500032945,\n",
        "            'InitialAzimuthalAngleL': 1.808398497592109,\n",
        "            'Redshift': 1.73941,\n",
        "            'Distance': 13449.011,\n",
        "            'ObservationDuration': 31558149.763545603,\n",
        "            'Cadence': 3.0}"
      ],
      "metadata": {
        "id": "4HcUkfRSuC7x"
      },
      "execution_count": null,
      "outputs": []
    },
    {
      "cell_type": "markdown",
      "source": [
        "## B.1 Signal generation\n",
        "\n",
        "Lets assume a time step and a total observation time for our simulated signal."
      ],
      "metadata": {
        "id": "QB3-rvp4YJ6I"
      }
    },
    {
      "cell_type": "code",
      "source": [
        "dt = 5\n",
        "tmax = 3.155815e+05 # both in [sec]"
      ],
      "metadata": {
        "id": "h8r9c-grsX4C"
      },
      "execution_count": null,
      "outputs": []
    },
    {
      "cell_type": "markdown",
      "source": [
        "We need to instantiate the class given the above settings. `lisabeta` requires a specific parametrisation (and parameter names), which is slightly different to the standard `ldc` naming conventions. We can do the transformation with the `rename_as_lisabeta` function."
      ],
      "metadata": {
        "id": "WoyTVAYkYcgu"
      }
    },
    {
      "cell_type": "code",
      "source": [
        "FBH = FastBHB(\"MBHB\", T=tmax, delta_t=dt, approx=\"IMRPhenomD\")\n",
        "\n",
        "pMBHB = FBH.rename_as_lisabeta(pMBHB_ldc)\n",
        "\n",
        "print(pMBHB.keys())"
      ],
      "metadata": {
        "colab": {
          "base_uri": "https://localhost:8080/"
        },
        "id": "Zk1KgdwjYY5L",
        "outputId": "0706af1a-8072-4c25-b643-09b779c20ded"
      },
      "execution_count": null,
      "outputs": [
        {
          "output_type": "stream",
          "name": "stdout",
          "text": [
            "dict_keys(['beta', 'lambda', 'chi1', 'chi2', 'm1', 'm2', 'Deltat', 'phi', 'dist', 'psi', 'inc'])\n"
          ]
        }
      ]
    },
    {
      "cell_type": "markdown",
      "source": [
        "Next, we need to define some extra settings for hte waveform. The most important for now, are the `TDI`, `t0`, `modes`, `timetomerger_max`, and the `approximant`. Sylvain can offer more details about the different software settings.\n",
        "\n",
        "The waveform is decomposed in several parts:\n",
        "$$ TDI_A(f) = T_A(t,f) A(f) e^{i\\Psi(f)} $$\n",
        "    \n",
        "   * Response:  $T_A(t,f)$ is a complax function\n",
        "   * Phase in frequency domain $\\Psi(f)$\n",
        "    \n",
        "Both are slow varying functions. The overall amplitude is $A = T_A(t,f) A(f)$"
      ],
      "metadata": {
        "id": "Jp07a9wGZjpK"
      }
    },
    {
      "cell_type": "code",
      "source": [
        "waveform_params_smbh = {\n",
        "    \"minf\": 1e-5,\n",
        "    \"maxf\": 1,\n",
        "    \"t0\": 0.0,\n",
        "    \"timetomerger_max\": 1.0,\n",
        "    \"tmax\": 1.0,\n",
        "    \"TDI\": \"TDI2AET\",\n",
        "    \"approximant\": \"IMRPhenomD\",\n",
        "    \"TDIrescaled\": False,\n",
        "}"
      ],
      "metadata": {
        "id": "eLjFJ3ZdjV6_"
      },
      "execution_count": null,
      "outputs": []
    },
    {
      "cell_type": "markdown",
      "source": [
        "Compute the waveform given the injection parameters:"
      ],
      "metadata": {
        "id": "sxw9HzaqetAX"
      }
    },
    {
      "cell_type": "code",
      "source": [
        "tdisignal = lisa.GenerateLISATDISignal_SMBH(pMBHB, **waveform_params_smbh)"
      ],
      "metadata": {
        "id": "Swn0RgmB8EqX"
      },
      "execution_count": null,
      "outputs": []
    },
    {
      "cell_type": "markdown",
      "source": [
        "Investigate the output. It's the TDI of the noiseless waveform (three channels), and some other basic information."
      ],
      "metadata": {
        "id": "CNS2bwZweyVD"
      }
    },
    {
      "cell_type": "code",
      "source": [
        "# Content of tdisignal"
      ],
      "metadata": {
        "id": "qcMUeP7aid2i"
      },
      "execution_count": null,
      "outputs": []
    },
    {
      "cell_type": "markdown",
      "source": [
        "Get components of the waveform out by selecting the (2,2) mode (dict key):"
      ],
      "metadata": {
        "id": "hWB2ELc7ihUJ"
      }
    },
    {
      "cell_type": "code",
      "source": [
        "mbh_lb = tdi[(2,2)] # get components of the waveform out"
      ],
      "metadata": {
        "id": "J_O5F7rTfef5"
      },
      "execution_count": null,
      "outputs": []
    },
    {
      "cell_type": "markdown",
      "source": [
        "Plot the phase, and real and imaginary parts of the waveform."
      ],
      "metadata": {
        "id": "lWMmva_xflkB"
      }
    },
    {
      "cell_type": "code",
      "source": [
        "fig, ax = plt.subplots(figsize=(14,7), nrows=2, ncols=1, sharex=True)\n",
        "ax[0].semilogx(mbh_lb['freq'], mbh_lb['phase'], label=\"phase\")\n",
        "ax[0].legend(loc = 'upper left')\n",
        "ax[1].semilogx(mbh_lb['freq'], mbh_lb['amp_real_chan1'], label='response real part')\n",
        "ax[1].semilogx(mbh_lb['freq'], mbh_lb['amp_imag_chan1'], label='response imag part')\n",
        "ax[1].legend(loc = 'upper left')\n",
        "plt.axis([mbh_lb['freq'][0], mbh_lb['freq'][-1], None, None])\n",
        "plt.show()"
      ],
      "metadata": {
        "id": "ZMbo_sFR8ZjW"
      },
      "execution_count": null,
      "outputs": []
    },
    {
      "cell_type": "markdown",
      "source": [
        "Plot the PSD of the signal now. First we will need to compute the full frequency array for the assumed measurement."
      ],
      "metadata": {
        "id": "Jfq3FxCofwZN"
      }
    },
    {
      "cell_type": "markdown",
      "source": [
        "First, we ned to get the minimum and maximum frequencies from the generated signal. We get this information from the `'freq'` key, as above:"
      ],
      "metadata": {
        "id": "3dEQ6BPvizSZ"
      }
    },
    {
      "cell_type": "code",
      "source": [
        "fmin = mbh_lb['freq'][0]\n",
        "fmax = mbh_lb['freq'][-1]"
      ],
      "metadata": {
        "id": "hj1ykgcrjBpH"
      },
      "execution_count": null,
      "outputs": []
    },
    {
      "cell_type": "code",
      "source": [
        " # frequency band of the signal\n",
        "ndata = int(tmax/dt)\n",
        "df = 1/tmax\n",
        "\n",
        "# Get the full frequencies\n",
        "if (ndata % 2)==0:              # Get the number of requencies\n",
        "    nfft = int((ndata/2)+1)\n",
        "else:\n",
        "    nfft = int((ndata+1)/2)\n",
        "\n",
        "F = df*nfft                 # make the positive frequency vector\n",
        "fvec = np.arange(0, F, df)"
      ],
      "metadata": {
        "id": "dDACq29Z8_bX"
      },
      "execution_count": null,
      "outputs": []
    },
    {
      "cell_type": "code",
      "source": [
        "# Get the frequencies of interest\n",
        "f_inds = np.where(np.logical_and(fvec >= fmin, fvec < fmax))\n",
        "fvec = fvec[f_inds]"
      ],
      "metadata": {
        "id": "PHO2K894jF0D"
      },
      "execution_count": null,
      "outputs": []
    },
    {
      "cell_type": "markdown",
      "source": [
        "Now, we need to spline the parts of the signal and construct the signal at each Fourier frequency. We will first do that for a single channel:"
      ],
      "metadata": {
        "id": "vdm7rYVlgga2"
      }
    },
    {
      "cell_type": "code",
      "source": [
        "# constructing spline\n",
        "splPh = spline(mbh_lb['freq'], mbh_lb['phase'], ext='raise') # Note the raise!\n",
        "splAr = spline(mbh_lb['freq'], mbh_lb['amp_real_chan1'])\n",
        "splAi = spline(mbh_lb['freq'], mbh_lb['amp_imag_chan1'])\n",
        "\n",
        "# constructing signal at each Fouriner freq.\n",
        "Afull = np.conjugate((splAr(fvec) + 1.j*splAi(fvec))*np.exp(1j*splPh(fvec)))"
      ],
      "metadata": {
        "id": "F6Qg2mcbgdUw"
      },
      "execution_count": null,
      "outputs": []
    },
    {
      "cell_type": "markdown",
      "source": [
        "A simpler way to do this, is to use the internal functions of `lisabeta`. We use the `EvaluateTDIFreqseries` as:"
      ],
      "metadata": {
        "id": "ehZ5zl65g_kh"
      }
    },
    {
      "cell_type": "code",
      "source": [
        "Afull_another_way = np.conj(EvaluateTDIFreqseries(tdisignal['tdi'], fvec)[(2, 2)]['chan1'])"
      ],
      "metadata": {
        "id": "hqMwz0sIhIP1"
      },
      "execution_count": null,
      "outputs": []
    },
    {
      "cell_type": "markdown",
      "source": [
        "Now we can plot them together, and they should return the same result. We can use the `AnalyticNoise` class from the `ldc` software to define a noise curve for plotting as well."
      ],
      "metadata": {
        "id": "I_pEwGwrhSZd"
      }
    },
    {
      "cell_type": "code",
      "source": [
        "# noise here as AnalyticNoise(frequency_vector, model=\"version_of_noise\")\n",
        "# The TDI A PSD is given by the psd static function. Better to set tdi2=True as well"
      ],
      "metadata": {
        "id": "L5Z3a2EpjakQ"
      },
      "execution_count": null,
      "outputs": []
    },
    {
      "cell_type": "code",
      "source": [
        "# Plot the TDI A signal and noise"
      ],
      "metadata": {
        "id": "4l0WZjevg5b4"
      },
      "execution_count": null,
      "outputs": []
    },
    {
      "cell_type": "markdown",
      "source": [
        "Lets do the same for the rest of the channels and plot them together:"
      ],
      "metadata": {
        "id": "GTDa5vIghg0f"
      }
    },
    {
      "cell_type": "code",
      "source": [
        "# Compute the rest of the channels, and plot everythign together. We use the AET conventions"
      ],
      "metadata": {
        "id": "XRSytSeMhkvV"
      },
      "execution_count": null,
      "outputs": []
    },
    {
      "cell_type": "markdown",
      "source": [
        "### Proceed with likelihoods, SNRs and other useful quantities"
      ],
      "metadata": {
        "id": "vI5VEim0j5Wz"
      }
    },
    {
      "cell_type": "markdown",
      "source": [
        "To compute likelihood/SNR we need to define the inner product for real time series $a$ and $b$:\n",
        "$$ (a | b) = 4 \\Re \\int_{f>0} \\frac{\\tilde{a}(f) \\tilde{b}^*(f)}{S_n(f)}\\, df$$\n",
        "\n",
        "which is approximated as a sum:\n",
        "$$\n",
        "4 \\Re \\sum_i \\frac{\\tilde{a}(f_i) \\tilde{b}^*(f_i)}{S_n(f_i)} \\Delta f\n",
        "$$\n",
        "where $(\\tilde{\\,\\,})$ denotes the Fourier transform.\n",
        "\n",
        "For a signal $s$ (in our case, $s$ is a TDI channel) the optimal SNR is:\n",
        "$$\n",
        "\\mathrm{SNR}^2 = (s|s)\n",
        "$$\n",
        "\n",
        "For Gaussian, stationary noise, the log-likelihood for a a single GW source is simply:\n",
        "$$\n",
        "\\Lambda (d|\\theta) = -\\frac{1}{2} (s(\\theta) - d|s(\\theta) - d)\n",
        "$$\n",
        "Here $d = s(\\theta_0) + n$ is the detector data, with $n$ the detector noise realization and $s(\\theta_0)$ is the true signal.\n",
        "\n",
        "The TDI channels A,E,T, linear combinations of X,Y,Z are (approximately) independent, and T is a null channel except at high frequencies. This allows to write the likelihood simply as a sum over A,E channels:\n",
        "\n",
        "$$\n",
        "\\Lambda = -\\frac{1}{2} (s_A - d_A|s_A - d_A) -\\frac{1}{2} (s_E - d_E|s_E - d_E)\n",
        "$$\n",
        "\n",
        "Or, we write for each $i$ channel:\n",
        "\n",
        "$$ -\\frac1{2} (d - s_i | d - s_i) = -\\frac1{2} (d|d) + (d|s_i) - \\frac1{2} (s_i|s_i) \\to (d|s_i(\\theta)) - \\frac1{2} (s_i|s_i)(\\theta)$$\n"
      ],
      "metadata": {
        "id": "Ey6QdsBPhD9X"
      }
    },
    {
      "cell_type": "markdown",
      "source": [
        "In order to save some computational time, we can proceed with **analysing a single TDI channel**. Thus, we will write the likelihood for the equation above:"
      ],
      "metadata": {
        "id": "ifRRBKiUnan_"
      }
    },
    {
      "cell_type": "code",
      "source": [
        "def compute_likelihood(D, h, Sn, df):\n",
        "    return None"
      ],
      "metadata": {
        "id": "VNx2S5vW_tRI"
      },
      "execution_count": null,
      "outputs": []
    },
    {
      "cell_type": "markdown",
      "source": [
        "Define the theoretical noise curve using the `AnalyticNoise` class. Then we can get the PSD for a given channel by running its `psd` function as\n",
        "\n",
        "``\n",
        "Npsd = analytic_noise_class.psd(option='a_given_channel_here', tdi2=True)\n",
        "``"
      ],
      "metadata": {
        "id": "nyeVLo_0nntg"
      }
    },
    {
      "cell_type": "code",
      "source": [
        "# Noise curve again"
      ],
      "metadata": {
        "id": "li6KhnRa_1QG"
      },
      "execution_count": null,
      "outputs": []
    },
    {
      "cell_type": "markdown",
      "source": [
        "Let us now compute the SNR and likelihood:"
      ],
      "metadata": {
        "id": "mneCHeQkoQ1m"
      }
    },
    {
      "cell_type": "code",
      "source": [
        "SN2, XX, loglik =  compute_likelihood(Afull, Afull, Npsd, df)\n",
        "print (f'for A-TDI: the optimal SNR  {np.sqrt(XX)} and likelihood is {loglik}')"
      ],
      "metadata": {
        "colab": {
          "base_uri": "https://localhost:8080/"
        },
        "id": "UuvMhLp9ASkr",
        "outputId": "884d88e7-2e51-4c2f-bde7-27ca31437206"
      },
      "execution_count": null,
      "outputs": [
        {
          "output_type": "stream",
          "name": "stdout",
          "text": [
            "for A-TDI: the optimal SNR  1885.7478996549507 and likelihood is 1778022.570526529\n"
          ]
        }
      ]
    },
    {
      "cell_type": "markdown",
      "source": [
        "## B.2 Sampling with MCMC\n",
        "\n",
        "Now that we know how to generate signals in frequency domain, we can proceed with the setup of the sampling scheme. First we choose to sample a different parametrization. At the same time, we will be sampling only a small fraction of the parameters of the waveform. Otherwise our simple MCMC setup would require way too much computational time to converge. Acceleration techniques have been implemented for LISA (see below this section for a list of methods and software)."
      ],
      "metadata": {
        "id": "lRccjwKhA91O"
      }
    },
    {
      "cell_type": "markdown",
      "source": [
        "We sue the mass ratio and the chirp mass, defined as:\n",
        "\n",
        "$$ q = \\frac{m_1}{m_2}$$\n",
        "\n",
        "$$ M_\\mathrm{chirp} = (m_1 + m_2)\\left(\\frac{q}{(q+1)^2}\\right)^{3/5}$$"
      ],
      "metadata": {
        "id": "UfuU9Rc9fIlk"
      }
    },
    {
      "cell_type": "code",
      "source": [
        "m1 = pMBHB['m1']\n",
        "m2 = pMBHB['m2']\n",
        "\n",
        "q = m1/m2\n",
        "Mc = (m1+m2)*(q/(1+q)**2)**0.6\n",
        "\n",
        "pMBHB[\"Mchirp\"] = Mc\n",
        "pMBHB[\"q\"] = q\n",
        "\n",
        "pMBHB_fit = copy.deepcopy(pMBHB)\n",
        "\n",
        "# Remove those keys, otherwise the code will\n",
        "# fit for m1 and m2 instead of Mchirp and q.\n",
        "del pMBHB_fit[\"m1\"]\n",
        "del pMBHB_fit[\"m2\"]"
      ],
      "metadata": {
        "id": "q1Wy8J8tnzee"
      },
      "execution_count": null,
      "outputs": []
    },
    {
      "cell_type": "code",
      "source": [
        "pMBHB_fit"
      ],
      "metadata": {
        "colab": {
          "base_uri": "https://localhost:8080/"
        },
        "id": "t5Xg5BzZzXsL",
        "outputId": "4c82a0b0-db21-4372-dbee-e51a9e1a68d7"
      },
      "execution_count": null,
      "outputs": [
        {
          "output_type": "execute_result",
          "data": {
            "text/plain": [
              "{'beta': -0.30300442294174235,\n",
              " 'lambda': 1.2925183861048521,\n",
              " 'chi1': 0.26863190922667673,\n",
              " 'chi2': -0.4215109787709388,\n",
              " 'Deltat': 11526944.921879262,\n",
              " 'phi': 1.2201968860015653,\n",
              " 'dist': 13449.011,\n",
              " 'psi': -1.8503700516659007,\n",
              " 'inc': 2.2517895222056112,\n",
              " 'Mchirp': 772462.8571528315,\n",
              " 'q': 2.160504152820206}"
            ]
          },
          "metadata": {},
          "execution_count": 43
        }
      ]
    },
    {
      "cell_type": "code",
      "source": [
        "# Define which data-set to fit for\n",
        "D = Afull.copy()\n",
        "\n",
        "def likelihood(pvector):\n",
        "\n",
        "    Mc, q, dist = pvector[:]\n",
        "    pMBHB_fit[\"Mchirp\"] = Mc\n",
        "    pMBHB_fit[\"q\"] = q\n",
        "    pMBHB_fit[\"dist\"] = dist\n",
        "\n",
        "    # ...\n",
        "\n",
        "    return loglik"
      ],
      "metadata": {
        "id": "thLRMnCYBF3B"
      },
      "execution_count": null,
      "outputs": []
    },
    {
      "cell_type": "code",
      "source": [
        "loglik =  likelihood([pMBHB[\"Mchirp\"], pMBHB[\"q\"], pMBHB[\"dist\"]])\n",
        "print (f'for A-TDI likelihood is {loglik}')"
      ],
      "metadata": {
        "colab": {
          "base_uri": "https://localhost:8080/"
        },
        "id": "2qmdFCOQFEW5",
        "outputId": "3aaf0856-3505-47bb-d27d-19d51d3c742d"
      },
      "execution_count": null,
      "outputs": [
        {
          "output_type": "stream",
          "name": "stdout",
          "text": [
            "for A-TDI likelihood is 1778022.57052653\n"
          ]
        }
      ]
    },
    {
      "cell_type": "markdown",
      "source": [
        "We can now define the priors for the parameters. Toi keep things simple, let us use uniform priors like before:\n",
        "$$M_\\mathcal{chirm}\\sim U[10^5, 10^7]$$\n",
        "$$q\\sim U[1, 10]$$\n",
        "$$D\\sim U[500, 10^6]$$"
      ],
      "metadata": {
        "id": "IIkqGIpwkq2U"
      }
    },
    {
      "cell_type": "code",
      "source": [
        "priors = {\"mbh\": ProbDistContainer({})}"
      ],
      "metadata": {
        "id": "BpLArWuRAP1Z"
      },
      "execution_count": null,
      "outputs": []
    },
    {
      "cell_type": "code",
      "source": [
        "ntemps = 5\n",
        "nwalkers = 20\n",
        "nsamples = 2000\n",
        "ndims = {\"mbh\": 3}\n",
        "\n",
        "sampler = EnsembleSampler(\n",
        "    nwalkers,\n",
        "    ndims,\n",
        "    likelihood,\n",
        "    priors,\n",
        "    args=(),\n",
        "    branch_names=[\"mbh\"],\n",
        "    tempering_kwargs=dict(ntemps=ntemps),\n",
        "    nleaves_max=dict(mbh=1),\n",
        ")\n"
      ],
      "metadata": {
        "id": "xJdS8paFIHfL"
      },
      "execution_count": null,
      "outputs": []
    },
    {
      "cell_type": "markdown",
      "source": [
        "We need to initialize the walkers, so we can either draw from prior as before, or -to make things a bit faster- we can draw random values around the true parameters. We can use the `numpy.random.randn` for this."
      ],
      "metadata": {
        "id": "JpDRoccwlRCo"
      }
    },
    {
      "cell_type": "code",
      "source": [
        "\n",
        "injection_params_sub = np.array([pMBHB[\"Mchirp\"], pMBHB[\"q\"], pMBHB[\"dist\"]])\n",
        "start_params = injection_params_sub[None, None, None, :] * (1 + 1e-7 * np.random.randn(ntemps, nwalkers, 1, injection_params_sub.shape[0]))\n",
        "\n",
        "start_state = State({\"mbh\": start_params})\n",
        "\n",
        "sampler.compute_log_prior(start_state.branches_coords);\n"
      ],
      "metadata": {
        "id": "t85ZX-qGIXdU"
      },
      "execution_count": null,
      "outputs": []
    },
    {
      "cell_type": "code",
      "source": [
        "sampler.run_mcmc(start_state, nsamples, progress=True)"
      ],
      "metadata": {
        "colab": {
          "base_uri": "https://localhost:8080/"
        },
        "id": "Ej8qRqduJqKo",
        "outputId": "64fb512e-205d-4544-c200-d84c0ed503cb"
      },
      "execution_count": null,
      "outputs": [
        {
          "output_type": "stream",
          "name": "stderr",
          "text": [
            "100%|██████████| 2000/2000 [16:06<00:00,  2.07it/s]\n"
          ]
        },
        {
          "output_type": "execute_result",
          "data": {
            "text/plain": [
              "<eryn.state.State at 0x7f927de2d930>"
            ]
          },
          "metadata": {},
          "execution_count": 49
        }
      ]
    },
    {
      "cell_type": "markdown",
      "source": [
        "Plot the chains again!"
      ],
      "metadata": {
        "id": "e27ZMnIFnTx9"
      }
    },
    {
      "cell_type": "code",
      "source": [],
      "metadata": {
        "id": "A26fBvxZnVj8"
      },
      "execution_count": null,
      "outputs": []
    },
    {
      "cell_type": "markdown",
      "source": [
        "Plot the posteriors:"
      ],
      "metadata": {
        "id": "OoYub8lclwl-"
      }
    },
    {
      "cell_type": "code",
      "source": [],
      "metadata": {
        "id": "Ni_z4ky4Aq70"
      },
      "execution_count": null,
      "outputs": []
    },
    {
      "cell_type": "markdown",
      "source": [
        "### Using the A and E noise-orthogonal channels.\n",
        "\n",
        "We repeat the same for both channels. The two channels are approximately noise-orthogonal, when certain conditions meet."
      ],
      "metadata": {
        "id": "nlSXwfGE7Nhr"
      }
    },
    {
      "cell_type": "code",
      "source": [
        "pMBHB_fit = copy.deepcopy(pMBHB)\n",
        "\n",
        "# Remove those keys, otherwise the code will\n",
        "# fit for m1 and m2 instead of Mchirp and q.\n",
        "del pMBHB_fit[\"m1\"]\n",
        "del pMBHB_fit[\"m2\"]\n",
        "\n",
        "DA = Afull.copy()\n",
        "DE = Efull.copy()\n",
        "\n",
        "def likelihood_2chnls(pvector):\n",
        "\n",
        "    Mc, q, dist = pvector[:]\n",
        "\n",
        "    # [...]\n",
        "\n",
        "    return loglik"
      ],
      "metadata": {
        "id": "TbbsHV547QYl"
      },
      "execution_count": null,
      "outputs": []
    },
    {
      "cell_type": "code",
      "source": [
        "loglik =  likelihood_2chnls([pMBHB[\"Mchirp\"], pMBHB[\"q\"], pMBHB[\"dist\"]])\n",
        "print (f'for A-TDI likelihood is {loglik}')"
      ],
      "metadata": {
        "colab": {
          "base_uri": "https://localhost:8080/"
        },
        "id": "vSA4-XQXd8gU",
        "outputId": "37b7790b-c855-4bb3-b134-0c77d26241e5"
      },
      "execution_count": null,
      "outputs": [
        {
          "output_type": "stream",
          "name": "stdout",
          "text": [
            "for A-TDI likelihood is 3159338.5778931393\n"
          ]
        }
      ]
    },
    {
      "cell_type": "markdown",
      "source": [
        "Define the sampler here:"
      ],
      "metadata": {
        "id": "J110fgNGmm81"
      }
    },
    {
      "cell_type": "code",
      "source": [
        "sampler_2chnnls = EnsembleSampler(\n",
        "    nwalkers,\n",
        "    ndims,\n",
        "    likelihood_2chnls,\n",
        "    priors,\n",
        "    args=(),\n",
        "    branch_names=[\"mbh\"],\n",
        "    tempering_kwargs=dict(ntemps=ntemps),\n",
        "    nleaves_max=dict(mbh=1),\n",
        ")"
      ],
      "metadata": {
        "id": "iodfhOh6-ZAs"
      },
      "execution_count": null,
      "outputs": []
    },
    {
      "cell_type": "markdown",
      "source": [
        "Draw intial parameter values, define the initial state, and compute the log-prior, just like before:"
      ],
      "metadata": {
        "id": "33ZuMu01mo3V"
      }
    },
    {
      "cell_type": "code",
      "source": [],
      "metadata": {
        "id": "Il4PFgWc-e6W"
      },
      "execution_count": null,
      "outputs": []
    },
    {
      "cell_type": "code",
      "source": [
        "sampler_2chnnls.run_mcmc(start_state, nsamples, progress=True)"
      ],
      "metadata": {
        "colab": {
          "base_uri": "https://localhost:8080/"
        },
        "id": "zrv3SzsR-fwa",
        "outputId": "4bdcd683-a61f-498d-e926-4dff3bf15021"
      },
      "execution_count": null,
      "outputs": [
        {
          "output_type": "stream",
          "name": "stderr",
          "text": [
            "100%|██████████| 2000/2000 [23:17<00:00,  1.43it/s]\n"
          ]
        },
        {
          "output_type": "execute_result",
          "data": {
            "text/plain": [
              "<eryn.state.State at 0x7f927cbc2b90>"
            ]
          },
          "metadata": {},
          "execution_count": 56
        }
      ]
    },
    {
      "cell_type": "markdown",
      "source": [
        "Plot the chains:"
      ],
      "metadata": {
        "id": "vAlGZZMcm0lX"
      }
    },
    {
      "cell_type": "code",
      "source": [],
      "metadata": {
        "id": "TOv9e_kVdg20"
      },
      "execution_count": null,
      "outputs": []
    },
    {
      "cell_type": "markdown",
      "source": [
        "Plot posteriors, compare to previous run:"
      ],
      "metadata": {
        "id": "JQwj0j80m4af"
      }
    },
    {
      "cell_type": "code",
      "source": [],
      "metadata": {
        "id": "mGRTaf6W-iPc"
      },
      "execution_count": null,
      "outputs": []
    },
    {
      "cell_type": "markdown",
      "source": [
        "## Example of a full result\n",
        "\n",
        "Here is an example of a full PE. Posterior surfaces can be quite complex."
      ],
      "metadata": {
        "id": "rEkdJocYLZPw"
      }
    },
    {
      "cell_type": "code",
      "source": [
        "!wget \"https://drive.google.com/uc?export=download&id=11aiF_awofaATk-YBdTSpIA9S_35wqxAs\" -O chain_processed_pe_longsegment_ldc.npy\n",
        "chain_processed_pe = np.load('chain_processed_pe_longsegment_ldc.npy')"
      ],
      "metadata": {
        "colab": {
          "base_uri": "https://localhost:8080/"
        },
        "id": "j3pPzdfULdEj",
        "outputId": "deed3e92-b138-4e82-d722-d241b7e6605c"
      },
      "execution_count": null,
      "outputs": [
        {
          "output_type": "stream",
          "name": "stdout",
          "text": [
            "--2024-10-06 17:03:01--  https://drive.google.com/uc?export=download&id=11aiF_awofaATk-YBdTSpIA9S_35wqxAs\n",
            "Resolving drive.google.com (drive.google.com)... 74.125.139.139, 74.125.139.138, 74.125.139.113, ...\n",
            "Connecting to drive.google.com (drive.google.com)|74.125.139.139|:443... connected.\n",
            "HTTP request sent, awaiting response... 303 See Other\n",
            "Location: https://drive.usercontent.google.com/download?id=11aiF_awofaATk-YBdTSpIA9S_35wqxAs&export=download [following]\n",
            "--2024-10-06 17:03:01--  https://drive.usercontent.google.com/download?id=11aiF_awofaATk-YBdTSpIA9S_35wqxAs&export=download\n",
            "Resolving drive.usercontent.google.com (drive.usercontent.google.com)... 173.194.216.132, 2607:f8b0:400c:c12::84\n",
            "Connecting to drive.usercontent.google.com (drive.usercontent.google.com)|173.194.216.132|:443... connected.\n",
            "HTTP request sent, awaiting response... 200 OK\n",
            "Length: 5632128 (5.4M) [application/octet-stream]\n",
            "Saving to: ‘chain_processed_pe_longsegment_ldc.npy’\n",
            "\n",
            "chain_processed_pe_ 100%[===================>]   5.37M  23.6MB/s    in 0.2s    \n",
            "\n",
            "2024-10-06 17:03:05 (23.6 MB/s) - ‘chain_processed_pe_longsegment_ldc.npy’ saved [5632128/5632128]\n",
            "\n"
          ]
        }
      ]
    },
    {
      "cell_type": "code",
      "source": [
        "c = ChainConsumer()\n",
        "\n",
        "infer_params_full_pe = [\n",
        "                   r\"$\\mathcal{M}_\\mathrm{chirp}$\",  \"$q$\",\n",
        "                   r\"$\\chi_p$\", r\"$\\chi_m$\", r\"$\\Delta t$\", \"$d$\",\n",
        "                   \"$i$\", r\"$\\phi$\", r\"$\\lambda$\", r\"$\\beta$\", r\"$\\psi$\"]\n",
        "\n",
        "chain_processed_pe_df = pd.DataFrame(chain_processed_pe, columns=infer_params_full_pe)\n",
        "\n",
        "c.add_chain(Chain(samples=chain_processed_pe_df, name=\"A full PE example\"))\n",
        "\n",
        "fig = c.plotter.plot()\n",
        "\n",
        "mpl.rcParams.update(rcparams)"
      ],
      "metadata": {
        "id": "bn_MMUUjLeMw"
      },
      "execution_count": null,
      "outputs": []
    },
    {
      "cell_type": "code",
      "source": [
        "lambd = chain_processed_pe[:,8]  ### longitude in the LISA-frame\n",
        "beta = chain_processed_pe[:,9]  ### latitude in the LISA-frame\n",
        "\n",
        "fig = plt.figure(figsize=(14,10))\n",
        "ax = fig.add_subplot(111, projection='mollweide')\n",
        "ax.set_title('LISA frame')\n",
        "ax.scatter(lambd, beta, alpha=0.01)\n",
        "\n",
        "params_ldc = {'Cadence': 3.0,\n",
        "              'CoalescenceTime': 4800021.15572853,\n",
        "              'Distance': 17758.367941273442,\n",
        "              'EclipticLatitude': -0.5641023936335077,\n",
        "              'EclipticLongitude': 0.6109268516130327,\n",
        "              'InitialAzimuthalAngleL': 4.094550225563854,\n",
        "              'InitialPolarAngleL': 2.5775388853549464,\n",
        "              'Mass1': 1015522.4376,\n",
        "              'Mass2': 796849.1091,\n",
        "              'ObservationDuration': 31558149.763545603,\n",
        "              'PhaseAtCoalescence': 4.275929308696054,\n",
        "              'PolarAngleOfSpin1': 0.9089723456902256,\n",
        "              'PolarAngleOfSpin2': 1.1816994499122777,\n",
        "              'Redshift': 2.18186,\n",
        "              'Spin1': 0.972661,\n",
        "              'Spin2': 0.972862}\n",
        "\n",
        "params_mbhb0 = FBH.rename_as_lisabeta(params_ldc)\n",
        "tc_guess = 4799395.0\n",
        "params_mbhb0['Deltat'] -= tc_guess\n",
        "# Conventions for the angles (not really required)\n",
        "params_mbhb0['phi'] = pytools.mod2pi(params_mbhb0['phi'])\n",
        "params_mbhb0['psi'] = pytools.modpi(params_mbhb0['psi'])\n",
        "\n",
        "params_mbhb0_Lframe = lisatools.convert_SSBframe_to_Lframe(params_mbhb0, t0=tc_guess/lisaconstants.ASTRONOMICAL_YEAR)\n",
        "\n",
        "ax.scatter(params_mbhb0_Lframe['lambda'], params_mbhb0_Lframe['beta'], c='orange', marker='x')"
      ],
      "metadata": {
        "id": "DZSshSDPLthk"
      },
      "execution_count": null,
      "outputs": []
    },
    {
      "cell_type": "markdown",
      "source": [
        "## Acceleration!\n",
        "\n",
        "\n",
        "\n",
        "*   Use vectorized code when possible: For example, many samplers support vectorized likelihood functions. This means that we can develope a setup, where the input is a 2d array of parameter values, and compute the (also vectorized) model for this array of parameter values. This allows us to compute the likelihood for each walker avoiding MCMC loops.\n",
        "*   Use Parallelization where possible (e.g. parallelize each walker).\n",
        "*   Use of GPUs! Configurations such as the above vectorized likelihoods are ideal for GPU hardware.\n",
        "* Heterodyne Likelihoods (Natalias' presentation, or see [2109.02728](https://arxiv.org/abs/2109.02728))\n",
        "* Proposals!\n",
        "\n"
      ],
      "metadata": {
        "id": "wzGLEXzVVgV1"
      }
    },
    {
      "cell_type": "markdown",
      "source": [
        "## D. Using synthetic data from the available simulators\n",
        "\n",
        "This section attempts to load the data from session and directly fit the signal that was generated. Probably there is no time to go through this, but it's the next natural step."
      ],
      "metadata": {
        "id": "Iw8ZV9l3mnT6"
      }
    },
    {
      "cell_type": "code",
      "source": [
        "!gdown 1qur7TpSbZBAqB9pWkAXUwrxFY6Y7rn0T\n",
        "!gdown 1NX6ypNpNR4c0CbUo0DDt9pV_Knrczjev"
      ],
      "metadata": {
        "colab": {
          "base_uri": "https://localhost:8080/"
        },
        "id": "mFPbeJg0mplw",
        "outputId": "c7b18e01-4aec-448a-faba-7a9414557ecb"
      },
      "execution_count": null,
      "outputs": [
        {
          "output_type": "stream",
          "name": "stdout",
          "text": [
            "Downloading...\n",
            "From: https://drive.google.com/uc?id=1qur7TpSbZBAqB9pWkAXUwrxFY6Y7rn0T\n",
            "To: /content/simulation-gws-tdi2.h5\n",
            "100% 2.40M/2.40M [00:00<00:00, 79.6MB/s]\n",
            "Downloading...\n",
            "From: https://drive.google.com/uc?id=1NX6ypNpNR4c0CbUo0DDt9pV_Knrczjev\n",
            "To: /content/simulation-noise-gws-tdi2.h5\n",
            "100% 2.40M/2.40M [00:00<00:00, 35.6MB/s]\n"
          ]
        }
      ]
    },
    {
      "cell_type": "markdown",
      "source": [
        "Load the XYZ channels and plot them, investigate the content:"
      ],
      "metadata": {
        "id": "iTcRjFoOqZhh"
      }
    },
    {
      "cell_type": "code",
      "source": [
        "fname = 'simulation-noise-gws-tdi2.h5'\n",
        "\n",
        "hdf5 = h5py.File(fname, 'r')"
      ],
      "metadata": {
        "id": "PgWPQKvspGL3"
      },
      "execution_count": null,
      "outputs": []
    },
    {
      "cell_type": "code",
      "source": [
        "X = hdf5[\"X\"]\n",
        "Y = hdf5[\"Y\"]\n",
        "Z = hdf5[\"Z\"]"
      ],
      "metadata": {
        "id": "jif3wrE5pqw4"
      },
      "execution_count": null,
      "outputs": []
    },
    {
      "cell_type": "code",
      "source": [
        "fname = 'simulation-gws-tdi2.h5'\n",
        "\n",
        "hdf5 = h5py.File(fname, 'r')\n",
        "\n",
        "Xgw = hdf5[\"X\"]\n",
        "Ygw = hdf5[\"Y\"]\n",
        "Zgw = hdf5[\"Z\"]"
      ],
      "metadata": {
        "id": "MbUboAoWy6Xm"
      },
      "execution_count": null,
      "outputs": []
    },
    {
      "cell_type": "code",
      "source": [
        "t_start = 11502945.0\n",
        "dt = .25\n",
        "fs = 1/dt\n",
        "tvec = t_start + np.arange(0, len(X)) * dt"
      ],
      "metadata": {
        "id": "pAQeLZtu0xMB"
      },
      "execution_count": null,
      "outputs": []
    },
    {
      "cell_type": "markdown",
      "source": [
        "Plot time series below. Use a `skip` parameter in order to chop the first 300 data points."
      ],
      "metadata": {
        "id": "W4TgLWjlqfIM"
      }
    },
    {
      "cell_type": "code",
      "source": [
        "skip = 300"
      ],
      "metadata": {
        "id": "63no44WPvSxP"
      },
      "execution_count": null,
      "outputs": []
    },
    {
      "cell_type": "markdown",
      "source": [
        "Plot the signal-only time series:"
      ],
      "metadata": {
        "id": "KEJVQcczqrlH"
      }
    },
    {
      "cell_type": "code",
      "source": [],
      "metadata": {
        "id": "V1xq6IWbzaNg"
      },
      "execution_count": null,
      "outputs": []
    },
    {
      "cell_type": "markdown",
      "source": [
        "Zoom-in to actually see the merger:"
      ],
      "metadata": {
        "id": "l5HasHdWqxpi"
      }
    },
    {
      "cell_type": "code",
      "source": [],
      "metadata": {
        "id": "xL4Ih9JJz2-c"
      },
      "execution_count": null,
      "outputs": []
    },
    {
      "cell_type": "markdown",
      "source": [
        "Use the `lisabeta` tools to compute the FFT. Perform some initial tests. Any other tool for spectral analysis would do, but `lisabeta` is convenient:"
      ],
      "metadata": {
        "id": "5fFloijnqr89"
      }
    },
    {
      "cell_type": "code",
      "source": [
        "# Define a window function.\n",
        "w = pytools.window_planck_vec(tvec[skip:], tvec[skip], tvec[-1], 3600., 1000.)\n",
        "\n",
        "# Compute the FFT of the data\n",
        "test_fs = pytools.fft_positivef(np.array([tvec[skip:], w * Xgw[skip:]]).T)"
      ],
      "metadata": {
        "id": "T3lmS0isxlCk"
      },
      "execution_count": null,
      "outputs": []
    },
    {
      "cell_type": "markdown",
      "source": [
        "Plot the amplitude below, after masking the data to get only the frequency range of interest"
      ],
      "metadata": {
        "id": "gGQNkjQCrMkh"
      }
    },
    {
      "cell_type": "code",
      "source": [
        "freq = test_fs[:,0]\n",
        "mask = (1e-5 <= freq) & (freq <= 0.5)"
      ],
      "metadata": {
        "id": "enacwIzd0CoI"
      },
      "execution_count": null,
      "outputs": []
    },
    {
      "cell_type": "code",
      "source": [
        "# Plot"
      ],
      "metadata": {
        "id": "yt6YqYderRoP"
      },
      "execution_count": null,
      "outputs": []
    },
    {
      "cell_type": "markdown",
      "source": [
        "Let us now compute the PSD for each channel for both noisy and noiseless data. We can use the `scipy` libraries, or any other tool we want. The `welch` function can be used as\n",
        "```\n",
        "f, psd_X2 = scipy.signal.welch(data,\n",
        "                               fs=sampling_freq,\n",
        "                               nperseg=n)\n",
        "```"
      ],
      "metadata": {
        "id": "ufA9N6urJmX6"
      }
    },
    {
      "cell_type": "code",
      "source": [
        "\n"
      ],
      "metadata": {
        "id": "--Qu-pHUqmhK"
      },
      "execution_count": null,
      "outputs": []
    },
    {
      "cell_type": "code",
      "source": [],
      "metadata": {
        "id": "VrExXtzqqqN7"
      },
      "execution_count": null,
      "outputs": []
    },
    {
      "cell_type": "markdown",
      "source": [
        "Define a LISA noise model with the `get_noise_model` function for plotting purposes:"
      ],
      "metadata": {
        "id": "JXEuQT8Gr0Gt"
      }
    },
    {
      "cell_type": "code",
      "source": [
        "LISAnoisemodel = get_noise_model('sangria', f[1:])\n",
        "\n",
        "LISAnoisepsd = LISAnoisemodel.psd(f[1:], # avoid zero and a warning\n",
        "                                  option=\"X\",\n",
        "                                  tdi2=True,\n",
        "                                  equal_arms=True)"
      ],
      "metadata": {
        "colab": {
          "base_uri": "https://localhost:8080/"
        },
        "id": "upZXpXFXwn7q",
        "outputId": "cb65b4cf-55c8-4773-bfa2-86d1644ea91e"
      },
      "execution_count": null,
      "outputs": [
        {
          "output_type": "stream",
          "name": "stderr",
          "text": [
            "/usr/local/lib/python3.10/dist-packages/ldc/lisa/noise/noise.py:302: RuntimeWarning: divide by zero encountered in divide\n",
            "  sa_a = AnalyticNoise.psd_a_a[self.model] * (1.0 +(0.4e-3/frq)**2) *\\\n",
            "/usr/local/lib/python3.10/dist-packages/ldc/lisa/noise/noise.py:304: RuntimeWarning: divide by zero encountered in power\n",
            "  self.sa_d = sa_a*(2.*np.pi*frq)**(-4.) # in displacement\n",
            "/usr/local/lib/python3.10/dist-packages/ldc/lisa/noise/noise.py:305: RuntimeWarning: invalid value encountered in multiply\n",
            "  sa_nu = self.sa_d*(2.0*np.pi*frq/CLIGHT)**2 # in rel freq unit\n",
            "/usr/local/lib/python3.10/dist-packages/ldc/lisa/noise/noise.py:309: RuntimeWarning: divide by zero encountered in divide\n",
            "  relax = (1. + (2.e-3/frq)**4) if self.oms_relaxation else 1.0\n",
            "/usr/local/lib/python3.10/dist-packages/ldc/lisa/noise/noise.py:311: RuntimeWarning: invalid value encountered in multiply\n",
            "  s_oms_nu = self.psd_oms_d*(2.0*np.pi*frq/CLIGHT)**2 # in rel freq unit\n",
            "/usr/local/lib/python3.10/dist-packages/ldc/lisa/noise/noise.py:315: RuntimeWarning: divide by zero encountered in divide\n",
            "  self.s_mu = AnalyticNoise.psd_mu_d[self.model] * (1. + (2.e-3/frq)**4)\n",
            "/usr/local/lib/python3.10/dist-packages/ldc/lisa/noise/noise.py:315: RuntimeWarning: invalid value encountered in multiply\n",
            "  self.s_mu = AnalyticNoise.psd_mu_d[self.model] * (1. + (2.e-3/frq)**4)\n"
          ]
        }
      ]
    },
    {
      "cell_type": "markdown",
      "source": [
        "Plot the PSDs of all the data:"
      ],
      "metadata": {
        "id": "w_9wqxJvsB38"
      }
    },
    {
      "cell_type": "code",
      "source": [],
      "metadata": {
        "id": "NbEU8oH6wl-q"
      },
      "execution_count": null,
      "outputs": []
    },
    {
      "cell_type": "markdown",
      "source": [
        "This signal looks a bit strange at lower frequencies. This seems to be a problem that could be improved with windowing. We can use the `lisabeta` tools again, and define a window as an input to the `welch` function:"
      ],
      "metadata": {
        "id": "TRJmnYhNvrhx"
      }
    },
    {
      "cell_type": "code",
      "source": [
        "win = pytools.window_planck_vec(tvec[skip:], tvec[skip], tvec[-1], 3600., 1000.)\n"
      ],
      "metadata": {
        "id": "EMuxv6U0u53x"
      },
      "execution_count": null,
      "outputs": []
    },
    {
      "cell_type": "markdown",
      "source": [
        "Transform to the noise orthogonal TDI variables"
      ],
      "metadata": {
        "id": "2VwV0mMO4TB-"
      }
    },
    {
      "cell_type": "code",
      "source": [
        "def toAET(X,Y,Z):\n",
        "    A = (Z - X)/np.sqrt(2.0)\n",
        "    E = (X - 2.0*Y + Z)/np.sqrt(6.0)\n",
        "    T = (X + Y + Z)/np.sqrt(3.0)\n",
        "    return A, E, T"
      ],
      "metadata": {
        "id": "4a3x2Yup-L-x"
      },
      "execution_count": null,
      "outputs": []
    },
    {
      "cell_type": "code",
      "source": [],
      "metadata": {
        "id": "ofY_w8ht4XBS"
      },
      "execution_count": null,
      "outputs": []
    },
    {
      "cell_type": "markdown",
      "source": [
        "Again, plot the frequency series for the AET channels:"
      ],
      "metadata": {
        "id": "saDhgyc7smBR"
      }
    },
    {
      "cell_type": "code",
      "source": [
        "# Compute spectra"
      ],
      "metadata": {
        "id": "mvX3-liF-gCr"
      },
      "execution_count": null,
      "outputs": []
    },
    {
      "cell_type": "code",
      "source": [
        "# plot"
      ],
      "metadata": {
        "colab": {
          "base_uri": "https://localhost:8080/",
          "height": 753
        },
        "id": "KFOKaWbC_Amj",
        "outputId": "5d7be594-7994-4681-9c44-6920a4e1dd14",
        "collapsed": true
      },
      "execution_count": null,
      "outputs": [
        {
          "output_type": "execute_result",
          "data": {
            "text/plain": [
              "<matplotlib.legend.Legend at 0x7feaca403130>"
            ]
          },
          "metadata": {},
          "execution_count": 118
        },
        {
          "output_type": "display_data",
          "data": {
            "text/plain": [
              "<Figure size 1000x800 with 1 Axes>"
            ],
            "image/png": "[encoded data removed]"
          },
          "metadata": {}
        }
      ]
    },
    {
      "cell_type": "markdown",
      "source": [
        "Define the MBH model again, but now configure it to fir the given data segment (basically we need to shift it in time)."
      ],
      "metadata": {
        "id": "DQNznNFq30hE"
      }
    },
    {
      "cell_type": "code",
      "source": [
        "tmax = pMBHB_ldc[\"CoalescenceTime\"]+5000\n",
        "FBH = FastBHB(\"MBHB\", T=tmax, delta_t=dt, approx=\"IMRPhenomD\")"
      ],
      "metadata": {
        "id": "t-FhNGxKyya5"
      },
      "execution_count": null,
      "outputs": []
    },
    {
      "cell_type": "code",
      "source": [
        "from ldc.common.constants import ASTRONOMICAL_YEAR\n",
        "\n",
        "# auxiliary parameters\n",
        "waveform_params_smbh = {\n",
        "    \"minf\": 1e-5,\n",
        "    \"maxf\": 0.1,\n",
        "    \"t0\": pMBHB_ldc[\"CoalescenceTime\"]/ASTRONOMICAL_YEAR, # Notice this!\n",
        "    \"toffset\": pMBHB_ldc[\"CoalescenceTime\"]/ASTRONOMICAL_YEAR, # Notice this!\n",
        "    \"timetomerger_max\": None,\n",
        "    \"fend\": None,\n",
        "    \"tmin\": tvec[0]/ASTRONOMICAL_YEAR,\n",
        "    \"tmax\": 1.0,\n",
        "    \"phiref\": 0.0,\n",
        "    \"fref_for_phiref\": 0.0,\n",
        "    \"tref\": 0.0,\n",
        "    \"fref_for_tref\": 0.0,\n",
        "    \"force_phiref_fref\": True,\n",
        "    \"modes\": None,\n",
        "    \"TDI\": \"TDI2AET\",\n",
        "    \"acc\": 1e-4,\n",
        "    \"order_fresnel_stencil\": 0,\n",
        "    \"approximant\": \"IMRPhenomD\",\n",
        "    \"responseapprox\": \"full\",\n",
        "    \"frozenLISA\": False,\n",
        "    \"TDIrescaled\": False,\n",
        "}"
      ],
      "metadata": {
        "id": "9kpDUznYyyZ0"
      },
      "execution_count": null,
      "outputs": []
    },
    {
      "cell_type": "code",
      "source": [
        "pMBHB = FBH.rename_as_lisabeta(pMBHB_ldc)\n",
        "\n",
        "tdisignal = lisa.GenerateLISATDISignal_SMBH(pMBHB, **waveform_params_smbh)\n",
        "tdi = tdisignal['tdi']\n",
        "mbh_lb = tdi[(2,2)]"
      ],
      "metadata": {
        "id": "PSZPxMfg4Ezg"
      },
      "execution_count": null,
      "outputs": []
    },
    {
      "cell_type": "markdown",
      "source": [
        "Defien the full frequency vector for the measurement, and compute the template. We do it in the same way as before."
      ],
      "metadata": {
        "id": "CWtofXoXttEs"
      }
    },
    {
      "cell_type": "code",
      "source": [
        "# frequency band of the signal\n",
        "# [...]\n",
        "\n",
        "# constructing signal at each Fouriner freq.\n",
        "Afull = np.conjugate((splAr(fvec) + 1.j*splAi(fvec))*np.exp(1j*splPh(fvec)))"
      ],
      "metadata": {
        "id": "iRxVM1SIA9Fd"
      },
      "execution_count": null,
      "outputs": []
    },
    {
      "cell_type": "code",
      "source": [
        "w = pytools.window_planck_vec(tvec[skip:], tvec[skip], tvec[-1], 3600., 1000.)\n",
        "\n",
        "plt.figure(figsize=(10,8))\n",
        "\n",
        "A_fs = pytools.fft_positivef(np.array([tvec[skip:], w * A[skip:]]).T)\n",
        "\n",
        "freqvec = A_fs[:,0]\n",
        "mask = (1e-5 <= freqvec) & (freqvec <= 0.5)\n",
        "\n",
        "plt.loglog(freqvec[mask], np.abs((A_fs[mask,1] + 1j*A_fs[mask,2])), label = 'A')\n",
        "\n",
        "A_fs_gw = pytools.fft_positivef(np.array([tvec[skip:], w * Agw[skip:]]).T)\n",
        "\n",
        "plt.loglog(freqvec[mask], np.abs((A_fs_gw[mask,1] + 1j*A_fs_gw[mask,2])), linestyle='-', label = 'A (GW only)')\n",
        "\n",
        "plt.loglog(fvec, np.abs(Afull), linestyle='-', label = 'A (model)')\n",
        "\n",
        "# Compute df\n",
        "deltaf = np.abs(freqvec[1]-freqvec[0])\n",
        "\n",
        "plt.loglog(f[1:], np.sqrt(0.5*LISAnoisepsdAE/deltaf), 'k--', label= 'LISA noise model')\n",
        "plt.xlabel('Frequency [Hz]')\n",
        "plt.ylabel(r\"ASD of TDI [/sqrt(Hz)]\")\n",
        "plt.xlim([1e-4, 1e-1]) # restrict frequency band\n",
        "plt.ylim([1e-22, 1e-15]) # restrict frequency band\n",
        "plt.grid()\n",
        "plt.legend(loc=\"upper left\")"
      ],
      "metadata": {
        "id": "w_hKcRHQ4LCQ"
      },
      "execution_count": null,
      "outputs": []
    },
    {
      "cell_type": "markdown",
      "source": [
        "Proceed with defining the likelihood function. We can keep only the frequencies of interest for this particular example."
      ],
      "metadata": {
        "id": "7W8meXCLLWxD"
      }
    },
    {
      "cell_type": "code",
      "source": [
        "new_mask = (1e-3 <= freqvec) & (freqvec <= 2e-2)\n",
        "DA = (A_fs[new_mask,1] + 1j*A_fs[new_mask,2])"
      ],
      "metadata": {
        "id": "71IoOVhJR0vL"
      },
      "execution_count": null,
      "outputs": []
    },
    {
      "cell_type": "code",
      "source": [
        "m1 = pMBHB['m1']\n",
        "m2 = pMBHB['m2']\n",
        "\n",
        "q = m1/m2\n",
        "Mc = (m1+m2)*(q/(1+q)**2)**0.6\n",
        "\n",
        "pMBHB[\"Mchirp\"] = Mc\n",
        "pMBHB[\"q\"] = q\n",
        "\n",
        "pMBHB_fit = copy.deepcopy(pMBHB)\n",
        "\n",
        "# Remove those keys, otherwise the code will\n",
        "# fit for m1 and m2 instead of Mchirp and q.\n",
        "del pMBHB_fit[\"m1\"]\n",
        "del pMBHB_fit[\"m2\"]"
      ],
      "metadata": {
        "id": "wMeYIdOkTNB6"
      },
      "execution_count": null,
      "outputs": []
    },
    {
      "cell_type": "code",
      "source": [
        "fvec_to_use = freqvec[new_mask]"
      ],
      "metadata": {
        "id": "uV-4RJ1UTpyY"
      },
      "execution_count": null,
      "outputs": []
    },
    {
      "cell_type": "code",
      "source": [
        "Nmodel = AnalyticNoise(fvec_to_use, model=\"sangria\")\n",
        "Npsd = Nmodel.psd(option='A', tdi2=True)"
      ],
      "metadata": {
        "id": "Yg3tNJawToEB"
      },
      "execution_count": null,
      "outputs": []
    },
    {
      "cell_type": "code",
      "source": [
        "def likelihood_d(pvector):\n",
        "\n",
        "    Mc, q, dist = pvector[:]\n",
        "\n",
        "    # [...]\n",
        "\n",
        "    return loglik"
      ],
      "metadata": {
        "id": "OhhPbGF6KXhH"
      },
      "execution_count": null,
      "outputs": []
    },
    {
      "cell_type": "code",
      "source": [
        "loglik =  likelihood_d([pMBHB[\"Mchirp\"], pMBHB[\"q\"], pMBHB[\"dist\"]])\n",
        "print (f'for A-TDI likelihood is {loglik}')"
      ],
      "metadata": {
        "colab": {
          "base_uri": "https://localhost:8080/"
        },
        "id": "VxWTJzvdSlI_",
        "outputId": "f8defb7f-8b8b-45e4-8d82-8fac44d63912"
      },
      "execution_count": null,
      "outputs": [
        {
          "output_type": "stream",
          "name": "stdout",
          "text": [
            "for A-TDI likelihood is -1640686.5785002755\n"
          ]
        }
      ]
    },
    {
      "cell_type": "code",
      "source": [
        "ntemps = 5\n",
        "nwalkers = 20\n",
        "nsamples = 2000\n",
        "ndims = {\"mbh\": 3}"
      ],
      "metadata": {
        "id": "YVBbr4vVT2-o"
      },
      "execution_count": null,
      "outputs": []
    },
    {
      "cell_type": "markdown",
      "source": [
        "Define the priors as before, or set-up different priors:"
      ],
      "metadata": {
        "id": "C0EPcJZquxOY"
      }
    },
    {
      "cell_type": "code",
      "source": [],
      "metadata": {
        "id": "bhCAAz7rT9nP"
      },
      "execution_count": null,
      "outputs": []
    },
    {
      "cell_type": "markdown",
      "source": [
        "Defien the sampler:"
      ],
      "metadata": {
        "id": "a_mYmh9Ku5B1"
      }
    },
    {
      "cell_type": "code",
      "source": [],
      "metadata": {
        "id": "5nXVfirFSp9Q"
      },
      "execution_count": null,
      "outputs": []
    },
    {
      "cell_type": "markdown",
      "source": [
        "Draw initial points for the walkers:"
      ],
      "metadata": {
        "id": "x-5Gwvzhu721"
      }
    },
    {
      "cell_type": "code",
      "source": [],
      "metadata": {
        "id": "mU2HgSe0Subr"
      },
      "execution_count": null,
      "outputs": []
    },
    {
      "cell_type": "code",
      "source": [
        "sampler_d.run_mcmc(start_state, nsamples, progress=True)"
      ],
      "metadata": {
        "colab": {
          "base_uri": "https://localhost:8080/"
        },
        "id": "2-akqs58S3hr",
        "outputId": "a69d61ff-4a53-4c31-cc46-1adef993cbf7"
      },
      "execution_count": null,
      "outputs": [
        {
          "output_type": "stream",
          "name": "stderr",
          "text": [
            "100%|██████████| 2000/2000 [05:19<00:00,  6.26it/s]\n"
          ]
        },
        {
          "output_type": "execute_result",
          "data": {
            "text/plain": [
              "<eryn.state.State at 0x7feac6b47370>"
            ]
          },
          "metadata": {},
          "execution_count": 201
        }
      ]
    },
    {
      "cell_type": "markdown",
      "source": [
        "Plot the chains and posteriors:"
      ],
      "metadata": {
        "id": "-EhQwJWSvNZk"
      }
    },
    {
      "cell_type": "code",
      "source": [],
      "metadata": {
        "id": "UhqFKB04S7dz"
      },
      "execution_count": null,
      "outputs": []
    },
    {
      "cell_type": "code",
      "source": [],
      "metadata": {
        "id": "VGyzD67jS7zm"
      },
      "execution_count": null,
      "outputs": []
    },
    {
      "cell_type": "markdown",
      "source": [
        "# $fin$"
      ],
      "metadata": {
        "id": "3j8gmUE7MIeE"
      }
    }
  ]
}